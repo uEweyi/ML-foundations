{
  "nbformat": 4,
  "nbformat_minor": 0,
  "metadata": {
    "colab": {
      "name": "7-algos-and-data-structures.ipynb",
      "provenance": [],
      "include_colab_link": true
    },
    "kernelspec": {
      "display_name": "Python 3",
      "language": "python",
      "name": "python3"
    },
    "language_info": {
      "codemirror_mode": {
        "name": "ipython",
        "version": 3
      },
      "file_extension": ".py",
      "mimetype": "text/x-python",
      "name": "python",
      "nbconvert_exporter": "python",
      "pygments_lexer": "ipython3",
      "version": "3.7.6"
    }
  },
  "cells": [
    {
      "cell_type": "markdown",
      "metadata": {
        "id": "view-in-github",
        "colab_type": "text"
      },
      "source": [
        "<a href=\"https://colab.research.google.com/github/jonkrohn/ML-foundations/blob/master/notebooks/7-algos-and-data-structures.ipynb\" target=\"_parent\"><img src=\"https://colab.research.google.com/assets/colab-badge.svg\" alt=\"Open In Colab\"/></a>"
      ]
    },
    {
      "cell_type": "markdown",
      "metadata": {
        "id": "aTOLgsbN69-P"
      },
      "source": [
        "# Algorithms & Data Structures"
      ]
    },
    {
      "cell_type": "markdown",
      "metadata": {
        "id": "yqUB9FTRAxd-"
      },
      "source": [
        "This class, *Algorithms & Data Structures*, introduces the most important computer science topics for machine learning, enabling you to design and deploy computationally efficient data models. \n",
        "\n",
        "Through the measured exposition of theory paired with interactive examples, you’ll develop a working understanding of all of the essential data structures across the list, dictionary, tree, and graph families. You’ll also learn the key algorithms for working with these structures, including those for searching, sorting, hashing, and traversing data. \n",
        "\n",
        "The content covered in this class is itself foundational for the *Optimization* class of the *Machine Learning Foundations* series."
      ]
    },
    {
      "cell_type": "markdown",
      "metadata": {
        "id": "d4tBvI88BheF"
      },
      "source": [
        "Over the course of studying this topic, you'll: \n",
        "\n",
        "* Use “Big O” notation to characterize the time efficiency and space efficiency of a given algorithm, enabling you to select or devise the most sensible approach for tackling a particular machine learning problem with the hardware resources available to you.\n",
        "* Get acquainted with the entire range of the most widely-used Python data structures, including list-, dictionary-, tree-, and graph-based structures. \n",
        "* Develop an understanding of all of the essential algorithms for working with data, including those for searching, sorting, hashing, and traversing. \n"
      ]
    },
    {
      "cell_type": "markdown",
      "metadata": {
        "id": "Z68nQ0ekCYhF"
      },
      "source": [
        "**Note that this Jupyter notebook is not intended to stand alone. It is the companion code to a lecture or to videos from Jon Krohn's [Machine Learning Foundations](https://github.com/jonkrohn/ML-foundations) series, which offer detail on the following:**\n",
        "\n",
        "*Segment 1: Introduction to Data Structures and Algorithms*\n",
        "* A Brief History of Data\n",
        "* A Brief History of Algorithms\n",
        "* “Big O” Notation for Time and Space Complexity \n",
        " \n",
        "*Segment 2: Lists and Dictionaries*\n",
        "* List-Based Data Structures: Arrays, Linked Lists, Stacks, Queues, and Deques \n",
        "* Searching and Sorting: Binary, Bubble, Merge, and Quick\n",
        "* Set-Based Data Structures: Maps and Dictionaries\n",
        "* Hashing: Hash Tables, Load Factors, and Hash Maps\n",
        "\n",
        "*Segment 3: Trees and Graphs*\n",
        "* Trees: Decision Trees, Random Forests, and Gradient-Boosting (XGBoost)\n",
        "* Graphs: Terminology, Directed Acyclic Graphs (DAGs)\n",
        "* Resources for Further Study of Data Structures & Algorithms\n"
      ]
    },
    {
      "cell_type": "markdown",
      "metadata": {
        "id": "US_XIfDtbQ97"
      },
      "source": [
        "# Segment 1: Intro to Data Structures & Algorithms"
      ]
    },
    {
      "cell_type": "markdown",
      "metadata": {
        "id": "Ovp27r5XbQ98"
      },
      "source": [
        "### \"Big O\" Notation"
      ]
    },
    {
      "cell_type": "code",
      "metadata": {
        "id": "H9P5M6chbQ98"
      },
      "source": [
        "import numpy as np\n",
        "import tensorflow as tf\n",
        "import torch\n",
        "import pandas as pd\n",
        "import matplotlib.pyplot as plt\n",
        "import seaborn as sns\n",
        "import time # for timing processes\n",
        "import random # for generating random values"
      ],
      "execution_count": 1,
      "outputs": []
    },
    {
      "cell_type": "markdown",
      "metadata": {
        "id": "rG1p0sPTbQ9_"
      },
      "source": [
        "#### Constant Time"
      ]
    },
    {
      "cell_type": "code",
      "metadata": {
        "id": "vjkFiJxCbQ-A"
      },
      "source": [
        "def take_first(my_list):\n",
        "    return my_list[0]"
      ],
      "execution_count": 2,
      "outputs": []
    },
    {
      "cell_type": "code",
      "metadata": {
        "id": "HgiIJRe0bQ-C"
      },
      "source": [
        "short_list = [13, 25, 42]"
      ],
      "execution_count": 3,
      "outputs": []
    },
    {
      "cell_type": "code",
      "metadata": {
        "id": "GV9YDEMSbQ-F"
      },
      "source": [
        "tic = time.process_time() # if using a version of Python older than 3.3, you can use time.clock() here\n",
        "first = take_first(short_list)\n",
        "toc = time.process_time()"
      ],
      "execution_count": 4,
      "outputs": []
    },
    {
      "cell_type": "code",
      "metadata": {
        "id": "rK1UsYwgbQ-H",
        "colab": {
          "base_uri": "https://localhost:8080/"
        },
        "outputId": "7b8b0ce4-7454-4c9c-a273-17435c485ebf"
      },
      "source": [
        "first"
      ],
      "execution_count": 5,
      "outputs": [
        {
          "output_type": "execute_result",
          "data": {
            "text/plain": [
              "13"
            ]
          },
          "metadata": {},
          "execution_count": 5
        }
      ]
    },
    {
      "cell_type": "code",
      "metadata": {
        "id": "q4Ek1NZXbQ-L",
        "colab": {
          "base_uri": "https://localhost:8080/"
        },
        "outputId": "46b0f8ef-5abc-4d7f-ef83-261b6b3b8c3f"
      },
      "source": [
        "toc-tic"
      ],
      "execution_count": 6,
      "outputs": [
        {
          "output_type": "execute_result",
          "data": {
            "text/plain": [
              "0.0001429589999997205"
            ]
          },
          "metadata": {},
          "execution_count": 6
        }
      ]
    },
    {
      "cell_type": "code",
      "metadata": {
        "id": "7gOQ5YsDbQ-N"
      },
      "source": [
        "long_list = [42] * 10**8 # one hundred million items"
      ],
      "execution_count": 7,
      "outputs": []
    },
    {
      "cell_type": "code",
      "metadata": {
        "id": "mvlDw_QubQ-Q",
        "colab": {
          "base_uri": "https://localhost:8080/"
        },
        "outputId": "1daa07a3-d3be-4b31-9b6f-10d767cb0d7b"
      },
      "source": [
        "len(long_list)"
      ],
      "execution_count": 8,
      "outputs": [
        {
          "output_type": "execute_result",
          "data": {
            "text/plain": [
              "100000000"
            ]
          },
          "metadata": {},
          "execution_count": 8
        }
      ]
    },
    {
      "cell_type": "code",
      "metadata": {
        "id": "atHBBvjUbQ-S"
      },
      "source": [
        "tic = time.process_time()\n",
        "first = take_first(long_list)\n",
        "toc = time.process_time()"
      ],
      "execution_count": 9,
      "outputs": []
    },
    {
      "cell_type": "code",
      "metadata": {
        "id": "c5-RorglbQ-V",
        "colab": {
          "base_uri": "https://localhost:8080/"
        },
        "outputId": "64963d87-d96a-4b4f-ce9a-c8a96d5dd829"
      },
      "source": [
        "toc-tic"
      ],
      "execution_count": 10,
      "outputs": [
        {
          "output_type": "execute_result",
          "data": {
            "text/plain": [
              "3.711300000119877e-05"
            ]
          },
          "metadata": {},
          "execution_count": 10
        }
      ]
    },
    {
      "cell_type": "code",
      "metadata": {
        "id": "VOzWLc7hbQ-Y",
        "colab": {
          "base_uri": "https://localhost:8080/"
        },
        "outputId": "fd1e6285-5519-4f5d-e867-55ca4712693f"
      },
      "source": [
        "list_lengths = [10**l for l in range(1, 8)]\n",
        "list_lengths"
      ],
      "execution_count": 11,
      "outputs": [
        {
          "output_type": "execute_result",
          "data": {
            "text/plain": [
              "[10, 100, 1000, 10000, 100000, 1000000, 10000000]"
            ]
          },
          "metadata": {},
          "execution_count": 11
        }
      ]
    },
    {
      "cell_type": "code",
      "metadata": {
        "id": "P_cblOS1bQ-b"
      },
      "source": [
        "constant_times = []\n",
        "\n",
        "for l in list_lengths:\n",
        "    lst = [42]*l\n",
        "  \n",
        "    tic = time.process_time()\n",
        "    x = take_first(lst)\n",
        "    toc = time.process_time()\n",
        "  \n",
        "    constant_times.append(toc-tic)"
      ],
      "execution_count": 12,
      "outputs": []
    },
    {
      "cell_type": "code",
      "metadata": {
        "id": "75ZhYcELbQ-f",
        "colab": {
          "base_uri": "https://localhost:8080/",
          "height": 265
        },
        "outputId": "86163de0-75c0-46ea-8988-b74a2df31748"
      },
      "source": [
        "constant_df = pd.DataFrame(list(zip(list_lengths, constant_times)), columns=['n', 'time'])\n",
        "constant_df"
      ],
      "execution_count": 13,
      "outputs": [
        {
          "output_type": "execute_result",
          "data": {
            "text/html": [
              "<div>\n",
              "<style scoped>\n",
              "    .dataframe tbody tr th:only-of-type {\n",
              "        vertical-align: middle;\n",
              "    }\n",
              "\n",
              "    .dataframe tbody tr th {\n",
              "        vertical-align: top;\n",
              "    }\n",
              "\n",
              "    .dataframe thead th {\n",
              "        text-align: right;\n",
              "    }\n",
              "</style>\n",
              "<table border=\"1\" class=\"dataframe\">\n",
              "  <thead>\n",
              "    <tr style=\"text-align: right;\">\n",
              "      <th></th>\n",
              "      <th>n</th>\n",
              "      <th>time</th>\n",
              "    </tr>\n",
              "  </thead>\n",
              "  <tbody>\n",
              "    <tr>\n",
              "      <th>0</th>\n",
              "      <td>10</td>\n",
              "      <td>0.000005</td>\n",
              "    </tr>\n",
              "    <tr>\n",
              "      <th>1</th>\n",
              "      <td>100</td>\n",
              "      <td>0.000002</td>\n",
              "    </tr>\n",
              "    <tr>\n",
              "      <th>2</th>\n",
              "      <td>1000</td>\n",
              "      <td>0.000001</td>\n",
              "    </tr>\n",
              "    <tr>\n",
              "      <th>3</th>\n",
              "      <td>10000</td>\n",
              "      <td>0.000001</td>\n",
              "    </tr>\n",
              "    <tr>\n",
              "      <th>4</th>\n",
              "      <td>100000</td>\n",
              "      <td>0.000006</td>\n",
              "    </tr>\n",
              "    <tr>\n",
              "      <th>5</th>\n",
              "      <td>1000000</td>\n",
              "      <td>0.000005</td>\n",
              "    </tr>\n",
              "    <tr>\n",
              "      <th>6</th>\n",
              "      <td>10000000</td>\n",
              "      <td>0.000008</td>\n",
              "    </tr>\n",
              "  </tbody>\n",
              "</table>\n",
              "</div>"
            ],
            "text/plain": [
              "          n      time\n",
              "0        10  0.000005\n",
              "1       100  0.000002\n",
              "2      1000  0.000001\n",
              "3     10000  0.000001\n",
              "4    100000  0.000006\n",
              "5   1000000  0.000005\n",
              "6  10000000  0.000008"
            ]
          },
          "metadata": {},
          "execution_count": 13
        }
      ]
    },
    {
      "cell_type": "markdown",
      "metadata": {
        "id": "OuN_BT2cbQ-h"
      },
      "source": [
        "#### Linear Time"
      ]
    },
    {
      "cell_type": "code",
      "metadata": {
        "id": "FZL22BUebQ-i"
      },
      "source": [
        "def find_max(my_list):\n",
        "    max_value = my_list[0]\n",
        "    for i in range(len(my_list)):\n",
        "        if my_list[i] > max_value:\n",
        "            max_value = my_list[i]\n",
        "    return max_value"
      ],
      "execution_count": 14,
      "outputs": []
    },
    {
      "cell_type": "code",
      "metadata": {
        "id": "gcN1QkRMbQ-l"
      },
      "source": [
        "tic = time.process_time()\n",
        "largest = find_max(short_list)\n",
        "toc = time.process_time()"
      ],
      "execution_count": 15,
      "outputs": []
    },
    {
      "cell_type": "code",
      "metadata": {
        "id": "8lMMH3ckbQ-o",
        "colab": {
          "base_uri": "https://localhost:8080/"
        },
        "outputId": "1b5b694f-4321-4d2e-f308-62605aa7d2f5"
      },
      "source": [
        "toc-tic"
      ],
      "execution_count": 16,
      "outputs": [
        {
          "output_type": "execute_result",
          "data": {
            "text/plain": [
              "7.713299999956291e-05"
            ]
          },
          "metadata": {},
          "execution_count": 16
        }
      ]
    },
    {
      "cell_type": "code",
      "metadata": {
        "id": "z6wEKdTVbQ-q",
        "colab": {
          "base_uri": "https://localhost:8080/"
        },
        "outputId": "f0cdd9b7-1ecd-458e-e2c5-60f9be5c32f0"
      },
      "source": [
        "largest"
      ],
      "execution_count": 17,
      "outputs": [
        {
          "output_type": "execute_result",
          "data": {
            "text/plain": [
              "42"
            ]
          },
          "metadata": {},
          "execution_count": 17
        }
      ]
    },
    {
      "cell_type": "code",
      "metadata": {
        "id": "aWCO7ykabQ-s"
      },
      "source": [
        "tic = time.process_time()\n",
        "largest = find_max(long_list)\n",
        "toc = time.process_time()"
      ],
      "execution_count": 18,
      "outputs": []
    },
    {
      "cell_type": "code",
      "metadata": {
        "id": "Ml1ymMSdbQ-u",
        "colab": {
          "base_uri": "https://localhost:8080/"
        },
        "outputId": "b5acbb3f-0180-44bf-90bc-68b53ea3f921"
      },
      "source": [
        "toc-tic"
      ],
      "execution_count": 19,
      "outputs": [
        {
          "output_type": "execute_result",
          "data": {
            "text/plain": [
              "7.0836449949999984"
            ]
          },
          "metadata": {},
          "execution_count": 19
        }
      ]
    },
    {
      "cell_type": "code",
      "metadata": {
        "id": "tNNuyd8vbQ-w",
        "colab": {
          "base_uri": "https://localhost:8080/"
        },
        "outputId": "abd9657d-ee84-4fab-ff8f-2cf0d3d39b09"
      },
      "source": [
        "largest"
      ],
      "execution_count": 20,
      "outputs": [
        {
          "output_type": "execute_result",
          "data": {
            "text/plain": [
              "42"
            ]
          },
          "metadata": {},
          "execution_count": 20
        }
      ]
    },
    {
      "cell_type": "code",
      "metadata": {
        "id": "M8CH9iVqbQ-y"
      },
      "source": [
        "linear_times = []\n",
        "\n",
        "for l in list_lengths:\n",
        "    lst = [42]*l\n",
        "  \n",
        "    tic = time.process_time()\n",
        "    x = find_max(lst)\n",
        "    toc = time.process_time()\n",
        "  \n",
        "    linear_times.append(toc-tic)"
      ],
      "execution_count": 21,
      "outputs": []
    },
    {
      "cell_type": "code",
      "metadata": {
        "id": "WdH0rse1bQ-0",
        "colab": {
          "base_uri": "https://localhost:8080/",
          "height": 265
        },
        "outputId": "0f9599e4-286d-4b73-d31d-8bd5106d9b38"
      },
      "source": [
        "linear_df = pd.DataFrame(list(zip(list_lengths, linear_times)), columns=['n', 'time'])\n",
        "linear_df"
      ],
      "execution_count": 22,
      "outputs": [
        {
          "output_type": "execute_result",
          "data": {
            "text/html": [
              "<div>\n",
              "<style scoped>\n",
              "    .dataframe tbody tr th:only-of-type {\n",
              "        vertical-align: middle;\n",
              "    }\n",
              "\n",
              "    .dataframe tbody tr th {\n",
              "        vertical-align: top;\n",
              "    }\n",
              "\n",
              "    .dataframe thead th {\n",
              "        text-align: right;\n",
              "    }\n",
              "</style>\n",
              "<table border=\"1\" class=\"dataframe\">\n",
              "  <thead>\n",
              "    <tr style=\"text-align: right;\">\n",
              "      <th></th>\n",
              "      <th>n</th>\n",
              "      <th>time</th>\n",
              "    </tr>\n",
              "  </thead>\n",
              "  <tbody>\n",
              "    <tr>\n",
              "      <th>0</th>\n",
              "      <td>10</td>\n",
              "      <td>0.000009</td>\n",
              "    </tr>\n",
              "    <tr>\n",
              "      <th>1</th>\n",
              "      <td>100</td>\n",
              "      <td>0.000013</td>\n",
              "    </tr>\n",
              "    <tr>\n",
              "      <th>2</th>\n",
              "      <td>1000</td>\n",
              "      <td>0.000119</td>\n",
              "    </tr>\n",
              "    <tr>\n",
              "      <th>3</th>\n",
              "      <td>10000</td>\n",
              "      <td>0.001313</td>\n",
              "    </tr>\n",
              "    <tr>\n",
              "      <th>4</th>\n",
              "      <td>100000</td>\n",
              "      <td>0.034561</td>\n",
              "    </tr>\n",
              "    <tr>\n",
              "      <th>5</th>\n",
              "      <td>1000000</td>\n",
              "      <td>0.070593</td>\n",
              "    </tr>\n",
              "    <tr>\n",
              "      <th>6</th>\n",
              "      <td>10000000</td>\n",
              "      <td>0.718246</td>\n",
              "    </tr>\n",
              "  </tbody>\n",
              "</table>\n",
              "</div>"
            ],
            "text/plain": [
              "          n      time\n",
              "0        10  0.000009\n",
              "1       100  0.000013\n",
              "2      1000  0.000119\n",
              "3     10000  0.001313\n",
              "4    100000  0.034561\n",
              "5   1000000  0.070593\n",
              "6  10000000  0.718246"
            ]
          },
          "metadata": {},
          "execution_count": 22
        }
      ]
    },
    {
      "cell_type": "code",
      "metadata": {
        "id": "NcAT8vylbQ-2",
        "colab": {
          "base_uri": "https://localhost:8080/",
          "height": 369
        },
        "outputId": "5812d47e-64c6-45da-e463-ba5dc7d9a2cd"
      },
      "source": [
        "_ = sns.lmplot(x='n', y='time', data=linear_df, ci=None) # linear model (regression) plot"
      ],
      "execution_count": 23,
      "outputs": [
        {
          "output_type": "display_data",
          "data": {
            "image/png": "[encoded data removed]",
            "text/plain": [
              "<Figure size 360x360 with 1 Axes>"
            ]
          },
          "metadata": {
            "needs_background": "light"
          }
        }
      ]
    },
    {
      "cell_type": "markdown",
      "metadata": {
        "id": "yDkSjD7QbQ-4"
      },
      "source": [
        "#### Polynomial Time"
      ]
    },
    {
      "cell_type": "code",
      "metadata": {
        "id": "GDU07KttbQ-5"
      },
      "source": [
        "def element_multiplier(my_list): \n",
        "    for i in range(len(my_list)):\n",
        "        for j in range(len(my_list)):\n",
        "            x = my_list[i] * my_list[j]"
      ],
      "execution_count": 24,
      "outputs": []
    },
    {
      "cell_type": "code",
      "metadata": {
        "id": "gKJhMq94bQ-7",
        "colab": {
          "base_uri": "https://localhost:8080/"
        },
        "outputId": "c13ddda9-01cc-48e1-f1ac-3b8579058d2f"
      },
      "source": [
        "list_lengths"
      ],
      "execution_count": 25,
      "outputs": [
        {
          "output_type": "execute_result",
          "data": {
            "text/plain": [
              "[10, 100, 1000, 10000, 100000, 1000000, 10000000]"
            ]
          },
          "metadata": {},
          "execution_count": 25
        }
      ]
    },
    {
      "cell_type": "code",
      "metadata": {
        "id": "8POGVlk_bQ-9",
        "colab": {
          "base_uri": "https://localhost:8080/"
        },
        "outputId": "3f455d2c-7563-43a4-854d-fd34048f17e6"
      },
      "source": [
        "list_lengths[:4] # compute time gets annoyingly long from list_lengths[5] onward"
      ],
      "execution_count": 26,
      "outputs": [
        {
          "output_type": "execute_result",
          "data": {
            "text/plain": [
              "[10, 100, 1000, 10000]"
            ]
          },
          "metadata": {},
          "execution_count": 26
        }
      ]
    },
    {
      "cell_type": "code",
      "metadata": {
        "id": "HSTNVTA1bQ_A",
        "colab": {
          "base_uri": "https://localhost:8080/"
        },
        "outputId": "ee24beaf-32c4-4361-a42c-7d1aac98f61b"
      },
      "source": [
        "granular_list_lengths = list_lengths[:4] + [50, 500, 5000]\n",
        "granular_list_lengths.sort()\n",
        "granular_list_lengths"
      ],
      "execution_count": 27,
      "outputs": [
        {
          "output_type": "execute_result",
          "data": {
            "text/plain": [
              "[10, 50, 100, 500, 1000, 5000, 10000]"
            ]
          },
          "metadata": {},
          "execution_count": 27
        }
      ]
    },
    {
      "cell_type": "code",
      "metadata": {
        "id": "luWZPfGkbQ_B"
      },
      "source": [
        "poly_times = []\n",
        "\n",
        "for l in granular_list_lengths:\n",
        "    lst = [42]*l\n",
        "\n",
        "    tic = time.process_time()\n",
        "    x = element_multiplier(lst)\n",
        "    toc = time.process_time()\n",
        "\n",
        "    poly_times.append(toc-tic)"
      ],
      "execution_count": 28,
      "outputs": []
    },
    {
      "cell_type": "code",
      "metadata": {
        "id": "LuIgiv79bQ_E",
        "colab": {
          "base_uri": "https://localhost:8080/",
          "height": 265
        },
        "outputId": "4447ced8-b8bb-4d37-eff2-68c0d64d6916"
      },
      "source": [
        "poly_df = pd.DataFrame(list(zip(granular_list_lengths, poly_times)), columns=['n', 'time'])\n",
        "poly_df"
      ],
      "execution_count": 29,
      "outputs": [
        {
          "output_type": "execute_result",
          "data": {
            "text/html": [
              "<div>\n",
              "<style scoped>\n",
              "    .dataframe tbody tr th:only-of-type {\n",
              "        vertical-align: middle;\n",
              "    }\n",
              "\n",
              "    .dataframe tbody tr th {\n",
              "        vertical-align: top;\n",
              "    }\n",
              "\n",
              "    .dataframe thead th {\n",
              "        text-align: right;\n",
              "    }\n",
              "</style>\n",
              "<table border=\"1\" class=\"dataframe\">\n",
              "  <thead>\n",
              "    <tr style=\"text-align: right;\">\n",
              "      <th></th>\n",
              "      <th>n</th>\n",
              "      <th>time</th>\n",
              "    </tr>\n",
              "  </thead>\n",
              "  <tbody>\n",
              "    <tr>\n",
              "      <th>0</th>\n",
              "      <td>10</td>\n",
              "      <td>0.000030</td>\n",
              "    </tr>\n",
              "    <tr>\n",
              "      <th>1</th>\n",
              "      <td>50</td>\n",
              "      <td>0.000452</td>\n",
              "    </tr>\n",
              "    <tr>\n",
              "      <th>2</th>\n",
              "      <td>100</td>\n",
              "      <td>0.001782</td>\n",
              "    </tr>\n",
              "    <tr>\n",
              "      <th>3</th>\n",
              "      <td>500</td>\n",
              "      <td>0.028927</td>\n",
              "    </tr>\n",
              "    <tr>\n",
              "      <th>4</th>\n",
              "      <td>1000</td>\n",
              "      <td>0.107374</td>\n",
              "    </tr>\n",
              "    <tr>\n",
              "      <th>5</th>\n",
              "      <td>5000</td>\n",
              "      <td>2.760445</td>\n",
              "    </tr>\n",
              "    <tr>\n",
              "      <th>6</th>\n",
              "      <td>10000</td>\n",
              "      <td>10.769232</td>\n",
              "    </tr>\n",
              "  </tbody>\n",
              "</table>\n",
              "</div>"
            ],
            "text/plain": [
              "       n       time\n",
              "0     10   0.000030\n",
              "1     50   0.000452\n",
              "2    100   0.001782\n",
              "3    500   0.028927\n",
              "4   1000   0.107374\n",
              "5   5000   2.760445\n",
              "6  10000  10.769232"
            ]
          },
          "metadata": {},
          "execution_count": 29
        }
      ]
    },
    {
      "cell_type": "code",
      "metadata": {
        "id": "YRPtWuObbQ_G",
        "colab": {
          "base_uri": "https://localhost:8080/",
          "height": 369
        },
        "outputId": "792716e1-9b76-4fcc-d5ad-b66790a356d6"
      },
      "source": [
        "_ = sns.lmplot(x='n', y='time', data=poly_df, ci=None, order=2)"
      ],
      "execution_count": 30,
      "outputs": [
        {
          "output_type": "display_data",
          "data": {
            "image/png": "[encoded data removed]",
            "text/plain": [
              "<Figure size 360x360 with 1 Axes>"
            ]
          },
          "metadata": {
            "needs_background": "light"
          }
        }
      ]
    },
    {
      "cell_type": "markdown",
      "metadata": {
        "id": "mBOSI7RgbQ_I"
      },
      "source": [
        "**In Big O notation**:\n",
        "\n",
        "* Constant: O(1)\n",
        "* Linear: O($n$)\n",
        "* Polynomial: O($n^2$)"
      ]
    },
    {
      "cell_type": "markdown",
      "metadata": {
        "id": "S-Iu9v9pbQ_I"
      },
      "source": [
        "**Other common runtimes**:\n",
        "\n",
        "* Logarithmic: O(log $n$)\n",
        "* Exponential: O($2^n$)\n",
        "* O($n$ log $n$)\n",
        "* O($n!$)"
      ]
    },
    {
      "cell_type": "markdown",
      "metadata": {
        "id": "yEmvHfjDbQ_I"
      },
      "source": [
        "**Return to slides here.**"
      ]
    },
    {
      "cell_type": "markdown",
      "metadata": {
        "id": "uwkFwWfGbQ_J"
      },
      "source": [
        "## Segment 2: Lists and Dictionaries"
      ]
    },
    {
      "cell_type": "markdown",
      "metadata": {
        "id": "75kQx0StbQ_J"
      },
      "source": [
        "### List-Based Data Structures"
      ]
    },
    {
      "cell_type": "markdown",
      "metadata": {
        "id": "LMZUkiBzbQ_K"
      },
      "source": [
        "#### Lists"
      ]
    },
    {
      "cell_type": "code",
      "metadata": {
        "id": "bYjn-LUvbQ_K",
        "colab": {
          "base_uri": "https://localhost:8080/"
        },
        "outputId": "321cc59b-3bf3-4491-d704-e366e54131ca"
      },
      "source": [
        "t = [25, 2, 5]\n",
        "t"
      ],
      "execution_count": 31,
      "outputs": [
        {
          "output_type": "execute_result",
          "data": {
            "text/plain": [
              "[25, 2, 5]"
            ]
          },
          "metadata": {},
          "execution_count": 31
        }
      ]
    },
    {
      "cell_type": "markdown",
      "metadata": {
        "id": "_9ue0FJzbQ_M"
      },
      "source": [
        "Lists in Python are **extensible** by default: "
      ]
    },
    {
      "cell_type": "code",
      "metadata": {
        "id": "BxLoVg9LbQ_N",
        "colab": {
          "base_uri": "https://localhost:8080/"
        },
        "outputId": "93fa8d27-0df2-47c5-8f1f-0f38737894d4"
      },
      "source": [
        "t.append(26)\n",
        "t"
      ],
      "execution_count": 32,
      "outputs": [
        {
          "output_type": "execute_result",
          "data": {
            "text/plain": [
              "[25, 2, 5, 26]"
            ]
          },
          "metadata": {},
          "execution_count": 32
        }
      ]
    },
    {
      "cell_type": "code",
      "metadata": {
        "id": "nn0mjz8IbQ_P",
        "colab": {
          "base_uri": "https://localhost:8080/"
        },
        "outputId": "f5891491-5596-4a9e-ccc9-b33cfdd8bb09"
      },
      "source": [
        "t[2]"
      ],
      "execution_count": 33,
      "outputs": [
        {
          "output_type": "execute_result",
          "data": {
            "text/plain": [
              "5"
            ]
          },
          "metadata": {},
          "execution_count": 33
        }
      ]
    },
    {
      "cell_type": "markdown",
      "metadata": {
        "id": "pNCGZLPibQ_Q"
      },
      "source": [
        "Cannot apply mathematical operators, e.g., try uncommenting: "
      ]
    },
    {
      "cell_type": "code",
      "metadata": {
        "id": "UYOXE7t3bQ_R"
      },
      "source": [
        "# t/2"
      ],
      "execution_count": 34,
      "outputs": []
    },
    {
      "cell_type": "markdown",
      "metadata": {
        "id": "3bqqZduEbQ_T"
      },
      "source": [
        "**Return to slides here.**"
      ]
    },
    {
      "cell_type": "markdown",
      "metadata": {
        "id": "IO1j-BB3bQ_T"
      },
      "source": [
        "#### Arrays"
      ]
    },
    {
      "cell_type": "code",
      "metadata": {
        "id": "T9Wufa8ZbQ_U",
        "colab": {
          "base_uri": "https://localhost:8080/"
        },
        "outputId": "9426bbca-f8dc-4db8-ed35-e8e701447742"
      },
      "source": [
        "x = np.array([25, 2, 5])\n",
        "x"
      ],
      "execution_count": 35,
      "outputs": [
        {
          "output_type": "execute_result",
          "data": {
            "text/plain": [
              "array([25,  2,  5])"
            ]
          },
          "metadata": {},
          "execution_count": 35
        }
      ]
    },
    {
      "cell_type": "code",
      "metadata": {
        "id": "ILAFgARTbQ_W",
        "colab": {
          "base_uri": "https://localhost:8080/"
        },
        "outputId": "817d9154-a7b4-4ca6-f2cd-cdb74d416b4d"
      },
      "source": [
        "x[2]"
      ],
      "execution_count": 36,
      "outputs": [
        {
          "output_type": "execute_result",
          "data": {
            "text/plain": [
              "5"
            ]
          },
          "metadata": {},
          "execution_count": 36
        }
      ]
    },
    {
      "cell_type": "code",
      "metadata": {
        "id": "eaQZXwGYbQ_Y",
        "colab": {
          "base_uri": "https://localhost:8080/"
        },
        "outputId": "fd947833-775c-4ec5-8ee9-d1eccf3dff14"
      },
      "source": [
        "x/2."
      ],
      "execution_count": 37,
      "outputs": [
        {
          "output_type": "execute_result",
          "data": {
            "text/plain": [
              "array([12.5,  1. ,  2.5])"
            ]
          },
          "metadata": {},
          "execution_count": 37
        }
      ]
    },
    {
      "cell_type": "code",
      "metadata": {
        "id": "O2njtLKPbQ_b",
        "colab": {
          "base_uri": "https://localhost:8080/"
        },
        "outputId": "ee352526-6aa7-451c-9c0b-59fdfc51f72f"
      },
      "source": [
        "y = torch.tensor([[25, 2, 5], [26, 1, 4]])\n",
        "y"
      ],
      "execution_count": 38,
      "outputs": [
        {
          "output_type": "execute_result",
          "data": {
            "text/plain": [
              "tensor([[25,  2,  5],\n",
              "        [26,  1,  4]])"
            ]
          },
          "metadata": {},
          "execution_count": 38
        }
      ]
    },
    {
      "cell_type": "code",
      "metadata": {
        "id": "lO4Fp87RbQ_d",
        "colab": {
          "base_uri": "https://localhost:8080/"
        },
        "outputId": "6d552d55-1da8-470b-f765-81b0194a83ca"
      },
      "source": [
        "y[0, 2]"
      ],
      "execution_count": 39,
      "outputs": [
        {
          "output_type": "execute_result",
          "data": {
            "text/plain": [
              "tensor(5)"
            ]
          },
          "metadata": {},
          "execution_count": 39
        }
      ]
    },
    {
      "cell_type": "code",
      "metadata": {
        "id": "WVmPPyNybQ_g",
        "colab": {
          "base_uri": "https://localhost:8080/"
        },
        "outputId": "08bf1134-5175-4f9f-be70-86f5aa648a27"
      },
      "source": [
        "y/2."
      ],
      "execution_count": 40,
      "outputs": [
        {
          "output_type": "execute_result",
          "data": {
            "text/plain": [
              "tensor([[12.5000,  1.0000,  2.5000],\n",
              "        [13.0000,  0.5000,  2.0000]])"
            ]
          },
          "metadata": {},
          "execution_count": 40
        }
      ]
    },
    {
      "cell_type": "code",
      "metadata": {
        "id": "XLGc3ZLNbQ_i",
        "colab": {
          "base_uri": "https://localhost:8080/"
        },
        "outputId": "15cb89b8-6a99-49fb-c67c-934470e9aefa"
      },
      "source": [
        "z = tf.Variable([[[0, 1], [2, 3]], [[25, 26], [7, 9]]], dtype=tf.float16)\n",
        "z"
      ],
      "execution_count": 41,
      "outputs": [
        {
          "output_type": "execute_result",
          "data": {
            "text/plain": [
              "<tf.Variable 'Variable:0' shape=(2, 2, 2) dtype=float16, numpy=\n",
              "array([[[ 0.,  1.],\n",
              "        [ 2.,  3.]],\n",
              "\n",
              "       [[25., 26.],\n",
              "        [ 7.,  9.]]], dtype=float16)>"
            ]
          },
          "metadata": {},
          "execution_count": 41
        }
      ]
    },
    {
      "cell_type": "code",
      "metadata": {
        "id": "b-mBUUXSbQ_l",
        "colab": {
          "base_uri": "https://localhost:8080/"
        },
        "outputId": "da8daf77-651e-42ff-9b64-fa10e0448f7c"
      },
      "source": [
        "z[1, 0, 0]"
      ],
      "execution_count": 42,
      "outputs": [
        {
          "output_type": "execute_result",
          "data": {
            "text/plain": [
              "<tf.Tensor: shape=(), dtype=float16, numpy=25.0>"
            ]
          },
          "metadata": {},
          "execution_count": 42
        }
      ]
    },
    {
      "cell_type": "code",
      "metadata": {
        "id": "vF_Vx6kUbQ_n",
        "colab": {
          "base_uri": "https://localhost:8080/"
        },
        "outputId": "39980e7f-88cc-4c9f-cb26-f82d43809c0d"
      },
      "source": [
        "z/2."
      ],
      "execution_count": 43,
      "outputs": [
        {
          "output_type": "execute_result",
          "data": {
            "text/plain": [
              "<tf.Tensor: shape=(2, 2, 2), dtype=float16, numpy=\n",
              "array([[[ 0. ,  0.5],\n",
              "        [ 1. ,  1.5]],\n",
              "\n",
              "       [[12.5, 13. ],\n",
              "        [ 3.5,  4.5]]], dtype=float16)>"
            ]
          },
          "metadata": {},
          "execution_count": 43
        }
      ]
    },
    {
      "cell_type": "markdown",
      "metadata": {
        "id": "grLMKTA9bQ_p"
      },
      "source": [
        "Arrays in Python are also typically extensible by default.\n",
        "\n",
        "Note that it's very efficient (O(1)) to append items to end of list..."
      ]
    },
    {
      "cell_type": "code",
      "metadata": {
        "id": "yw0vxB1wbQ_p",
        "colab": {
          "base_uri": "https://localhost:8080/"
        },
        "outputId": "5bd87802-f049-4fc9-d9af-25370a2d2ada"
      },
      "source": [
        "np.append(x, 26)"
      ],
      "execution_count": 44,
      "outputs": [
        {
          "output_type": "execute_result",
          "data": {
            "text/plain": [
              "array([25,  2,  5, 26])"
            ]
          },
          "metadata": {},
          "execution_count": 44
        }
      ]
    },
    {
      "cell_type": "markdown",
      "metadata": {
        "id": "3VVvEmDcbQ_r"
      },
      "source": [
        "...but time inefficient to add at start or middle of long list as later items will need to be shifted to later in list. Worst case is insert at beginning of list, which has O($n$) complexity. \n",
        "\n",
        "Note that as well as appending, accessing an array element by index or finding the array's length are O(1)."
      ]
    },
    {
      "cell_type": "markdown",
      "metadata": {
        "id": "eAMI_JhobQ_s"
      },
      "source": [
        "**Return to slides here.**"
      ]
    },
    {
      "cell_type": "markdown",
      "metadata": {
        "id": "Ux7X2TtObQ_t"
      },
      "source": [
        "#### Stacks"
      ]
    },
    {
      "cell_type": "markdown",
      "metadata": {
        "id": "mfUpv9mmbQ_t"
      },
      "source": [
        "Can be implemented in Python with lists: "
      ]
    },
    {
      "cell_type": "code",
      "metadata": {
        "id": "Ox6jmYt1bQ_t",
        "colab": {
          "base_uri": "https://localhost:8080/"
        },
        "outputId": "d6962796-02d3-47f6-8bc7-c052f533dac8"
      },
      "source": [
        "s = []\n",
        "s"
      ],
      "execution_count": 45,
      "outputs": [
        {
          "output_type": "execute_result",
          "data": {
            "text/plain": [
              "[]"
            ]
          },
          "metadata": {},
          "execution_count": 45
        }
      ]
    },
    {
      "cell_type": "code",
      "metadata": {
        "id": "aO62dJ7mbQ_v",
        "colab": {
          "base_uri": "https://localhost:8080/"
        },
        "outputId": "11cfcce8-7d61-4cbd-802c-9ae6b45fbd79"
      },
      "source": [
        "s.append('five_of_diamonds') # push\n",
        "s"
      ],
      "execution_count": 46,
      "outputs": [
        {
          "output_type": "execute_result",
          "data": {
            "text/plain": [
              "['five_of_diamonds']"
            ]
          },
          "metadata": {},
          "execution_count": 46
        }
      ]
    },
    {
      "cell_type": "code",
      "metadata": {
        "id": "6xL9EVlEbQ_x",
        "colab": {
          "base_uri": "https://localhost:8080/"
        },
        "outputId": "ce3c7edf-93ce-49cd-a284-2239fa7c5473"
      },
      "source": [
        "s.append('queen_of_hearts')\n",
        "s"
      ],
      "execution_count": 47,
      "outputs": [
        {
          "output_type": "execute_result",
          "data": {
            "text/plain": [
              "['five_of_diamonds', 'queen_of_hearts']"
            ]
          },
          "metadata": {},
          "execution_count": 47
        }
      ]
    },
    {
      "cell_type": "code",
      "metadata": {
        "id": "Mp3FWjIAbQ_1",
        "colab": {
          "base_uri": "https://localhost:8080/"
        },
        "outputId": "3a7d1370-bbeb-4a68-c382-f84d3d9cf619"
      },
      "source": [
        "s.append('ace_of_spades')\n",
        "s"
      ],
      "execution_count": 48,
      "outputs": [
        {
          "output_type": "execute_result",
          "data": {
            "text/plain": [
              "['five_of_diamonds', 'queen_of_hearts', 'ace_of_spades']"
            ]
          },
          "metadata": {},
          "execution_count": 48
        }
      ]
    },
    {
      "cell_type": "code",
      "metadata": {
        "id": "yj7R5DypbQ_3",
        "colab": {
          "base_uri": "https://localhost:8080/",
          "height": 35
        },
        "outputId": "1067dd4f-3052-45c4-cf42-9aea452d1fdc"
      },
      "source": [
        "s.pop()"
      ],
      "execution_count": 49,
      "outputs": [
        {
          "output_type": "execute_result",
          "data": {
            "application/vnd.google.colaboratory.intrinsic+json": {
              "type": "string"
            },
            "text/plain": [
              "'ace_of_spades'"
            ]
          },
          "metadata": {},
          "execution_count": 49
        }
      ]
    },
    {
      "cell_type": "code",
      "metadata": {
        "id": "PRJMSEi6bQ_6",
        "colab": {
          "base_uri": "https://localhost:8080/"
        },
        "outputId": "867490a4-dd2b-49f4-c4ca-7a91a5a09e9a"
      },
      "source": [
        "s"
      ],
      "execution_count": 50,
      "outputs": [
        {
          "output_type": "execute_result",
          "data": {
            "text/plain": [
              "['five_of_diamonds', 'queen_of_hearts']"
            ]
          },
          "metadata": {},
          "execution_count": 50
        }
      ]
    },
    {
      "cell_type": "markdown",
      "metadata": {
        "id": "1h5Jn3sNbQ_8"
      },
      "source": [
        "**Return to slides here.**"
      ]
    },
    {
      "cell_type": "markdown",
      "metadata": {
        "id": "sW1P2RYgbQ_8"
      },
      "source": [
        "### Searching and Sorting"
      ]
    },
    {
      "cell_type": "markdown",
      "metadata": {
        "id": "MOGhRGE7bQ_-"
      },
      "source": [
        "Topics in this section: \n",
        "* Binary search\n",
        "* Bubble sort\n",
        "* Merge sort\n",
        "* Quick sort"
      ]
    },
    {
      "cell_type": "markdown",
      "metadata": {
        "id": "926iDawVbQ__"
      },
      "source": [
        "#### Binary Search"
      ]
    },
    {
      "cell_type": "markdown",
      "metadata": {
        "id": "vh4b6rjibQ__"
      },
      "source": [
        "Let's say we have an array, `b`: "
      ]
    },
    {
      "cell_type": "code",
      "metadata": {
        "id": "AqihwZaBbRAA",
        "colab": {
          "base_uri": "https://localhost:8080/"
        },
        "outputId": "df4bb5eb-ca3b-4ea6-b4ca-a178a6231ef8"
      },
      "source": [
        "b = np.array([25, 2, 5, 14, 22, 11, 96, 1, 101])\n",
        "b"
      ],
      "execution_count": 51,
      "outputs": [
        {
          "output_type": "execute_result",
          "data": {
            "text/plain": [
              "array([ 25,   2,   5,  14,  22,  11,  96,   1, 101])"
            ]
          },
          "metadata": {},
          "execution_count": 51
        }
      ]
    },
    {
      "cell_type": "markdown",
      "metadata": {
        "id": "ILRfUWW8bRAB"
      },
      "source": [
        "Under normal circumstances, the only way to search for a value (e.g., `25`) is to search element by element. In the worse-case, this has O($n$) time complexity (e.g., if we were to search `b` for `25` from its end).\n",
        "\n",
        "If `b` already happens to be sorted, however..."
      ]
    },
    {
      "cell_type": "code",
      "metadata": {
        "id": "H3kijg5DbRAB",
        "colab": {
          "base_uri": "https://localhost:8080/"
        },
        "outputId": "bd94fc30-56b4-4af0-9f82-c782791b7e07"
      },
      "source": [
        "b.sort() # FYI: uses quick sort\n",
        "b"
      ],
      "execution_count": 52,
      "outputs": [
        {
          "output_type": "execute_result",
          "data": {
            "text/plain": [
              "array([  1,   2,   5,  11,  14,  22,  25,  96, 101])"
            ]
          },
          "metadata": {},
          "execution_count": 52
        }
      ]
    },
    {
      "cell_type": "markdown",
      "metadata": {
        "id": "jUNwtC9VbRAD"
      },
      "source": [
        "...we can use the **binary search** algorithm, which has O(log $n$) time complexity: \n",
        "\n",
        "* Start at the midpoint (`b` is nine elements long, so midpoint is 5th: `14`).\n",
        "* Since `25` is larger than `14`, we need only search the top half of `b`...\n",
        "* So we find the midpoint between the 5th element and the 9th, which is the 7th, and which happens to be `25`. \n",
        "* Done! And in only two steps instead of seven (if we were to search elementwise from first onward).\n",
        "* If we were searching for `22`, then our next search would be halfway between 5th and 7th elements, which is 6th element and voilà!\n",
        "* With our nine-element array, worst case is four steps (for `1` or `101`) to find any value (or determine value *isn't* in array).\n",
        "\n",
        "(Note: called *binary* because at each step we either search upward or downward.)\n",
        "\n",
        "Doubling $n$ results in only one extra step in worst case: \n",
        "* One step with array of length 1($= 2^0$)\n",
        "* Two steps with length 2($= 2^1$) up to length 3\n",
        "* Three steps with $n = 4 (= 2^2$) up to $n = 7$\n",
        "* Four steps with $n = 8 (= 2^3$) up to $n = 15$\n",
        "* Five steps with $n = 16 (= 2^4$) up to $n = 31$\n",
        "\n",
        "Hence O(log $n$) where, as is typical in CS, we use $\\text{log}_2$ (because of binary bits and frequently doubling/halving quantities). E.g.: "
      ]
    },
    {
      "cell_type": "code",
      "metadata": {
        "id": "aMCXLkATbRAD",
        "colab": {
          "base_uri": "https://localhost:8080/"
        },
        "outputId": "48881d64-75c8-4150-911e-10bb3f68bbfd"
      },
      "source": [
        "np.log2(4) + 1"
      ],
      "execution_count": 53,
      "outputs": [
        {
          "output_type": "execute_result",
          "data": {
            "text/plain": [
              "3.0"
            ]
          },
          "metadata": {},
          "execution_count": 53
        }
      ]
    },
    {
      "cell_type": "code",
      "metadata": {
        "id": "GkKU00_jbRAF",
        "colab": {
          "base_uri": "https://localhost:8080/"
        },
        "outputId": "d641b2af-a810-4f43-91c1-13414c8d6205"
      },
      "source": [
        "np.log2(8) + 1"
      ],
      "execution_count": 54,
      "outputs": [
        {
          "output_type": "execute_result",
          "data": {
            "text/plain": [
              "4.0"
            ]
          },
          "metadata": {},
          "execution_count": 54
        }
      ]
    },
    {
      "cell_type": "code",
      "metadata": {
        "id": "lem_1CFEbRAH",
        "colab": {
          "base_uri": "https://localhost:8080/"
        },
        "outputId": "b11093d8-2e7a-44f7-f7f4-9c3c991128ba"
      },
      "source": [
        "np.log2(16) + 1"
      ],
      "execution_count": 55,
      "outputs": [
        {
          "output_type": "execute_result",
          "data": {
            "text/plain": [
              "5.0"
            ]
          },
          "metadata": {},
          "execution_count": 55
        }
      ]
    },
    {
      "cell_type": "markdown",
      "metadata": {
        "id": "Qw_uflkYbRAJ"
      },
      "source": [
        "Recall that we retain only the dominant term, so O(log $n$ + 1) becomes O(log $n$)."
      ]
    },
    {
      "cell_type": "markdown",
      "metadata": {
        "id": "uKR2g6w-bRAK"
      },
      "source": [
        "Here's an implementation of binary search, for your reference, that *iterates* over binary search steps with a `while` loop: "
      ]
    },
    {
      "cell_type": "code",
      "metadata": {
        "id": "eSnow5fBbRAK"
      },
      "source": [
        "def binary_search(array, value):\n",
        "    \n",
        "    low = 0\n",
        "    high = len(array)-1\n",
        "    \n",
        "    while low <= high:\n",
        "        midpoint = (low + high) // 2 # rounds down to nearest integer after division\n",
        "        if value < array[midpoint]:\n",
        "            high = midpoint-1\n",
        "        elif value > array[midpoint]:\n",
        "            low = midpoint+1\n",
        "        else:\n",
        "            return midpoint\n",
        "    return -1"
      ],
      "execution_count": 56,
      "outputs": []
    },
    {
      "cell_type": "code",
      "metadata": {
        "id": "KVLvfQyMbRAL",
        "colab": {
          "base_uri": "https://localhost:8080/"
        },
        "outputId": "8a7d3830-5834-4806-97fb-63af88847490"
      },
      "source": [
        "binary_search(b, 25)"
      ],
      "execution_count": 57,
      "outputs": [
        {
          "output_type": "execute_result",
          "data": {
            "text/plain": [
              "6"
            ]
          },
          "metadata": {},
          "execution_count": 57
        }
      ]
    },
    {
      "cell_type": "code",
      "metadata": {
        "id": "vlIy86McbRAO",
        "colab": {
          "base_uri": "https://localhost:8080/"
        },
        "outputId": "cc3e221e-6f37-480e-e0b7-d2fe84c0f859"
      },
      "source": [
        "binary_search(b, 255)"
      ],
      "execution_count": 58,
      "outputs": [
        {
          "output_type": "execute_result",
          "data": {
            "text/plain": [
              "-1"
            ]
          },
          "metadata": {},
          "execution_count": 58
        }
      ]
    },
    {
      "cell_type": "markdown",
      "metadata": {
        "id": "QgWnRKYMbRAP"
      },
      "source": [
        "Alternatively, you could implement binary search with *recursion* instead of iteration: "
      ]
    },
    {
      "cell_type": "code",
      "metadata": {
        "id": "CGW08COgbRAQ"
      },
      "source": [
        "def recursive_binary_search(array, value, low, high):\n",
        "    \n",
        "    if low <= high:\n",
        "        \n",
        "        midpoint = (low + high) // 2\n",
        "        \n",
        "        if array[midpoint] == value:\n",
        "            return midpoint\n",
        "        elif array[midpoint] > value:\n",
        "            return recursive_binary_search(array, value, low, midpoint-1)\n",
        "        else:\n",
        "            return recursive_binary_search(array, value, midpoint+1, high)\n",
        "    else:\n",
        "        return -1"
      ],
      "execution_count": 59,
      "outputs": []
    },
    {
      "cell_type": "code",
      "metadata": {
        "id": "KCybEoSTbRAR",
        "colab": {
          "base_uri": "https://localhost:8080/"
        },
        "outputId": "d5ddfb08-ab86-440b-ac08-fa9fcf5349a1"
      },
      "source": [
        "recursive_binary_search(b, 25, 0, len(b)-1)"
      ],
      "execution_count": 60,
      "outputs": [
        {
          "output_type": "execute_result",
          "data": {
            "text/plain": [
              "6"
            ]
          },
          "metadata": {},
          "execution_count": 60
        }
      ]
    },
    {
      "cell_type": "code",
      "metadata": {
        "id": "rHNqJWZFbRAS",
        "colab": {
          "base_uri": "https://localhost:8080/"
        },
        "outputId": "1a3daa02-cad8-498b-9006-ad3a2a54d9cf"
      },
      "source": [
        "recursive_binary_search(b, 255, 0, len(b)-1)"
      ],
      "execution_count": 61,
      "outputs": [
        {
          "output_type": "execute_result",
          "data": {
            "text/plain": [
              "-1"
            ]
          },
          "metadata": {},
          "execution_count": 61
        }
      ]
    },
    {
      "cell_type": "markdown",
      "metadata": {
        "id": "-4qFVG7wbRAV"
      },
      "source": [
        "#### Bubble Sort"
      ]
    },
    {
      "cell_type": "markdown",
      "metadata": {
        "id": "xXl97ruDbRAV"
      },
      "source": [
        "Binary search required a sorted list. To sort a list (e.g., from smallest to largest value), the most naïve (and computationally complex) approach would be to compare every given element with all other elements.\n",
        "\n",
        "A common naïve implementation is the **bubble sort**, which allows the largest values to gradually \"bubble up\" toward the \"top\" (typically the end) of the array:"
      ]
    },
    {
      "cell_type": "code",
      "metadata": {
        "id": "Si7_TCUBbRAW"
      },
      "source": [
        "def bubble_sort(array):\n",
        "    \n",
        "    n = len(array)\n",
        "    \n",
        "    for i in range(n-1):\n",
        "        for j in range(0, n-1): # could be n-i-1 as, e.g., top value is guaranteed to have bubbled up in 1st iteration\n",
        "            if array[j] > array[j+1]:\n",
        "                array[j], array[j+1] = array[j+1], array[j]\n",
        "                \n",
        "    return array"
      ],
      "execution_count": 62,
      "outputs": []
    },
    {
      "cell_type": "code",
      "metadata": {
        "id": "bHJXYGoWbRAX",
        "colab": {
          "base_uri": "https://localhost:8080/"
        },
        "outputId": "2b6d83ca-7ff1-45ee-fb1e-4d62081f345e"
      },
      "source": [
        "b = np.array([25, 2, 5, 14, 22, 11, 96, 1, 101])\n",
        "b"
      ],
      "execution_count": 63,
      "outputs": [
        {
          "output_type": "execute_result",
          "data": {
            "text/plain": [
              "array([ 25,   2,   5,  14,  22,  11,  96,   1, 101])"
            ]
          },
          "metadata": {},
          "execution_count": 63
        }
      ]
    },
    {
      "cell_type": "code",
      "metadata": {
        "id": "dRG0hcs8bRAa",
        "colab": {
          "base_uri": "https://localhost:8080/"
        },
        "outputId": "0b165b5d-83d4-4abd-e2b4-071c696c9ad2"
      },
      "source": [
        "bubble_sort(b)"
      ],
      "execution_count": 64,
      "outputs": [
        {
          "output_type": "execute_result",
          "data": {
            "text/plain": [
              "array([  1,   2,   5,  11,  14,  22,  25,  96, 101])"
            ]
          },
          "metadata": {},
          "execution_count": 64
        }
      ]
    },
    {
      "cell_type": "markdown",
      "metadata": {
        "id": "SeEwGoyhbRAb"
      },
      "source": [
        "* During each iteration, we make $n-1$ comparisons \n",
        "* A total of $n-1$ iterations need to be made\n",
        "\n",
        "$$ (n-1)(n-1) = n^2 -2n + 1 $$\n",
        "\n",
        "Since we drop all terms but the dominant one, this leaves us with polynomial O($n^2$) time complexity for the worst case and the average case. (For more clever implementations, best case is O($n$) because array would already be sorted.)\n",
        "\n",
        "In contrast, as is typical in algos, there is a time- vs memory-complexity trade-off: Memory complexity is constant, O(1)."
      ]
    },
    {
      "cell_type": "code",
      "metadata": {
        "id": "XaVyDNNEbRAb",
        "colab": {
          "base_uri": "https://localhost:8080/"
        },
        "outputId": "85016bf6-214d-4452-eb9b-65e2ba8c153b"
      },
      "source": [
        "granular_list_lengths"
      ],
      "execution_count": 65,
      "outputs": [
        {
          "output_type": "execute_result",
          "data": {
            "text/plain": [
              "[10, 50, 100, 500, 1000, 5000, 10000]"
            ]
          },
          "metadata": {},
          "execution_count": 65
        }
      ]
    },
    {
      "cell_type": "code",
      "metadata": {
        "id": "5VCZfbt5bRAd",
        "colab": {
          "base_uri": "https://localhost:8080/"
        },
        "outputId": "f0fd852f-02bc-4394-be48-b229e192d653"
      },
      "source": [
        "max(granular_list_lengths)"
      ],
      "execution_count": 66,
      "outputs": [
        {
          "output_type": "execute_result",
          "data": {
            "text/plain": [
              "10000"
            ]
          },
          "metadata": {},
          "execution_count": 66
        }
      ]
    },
    {
      "cell_type": "code",
      "metadata": {
        "id": "KF3yROSObRAf",
        "colab": {
          "base_uri": "https://localhost:8080/"
        },
        "outputId": "dd390929-1cce-4158-cf1c-ee3613f13035"
      },
      "source": [
        "random.sample(range(0, max(granular_list_lengths)), 5) # samples 5 integers w/o replacement from uniform distribution"
      ],
      "execution_count": 67,
      "outputs": [
        {
          "output_type": "execute_result",
          "data": {
            "text/plain": [
              "[7376, 3991, 8331, 5938, 7797]"
            ]
          },
          "metadata": {},
          "execution_count": 67
        }
      ]
    },
    {
      "cell_type": "code",
      "metadata": {
        "id": "BH-e63O-bRAg"
      },
      "source": [
        "bubble_times = []\n",
        "\n",
        "for l in granular_list_lengths[0:7]:\n",
        "    lst = random.sample(range(0, max(granular_list_lengths)), l)\n",
        "    \n",
        "    tic = time.process_time()\n",
        "    x = bubble_sort(lst)\n",
        "    toc = time.process_time()\n",
        "    \n",
        "    bubble_times.append(toc-tic)"
      ],
      "execution_count": 68,
      "outputs": []
    },
    {
      "cell_type": "code",
      "metadata": {
        "id": "sc7PYo7rbRAi",
        "colab": {
          "base_uri": "https://localhost:8080/",
          "height": 265
        },
        "outputId": "8f30883e-821c-49ee-a795-8f6e1182d77a"
      },
      "source": [
        "bubble_df = pd.DataFrame(list(zip(granular_list_lengths, bubble_times)), columns=['n', 'time'])\n",
        "bubble_df"
      ],
      "execution_count": 69,
      "outputs": [
        {
          "output_type": "execute_result",
          "data": {
            "text/html": [
              "<div>\n",
              "<style scoped>\n",
              "    .dataframe tbody tr th:only-of-type {\n",
              "        vertical-align: middle;\n",
              "    }\n",
              "\n",
              "    .dataframe tbody tr th {\n",
              "        vertical-align: top;\n",
              "    }\n",
              "\n",
              "    .dataframe thead th {\n",
              "        text-align: right;\n",
              "    }\n",
              "</style>\n",
              "<table border=\"1\" class=\"dataframe\">\n",
              "  <thead>\n",
              "    <tr style=\"text-align: right;\">\n",
              "      <th></th>\n",
              "      <th>n</th>\n",
              "      <th>time</th>\n",
              "    </tr>\n",
              "  </thead>\n",
              "  <tbody>\n",
              "    <tr>\n",
              "      <th>0</th>\n",
              "      <td>10</td>\n",
              "      <td>0.000034</td>\n",
              "    </tr>\n",
              "    <tr>\n",
              "      <th>1</th>\n",
              "      <td>50</td>\n",
              "      <td>0.000679</td>\n",
              "    </tr>\n",
              "    <tr>\n",
              "      <th>2</th>\n",
              "      <td>100</td>\n",
              "      <td>0.002436</td>\n",
              "    </tr>\n",
              "    <tr>\n",
              "      <th>3</th>\n",
              "      <td>500</td>\n",
              "      <td>0.043641</td>\n",
              "    </tr>\n",
              "    <tr>\n",
              "      <th>4</th>\n",
              "      <td>1000</td>\n",
              "      <td>0.164200</td>\n",
              "    </tr>\n",
              "    <tr>\n",
              "      <th>5</th>\n",
              "      <td>5000</td>\n",
              "      <td>4.300724</td>\n",
              "    </tr>\n",
              "    <tr>\n",
              "      <th>6</th>\n",
              "      <td>10000</td>\n",
              "      <td>16.785823</td>\n",
              "    </tr>\n",
              "  </tbody>\n",
              "</table>\n",
              "</div>"
            ],
            "text/plain": [
              "       n       time\n",
              "0     10   0.000034\n",
              "1     50   0.000679\n",
              "2    100   0.002436\n",
              "3    500   0.043641\n",
              "4   1000   0.164200\n",
              "5   5000   4.300724\n",
              "6  10000  16.785823"
            ]
          },
          "metadata": {},
          "execution_count": 69
        }
      ]
    },
    {
      "cell_type": "code",
      "metadata": {
        "id": "ylF8L9ZRbRAk",
        "colab": {
          "base_uri": "https://localhost:8080/",
          "height": 369
        },
        "outputId": "46bdb949-22b8-4920-a274-9273f1ad193c"
      },
      "source": [
        "_ = sns.lmplot(x='n', y='time', data=bubble_df, ci=None, order=2)"
      ],
      "execution_count": 70,
      "outputs": [
        {
          "output_type": "display_data",
          "data": {
            "image/png": "[encoded data removed]",
            "text/plain": [
              "<Figure size 360x360 with 1 Axes>"
            ]
          },
          "metadata": {
            "needs_background": "light"
          }
        }
      ]
    },
    {
      "cell_type": "markdown",
      "metadata": {
        "id": "BaIYCE7CbRAl"
      },
      "source": [
        "#### Merge Sort"
      ]
    },
    {
      "cell_type": "markdown",
      "metadata": {
        "id": "3ebEOGvNbRAm"
      },
      "source": [
        "* General idea is to \"divide and conquer\"; specifically:\n",
        "    1. Halve the array into smaller arrays\n",
        "    2. Sort the smaller arrays\n",
        "    3. Merge them back into full array\n",
        "* The above steps are carried out recursively so ultimately sort arrays of max length 2, then merge back up to full length."
      ]
    },
    {
      "cell_type": "code",
      "metadata": {
        "id": "rwJEeUdTbRAm"
      },
      "source": [
        "def merge_sort(my_list): # using list instead of array so we can .pop() (np arrays don't pop with built-in method)\n",
        "    \n",
        "    if len(my_list) > 1: # if length is 1, no need to sort (at deepest recursion, some will have len 1, others len 2)\n",
        "        \n",
        "        # 1. Halve: \n",
        "        midpoint = len(my_list) // 2 # Note: This is ~O(log n) behavior\n",
        "        left_half = my_list[:midpoint]\n",
        "        right_half = my_list[midpoint:]\n",
        "        \n",
        "        # 2. Sort (recursively):\n",
        "        left_half = merge_sort(left_half)\n",
        "        right_half = merge_sort(right_half)\n",
        "        \n",
        "        my_list = []\n",
        "        \n",
        "        # 3. Merge: \n",
        "        while len(left_half)>0 and len(right_half)>0: # Note: This inner loop exhibits ~O(n) behavior\n",
        "            \n",
        "            if left_half[0] < right_half[0]:\n",
        "                my_list.append(left_half.pop(0)) # pop first element\n",
        "            \n",
        "            else: # 1st element of right half < 1st element of left\n",
        "                my_list.append(right_half.pop(0))\n",
        "                \n",
        "        # If any elements remain from either half, they must be the largest value:\n",
        "        for i in left_half:\n",
        "            my_list.append(i)\n",
        "        for i in right_half:\n",
        "            my_list.append(i)\n",
        "    \n",
        "    return my_list"
      ],
      "execution_count": 71,
      "outputs": []
    },
    {
      "cell_type": "code",
      "metadata": {
        "id": "yu0POqD4bRAo"
      },
      "source": [
        "m = [25, 2, 5, 14, 22, 11, 96, 1, 101]"
      ],
      "execution_count": 72,
      "outputs": []
    },
    {
      "cell_type": "code",
      "metadata": {
        "id": "yb5kYBRNbRAq",
        "colab": {
          "base_uri": "https://localhost:8080/"
        },
        "outputId": "7bf6d87e-ade3-44a8-d08a-fd0db12a2c9a"
      },
      "source": [
        "merge_sort(m)"
      ],
      "execution_count": 73,
      "outputs": [
        {
          "output_type": "execute_result",
          "data": {
            "text/plain": [
              "[1, 2, 5, 11, 14, 22, 25, 96, 101]"
            ]
          },
          "metadata": {},
          "execution_count": 73
        }
      ]
    },
    {
      "cell_type": "markdown",
      "metadata": {
        "id": "wft09yAQbRAr"
      },
      "source": [
        "Because of the O($n$) loop performing comparisons inside of the function halving list sizes (which we'll need to call O(log $n$) times), merge sort time complexity is the product, i.e., O($n$ log $n$)."
      ]
    },
    {
      "cell_type": "code",
      "metadata": {
        "id": "UsiZJrrobRAs",
        "colab": {
          "base_uri": "https://localhost:8080/"
        },
        "outputId": "618d0dd9-1b5b-4978-e41a-adb442147995"
      },
      "source": [
        "granular_list_lengths"
      ],
      "execution_count": 74,
      "outputs": [
        {
          "output_type": "execute_result",
          "data": {
            "text/plain": [
              "[10, 50, 100, 500, 1000, 5000, 10000]"
            ]
          },
          "metadata": {},
          "execution_count": 74
        }
      ]
    },
    {
      "cell_type": "code",
      "metadata": {
        "id": "O2bhlTkgbRAw",
        "colab": {
          "base_uri": "https://localhost:8080/"
        },
        "outputId": "bb66d301-fdec-40b6-e68a-63d4f8cbb954"
      },
      "source": [
        "ext_granular_lengths = granular_list_lengths + [50000, 100000] # extended\n",
        "ext_granular_lengths"
      ],
      "execution_count": 75,
      "outputs": [
        {
          "output_type": "execute_result",
          "data": {
            "text/plain": [
              "[10, 50, 100, 500, 1000, 5000, 10000, 50000, 100000]"
            ]
          },
          "metadata": {},
          "execution_count": 75
        }
      ]
    },
    {
      "cell_type": "code",
      "metadata": {
        "id": "Y174TTjwbRAx"
      },
      "source": [
        "merge_times = []\n",
        "\n",
        "for l in ext_granular_lengths:\n",
        "    lst = random.sample(range(0, max(ext_granular_lengths)), l)\n",
        "    \n",
        "    tic = time.process_time()\n",
        "    x = merge_sort(lst)\n",
        "    toc = time.process_time()\n",
        "    \n",
        "    merge_times.append(toc-tic)"
      ],
      "execution_count": 76,
      "outputs": []
    },
    {
      "cell_type": "code",
      "metadata": {
        "id": "pNQfPAy7bRAz",
        "colab": {
          "base_uri": "https://localhost:8080/",
          "height": 326
        },
        "outputId": "dc3b3ffe-61e3-407b-f7e8-d378e1aee294"
      },
      "source": [
        "merge_df = pd.DataFrame(list(zip(ext_granular_lengths, merge_times)), columns=['n', 'time'])\n",
        "merge_df"
      ],
      "execution_count": 77,
      "outputs": [
        {
          "output_type": "execute_result",
          "data": {
            "text/html": [
              "<div>\n",
              "<style scoped>\n",
              "    .dataframe tbody tr th:only-of-type {\n",
              "        vertical-align: middle;\n",
              "    }\n",
              "\n",
              "    .dataframe tbody tr th {\n",
              "        vertical-align: top;\n",
              "    }\n",
              "\n",
              "    .dataframe thead th {\n",
              "        text-align: right;\n",
              "    }\n",
              "</style>\n",
              "<table border=\"1\" class=\"dataframe\">\n",
              "  <thead>\n",
              "    <tr style=\"text-align: right;\">\n",
              "      <th></th>\n",
              "      <th>n</th>\n",
              "      <th>time</th>\n",
              "    </tr>\n",
              "  </thead>\n",
              "  <tbody>\n",
              "    <tr>\n",
              "      <th>0</th>\n",
              "      <td>10</td>\n",
              "      <td>0.000040</td>\n",
              "    </tr>\n",
              "    <tr>\n",
              "      <th>1</th>\n",
              "      <td>50</td>\n",
              "      <td>0.000261</td>\n",
              "    </tr>\n",
              "    <tr>\n",
              "      <th>2</th>\n",
              "      <td>100</td>\n",
              "      <td>0.000562</td>\n",
              "    </tr>\n",
              "    <tr>\n",
              "      <th>3</th>\n",
              "      <td>500</td>\n",
              "      <td>0.003739</td>\n",
              "    </tr>\n",
              "    <tr>\n",
              "      <th>4</th>\n",
              "      <td>1000</td>\n",
              "      <td>0.008416</td>\n",
              "    </tr>\n",
              "    <tr>\n",
              "      <th>5</th>\n",
              "      <td>5000</td>\n",
              "      <td>0.029854</td>\n",
              "    </tr>\n",
              "    <tr>\n",
              "      <th>6</th>\n",
              "      <td>10000</td>\n",
              "      <td>0.069262</td>\n",
              "    </tr>\n",
              "    <tr>\n",
              "      <th>7</th>\n",
              "      <td>50000</td>\n",
              "      <td>0.574054</td>\n",
              "    </tr>\n",
              "    <tr>\n",
              "      <th>8</th>\n",
              "      <td>100000</td>\n",
              "      <td>1.607046</td>\n",
              "    </tr>\n",
              "  </tbody>\n",
              "</table>\n",
              "</div>"
            ],
            "text/plain": [
              "        n      time\n",
              "0      10  0.000040\n",
              "1      50  0.000261\n",
              "2     100  0.000562\n",
              "3     500  0.003739\n",
              "4    1000  0.008416\n",
              "5    5000  0.029854\n",
              "6   10000  0.069262\n",
              "7   50000  0.574054\n",
              "8  100000  1.607046"
            ]
          },
          "metadata": {},
          "execution_count": 77
        }
      ]
    },
    {
      "cell_type": "markdown",
      "metadata": {
        "id": "TxbDpaXUbRA1"
      },
      "source": [
        "On local laptop, $n=10000$ took ~0.05s with merge sort compared to ~10.5s with bubble sort: a ~200x speedup."
      ]
    },
    {
      "cell_type": "code",
      "metadata": {
        "id": "_vNv29-3bRA1",
        "colab": {
          "base_uri": "https://localhost:8080/",
          "height": 369
        },
        "outputId": "32fc566c-1dac-406c-cdc6-3207994c9c7b"
      },
      "source": [
        "_ = sns.lmplot(x='n', y='time', data=merge_df, ci=None, order=2)"
      ],
      "execution_count": 78,
      "outputs": [
        {
          "output_type": "display_data",
          "data": {
            "image/png": "[encoded data removed]",
            "text/plain": [
              "<Figure size 360x360 with 1 Axes>"
            ]
          },
          "metadata": {
            "needs_background": "light"
          }
        }
      ]
    },
    {
      "cell_type": "markdown",
      "metadata": {
        "id": "j09sAT9ubRA3"
      },
      "source": [
        "In contrast, while memory complexity for bubble sort was O(1) because we were sorting \"in place\" (not storing any values in memory), memory complexity is O($n$) for merge sort. \n",
        "\n",
        "(We need at least two array copies (2$n$) for the most space-efficient merge sort implementations, but we drop constants so this becomes O($n$). Our recursive merge sort implementation would require more as it stores several copies in memory; one more copy of size $n$ would be used for every time the array length doubles (log $n$) resulting in O($n$ log $n$) memory complexity.)"
      ]
    },
    {
      "cell_type": "markdown",
      "metadata": {
        "id": "QgsX2oJNbRA3"
      },
      "source": [
        "#### Quick Sort"
      ]
    },
    {
      "cell_type": "markdown",
      "metadata": {
        "id": "liGs0XOabRA3"
      },
      "source": [
        "Under many common conditions, the aptly-named **quick sort** is at least as time-efficient as merge sort while also being more space-efficient.\n",
        "\n",
        "Like merge sort, quick sort uses the \"divide and conquer\" principle:\n",
        "1. Pick a *pivot* point (often the final element, though it could be any element, e.g., first, random, median)\n",
        "2. Move pivot within array such that all elements above pivot are larger (though randomly ordered) and all elements below pivot are smaller (though likewise randomly ordered)\n",
        "    * Movement occurs element-by-element (and \"in place\", thus retaining O(1) memory complexity)\n",
        "3. Recursively, perform quick sort both below and above pivot"
      ]
    },
    {
      "cell_type": "code",
      "metadata": {
        "id": "k0oYCHi0bRA3"
      },
      "source": [
        "def quick_sort(array):\n",
        "    _quick_sort(array, 0, len(array)-1) # to start, low is index of first element in array; high is penultimate\n",
        "    return array"
      ],
      "execution_count": 79,
      "outputs": []
    },
    {
      "cell_type": "code",
      "metadata": {
        "id": "VW6wpvafbRA4"
      },
      "source": [
        "def _quick_sort(array, low, high): \n",
        "    \n",
        "    if low < high: # when low reaches high, we know all elements in array must be in order\n",
        "        \n",
        "        # Result of 2.: Element at \"partitioning index\" has been pivoted to its correct position\n",
        "        p_index = partition(array, low, high) \n",
        "        \n",
        "        # 3. Recursively sort the elements below the partitioning index...\n",
        "        _quick_sort(array, low, p_index-1)\n",
        "        # ...and, separately, above the partitioning index: \n",
        "        _quick_sort(array, p_index+1, high)\n",
        "        \n",
        "    return array"
      ],
      "execution_count": 80,
      "outputs": []
    },
    {
      "cell_type": "code",
      "metadata": {
        "id": "c4vF29ylbRA6"
      },
      "source": [
        "def partition(array, low, high):\n",
        "    \n",
        "    # 1. Use the final element as the pivot:\n",
        "    pivot = array[high]\n",
        "    \n",
        "    i = (low-1) # index of element on small side\n",
        "    for j in range(low, high): # like a bubble swap, we compare pivot to all elements between low and high\n",
        "        if array[j] < pivot: # if value < pivot, it's correctly on left so increment the smaller element's index...\n",
        "            i = i+1\n",
        "            array[i], array[j] = array[j], array[i] \n",
        "    array[i+1], array[high] = array[high], array[i+1] # ...otherwise, swap greater value to right of pivot (now what we want)\n",
        "    return(i+1) # return index of correctly positioned pivot"
      ],
      "execution_count": 81,
      "outputs": []
    },
    {
      "cell_type": "code",
      "metadata": {
        "id": "TGbYfXozbRA7"
      },
      "source": [
        "b = np.array([25, 2, 5, 14, 22, 11, 96, 1, 101])"
      ],
      "execution_count": 82,
      "outputs": []
    },
    {
      "cell_type": "code",
      "metadata": {
        "id": "eUwabel3bRA9",
        "colab": {
          "base_uri": "https://localhost:8080/"
        },
        "outputId": "c9b9694d-79b5-49e5-f0e2-fe33c42a8bb6"
      },
      "source": [
        "quick_sort(b)"
      ],
      "execution_count": 83,
      "outputs": [
        {
          "output_type": "execute_result",
          "data": {
            "text/plain": [
              "array([  1,   2,   5,  11,  14,  22,  25,  96, 101])"
            ]
          },
          "metadata": {},
          "execution_count": 83
        }
      ]
    },
    {
      "cell_type": "code",
      "metadata": {
        "id": "pgrhXuTSbRA-",
        "colab": {
          "base_uri": "https://localhost:8080/"
        },
        "outputId": "07b2fb3a-fda8-48c4-a650-d553d30118f0"
      },
      "source": [
        "list_lengths"
      ],
      "execution_count": 84,
      "outputs": [
        {
          "output_type": "execute_result",
          "data": {
            "text/plain": [
              "[10, 100, 1000, 10000, 100000, 1000000, 10000000]"
            ]
          },
          "metadata": {},
          "execution_count": 84
        }
      ]
    },
    {
      "cell_type": "code",
      "metadata": {
        "id": "3Zw2sLRDbRBA",
        "colab": {
          "base_uri": "https://localhost:8080/"
        },
        "outputId": "fe053bcb-38b5-4bc5-bf4d-bc5d5a75ce1b"
      },
      "source": [
        "list_lengths[:6]"
      ],
      "execution_count": 85,
      "outputs": [
        {
          "output_type": "execute_result",
          "data": {
            "text/plain": [
              "[10, 100, 1000, 10000, 100000, 1000000]"
            ]
          },
          "metadata": {},
          "execution_count": 85
        }
      ]
    },
    {
      "cell_type": "code",
      "metadata": {
        "id": "WMkykWEjbRBB"
      },
      "source": [
        "quick_times = []\n",
        "\n",
        "for l in list_lengths[:6]:\n",
        "    lst = random.sample(range(0, max(list_lengths[:6])), l)\n",
        "    \n",
        "    tic = time.process_time()\n",
        "    x = quick_sort(lst)\n",
        "    toc = time.process_time()\n",
        "    \n",
        "    quick_times.append(toc-tic)"
      ],
      "execution_count": 86,
      "outputs": []
    },
    {
      "cell_type": "code",
      "metadata": {
        "id": "aA3pD0GEbRBC",
        "colab": {
          "base_uri": "https://localhost:8080/",
          "height": 234
        },
        "outputId": "ea49fa8d-133e-4e2d-e8d4-f8520a393534"
      },
      "source": [
        "quick_df = pd.DataFrame(list(zip(list_lengths[:6], quick_times)), columns=['n', 'time'])\n",
        "quick_df"
      ],
      "execution_count": 87,
      "outputs": [
        {
          "output_type": "execute_result",
          "data": {
            "text/html": [
              "<div>\n",
              "<style scoped>\n",
              "    .dataframe tbody tr th:only-of-type {\n",
              "        vertical-align: middle;\n",
              "    }\n",
              "\n",
              "    .dataframe tbody tr th {\n",
              "        vertical-align: top;\n",
              "    }\n",
              "\n",
              "    .dataframe thead th {\n",
              "        text-align: right;\n",
              "    }\n",
              "</style>\n",
              "<table border=\"1\" class=\"dataframe\">\n",
              "  <thead>\n",
              "    <tr style=\"text-align: right;\">\n",
              "      <th></th>\n",
              "      <th>n</th>\n",
              "      <th>time</th>\n",
              "    </tr>\n",
              "  </thead>\n",
              "  <tbody>\n",
              "    <tr>\n",
              "      <th>0</th>\n",
              "      <td>10</td>\n",
              "      <td>0.000028</td>\n",
              "    </tr>\n",
              "    <tr>\n",
              "      <th>1</th>\n",
              "      <td>100</td>\n",
              "      <td>0.000304</td>\n",
              "    </tr>\n",
              "    <tr>\n",
              "      <th>2</th>\n",
              "      <td>1000</td>\n",
              "      <td>0.004197</td>\n",
              "    </tr>\n",
              "    <tr>\n",
              "      <th>3</th>\n",
              "      <td>10000</td>\n",
              "      <td>0.030566</td>\n",
              "    </tr>\n",
              "    <tr>\n",
              "      <th>4</th>\n",
              "      <td>100000</td>\n",
              "      <td>0.421201</td>\n",
              "    </tr>\n",
              "    <tr>\n",
              "      <th>5</th>\n",
              "      <td>1000000</td>\n",
              "      <td>5.289504</td>\n",
              "    </tr>\n",
              "  </tbody>\n",
              "</table>\n",
              "</div>"
            ],
            "text/plain": [
              "         n      time\n",
              "0       10  0.000028\n",
              "1      100  0.000304\n",
              "2     1000  0.004197\n",
              "3    10000  0.030566\n",
              "4   100000  0.421201\n",
              "5  1000000  5.289504"
            ]
          },
          "metadata": {},
          "execution_count": 87
        }
      ]
    },
    {
      "cell_type": "markdown",
      "metadata": {
        "id": "WEWln2HPbRBF"
      },
      "source": [
        "At $n=$ 10k, about a 2x speed-up relative to merge sort (so ~400 relative to bubble sort).\n",
        "\n",
        "At $n=$ 100k, about a 5x speed-up relative to merge sort."
      ]
    },
    {
      "cell_type": "code",
      "metadata": {
        "id": "yMG5f6hwbRBG",
        "colab": {
          "base_uri": "https://localhost:8080/",
          "height": 369
        },
        "outputId": "e89e15b5-4dc5-4d58-d326-8dc646e12a5c"
      },
      "source": [
        "_ = sns.lmplot(x='n', y='time', data=quick_df, ci=None, order=2)"
      ],
      "execution_count": 88,
      "outputs": [
        {
          "output_type": "display_data",
          "data": {
            "image/png": "[encoded data removed]",
            "text/plain": [
              "<Figure size 360x360 with 1 Axes>"
            ]
          },
          "metadata": {
            "needs_background": "light"
          }
        }
      ]
    },
    {
      "cell_type": "markdown",
      "metadata": {
        "id": "svDy0tGRbRBH"
      },
      "source": [
        "**Average-case time**: The efficiency of quick sort comes from moving lower-valued pivots toward the front (ideally to the midpoint) of the array then \"dividing and conquering\" on either side of the pivot. In which case (the average case), quick sort behaves like a merge sort (thereby it has O($n$ log $n$) time complexity), but in a manner that requires only a single copy of the array in memory.\n",
        "\n",
        "**Worst-case time**: With the pivot starting at the final element, if the array is already sorted, this is the worst case. There will be as many calls to `quick_sort()` as there are elements in the array (i.e., $n$ calls) and quick sort will perform a full round of bubble sorting (as per the `for j in range` loop) during each of those (i.e., $n-1$ comparisons); the product of these resulting in O($n^2$) time complexity. So, don't use quick sort if the array is nearly in order! \n",
        "\n",
        "**Best-case time**: If all values in the array are equal, quick sort will scan over them all once to confirm this, in which case it has O($n$) time complexity. The more values that are equal in the array, the closer to O($n$) performance will be."
      ]
    },
    {
      "cell_type": "markdown",
      "metadata": {
        "id": "wGql4D1WbRBH"
      },
      "source": [
        "Those are the most frequently covered sorting algos. They're relatively straightforward to implement and illustrate time/space complexity trade-offs clearly. There are, however, many more ways to sort, with pros and cons related to time/space complexity as well as implementation difficulty. See the [Big O Cheat Sheet here](https://www.bigocheatsheet.com)."
      ]
    },
    {
      "cell_type": "markdown",
      "metadata": {
        "id": "ceTsWVKgbRBH"
      },
      "source": [
        "**Return to slides here.**"
      ]
    },
    {
      "cell_type": "markdown",
      "metadata": {
        "id": "LQOPQyUxbRBI"
      },
      "source": [
        "### Set-Based Data Structures: Maps/Dictionaries"
      ]
    },
    {
      "cell_type": "code",
      "metadata": {
        "id": "-iUBoFZEbRBI",
        "colab": {
          "base_uri": "https://localhost:8080/"
        },
        "outputId": "332c584b-8cd1-479d-869f-3f4dfa7bb587"
      },
      "source": [
        "inventory = {}\n",
        "inventory"
      ],
      "execution_count": 89,
      "outputs": [
        {
          "output_type": "execute_result",
          "data": {
            "text/plain": [
              "{}"
            ]
          },
          "metadata": {},
          "execution_count": 89
        }
      ]
    },
    {
      "cell_type": "code",
      "metadata": {
        "id": "k9ThSSP7bRBK",
        "colab": {
          "base_uri": "https://localhost:8080/"
        },
        "outputId": "81952ffa-0cba-4b6e-c141-98f0696befe6"
      },
      "source": [
        "inventory['hammer'] = [17]\n",
        "inventory"
      ],
      "execution_count": 90,
      "outputs": [
        {
          "output_type": "execute_result",
          "data": {
            "text/plain": [
              "{'hammer': [17]}"
            ]
          },
          "metadata": {},
          "execution_count": 90
        }
      ]
    },
    {
      "cell_type": "code",
      "metadata": {
        "id": "CHAlpCLgbRBL"
      },
      "source": [
        "inventory['nail'] = [2552]\n",
        "inventory['unicorn'] = [2]\n",
        "inventory['dolphin'] = ['none']"
      ],
      "execution_count": 91,
      "outputs": []
    },
    {
      "cell_type": "code",
      "metadata": {
        "id": "GJvRhipdbRBM",
        "colab": {
          "base_uri": "https://localhost:8080/"
        },
        "outputId": "11a10d38-182d-4a50-ae15-a93792739c12"
      },
      "source": [
        "inventory"
      ],
      "execution_count": 92,
      "outputs": [
        {
          "output_type": "execute_result",
          "data": {
            "text/plain": [
              "{'dolphin': ['none'], 'hammer': [17], 'nail': [2552], 'unicorn': [2]}"
            ]
          },
          "metadata": {},
          "execution_count": 92
        }
      ]
    },
    {
      "cell_type": "code",
      "metadata": {
        "id": "iJElGR-VbRBO",
        "colab": {
          "base_uri": "https://localhost:8080/"
        },
        "outputId": "d35da84e-85b4-4325-8ba0-75b3c5f00203"
      },
      "source": [
        "inventory['dolphin'] = [0]\n",
        "inventory"
      ],
      "execution_count": 93,
      "outputs": [
        {
          "output_type": "execute_result",
          "data": {
            "text/plain": [
              "{'dolphin': [0], 'hammer': [17], 'nail': [2552], 'unicorn': [2]}"
            ]
          },
          "metadata": {},
          "execution_count": 93
        }
      ]
    },
    {
      "cell_type": "code",
      "metadata": {
        "id": "kl1avvQAbRBP",
        "colab": {
          "base_uri": "https://localhost:8080/"
        },
        "outputId": "da99f0d2-932e-41af-e4e0-23aded9d3f39"
      },
      "source": [
        "inventory['unicorn'].append(3)\n",
        "inventory"
      ],
      "execution_count": 94,
      "outputs": [
        {
          "output_type": "execute_result",
          "data": {
            "text/plain": [
              "{'dolphin': [0], 'hammer': [17], 'nail': [2552], 'unicorn': [2, 3]}"
            ]
          },
          "metadata": {},
          "execution_count": 94
        }
      ]
    },
    {
      "cell_type": "markdown",
      "metadata": {
        "id": "8EQa-WNwbRBQ"
      },
      "source": [
        "**Return to slides here.**"
      ]
    },
    {
      "cell_type": "markdown",
      "metadata": {
        "id": "QeJeTpTUbRBR"
      },
      "source": [
        "### Hashing"
      ]
    },
    {
      "cell_type": "markdown",
      "metadata": {
        "id": "EZuRS1k8bRBR"
      },
      "source": [
        "Let's say we have some value: "
      ]
    },
    {
      "cell_type": "code",
      "metadata": {
        "id": "qaEqWADrbRBR"
      },
      "source": [
        "value = 5551234567 # a phone number from any American '90s sitcom"
      ],
      "execution_count": 95,
      "outputs": []
    },
    {
      "cell_type": "markdown",
      "metadata": {
        "id": "SYNQv_GgbRBS"
      },
      "source": [
        "A common hash function approach is to use the modulo operator on the last few digits of the value..."
      ]
    },
    {
      "cell_type": "code",
      "metadata": {
        "id": "NdQHebyabRBT",
        "colab": {
          "base_uri": "https://localhost:8080/"
        },
        "outputId": "e4f369ef-d62f-43dd-e167-b65cc3ebe29b"
      },
      "source": [
        "split_value = [digit for digit in str(value)]\n",
        "split_value"
      ],
      "execution_count": 96,
      "outputs": [
        {
          "output_type": "execute_result",
          "data": {
            "text/plain": [
              "['5', '5', '5', '1', '2', '3', '4', '5', '6', '7']"
            ]
          },
          "metadata": {},
          "execution_count": 96
        }
      ]
    },
    {
      "cell_type": "code",
      "metadata": {
        "id": "9ElRrr1obRBU",
        "colab": {
          "base_uri": "https://localhost:8080/"
        },
        "outputId": "ffa216c5-76ac-4f96-c93f-2e67f9c52202"
      },
      "source": [
        "final_digits = int(''.join(split_value[-2:])) # final digits typically used b/c they tend to vary more than first ones\n",
        "final_digits"
      ],
      "execution_count": 97,
      "outputs": [
        {
          "output_type": "execute_result",
          "data": {
            "text/plain": [
              "67"
            ]
          },
          "metadata": {},
          "execution_count": 97
        }
      ]
    },
    {
      "cell_type": "code",
      "metadata": {
        "id": "z8Z9NUsTbRBV",
        "colab": {
          "base_uri": "https://localhost:8080/"
        },
        "outputId": "4b22a58b-7042-44ef-b295-68efb861e1d3"
      },
      "source": [
        "hash_value = final_digits % 10 # 10 is arbitrary, but would be used consistently across values to be hashed\n",
        "hash_value"
      ],
      "execution_count": 98,
      "outputs": [
        {
          "output_type": "execute_result",
          "data": {
            "text/plain": [
              "7"
            ]
          },
          "metadata": {},
          "execution_count": 98
        }
      ]
    },
    {
      "cell_type": "code",
      "metadata": {
        "id": "XEBGAP0FbRBW"
      },
      "source": [
        "def simple_hash(v):\n",
        "    split_v = [digit for digit in str(v)]\n",
        "    final_2 = int(''.join(split_v[-2:]))\n",
        "    return final_2 % 10"
      ],
      "execution_count": 99,
      "outputs": []
    },
    {
      "cell_type": "code",
      "metadata": {
        "id": "FTtuf6sJbRBZ",
        "colab": {
          "base_uri": "https://localhost:8080/"
        },
        "outputId": "de7779f2-bdff-4fba-cebd-3d7346d3dd14"
      },
      "source": [
        "simple_hash(value)"
      ],
      "execution_count": 100,
      "outputs": [
        {
          "output_type": "execute_result",
          "data": {
            "text/plain": [
              "7"
            ]
          },
          "metadata": {},
          "execution_count": 100
        }
      ]
    },
    {
      "cell_type": "code",
      "metadata": {
        "id": "sNdnyNMkbRBb",
        "colab": {
          "base_uri": "https://localhost:8080/"
        },
        "outputId": "35c9489f-940e-41da-cc21-0ecb0f778f1c"
      },
      "source": [
        "simple_hash(5557654321)"
      ],
      "execution_count": 101,
      "outputs": [
        {
          "output_type": "execute_result",
          "data": {
            "text/plain": [
              "1"
            ]
          },
          "metadata": {},
          "execution_count": 101
        }
      ]
    },
    {
      "cell_type": "markdown",
      "metadata": {
        "id": "bPfLF9b4bRBd"
      },
      "source": [
        "These hash values (`7` and `1`) could be used in a sequential, small-integer index, i.e., a *hash table*."
      ]
    },
    {
      "cell_type": "markdown",
      "metadata": {
        "id": "pmpE8IHfbRBe"
      },
      "source": [
        "#### Collisions"
      ]
    },
    {
      "cell_type": "markdown",
      "metadata": {
        "id": "lus6EYZhbRBe"
      },
      "source": [
        "Major problem with the `simple_hash()` function:\n",
        "* The hash table has at most ten indices \n",
        "* Ergo, many input values will result in **collisions**, e.g.:"
      ]
    },
    {
      "cell_type": "code",
      "metadata": {
        "id": "2ylVWx8jbRBe",
        "colab": {
          "base_uri": "https://localhost:8080/"
        },
        "outputId": "582886da-cc8f-4ad5-a285-7e7800fe838c"
      },
      "source": [
        "simple_hash(555)"
      ],
      "execution_count": 102,
      "outputs": [
        {
          "output_type": "execute_result",
          "data": {
            "text/plain": [
              "5"
            ]
          },
          "metadata": {},
          "execution_count": 102
        }
      ]
    },
    {
      "cell_type": "code",
      "metadata": {
        "id": "rSIkIOMtbRBf",
        "colab": {
          "base_uri": "https://localhost:8080/"
        },
        "outputId": "27f039fb-58e2-4f86-89e9-4134b16aa9b8"
      },
      "source": [
        "simple_hash(125)"
      ],
      "execution_count": 103,
      "outputs": [
        {
          "output_type": "execute_result",
          "data": {
            "text/plain": [
              "5"
            ]
          },
          "metadata": {},
          "execution_count": 103
        }
      ]
    },
    {
      "cell_type": "markdown",
      "metadata": {
        "id": "jeVzqmMsbRBg"
      },
      "source": [
        "Three common ways to resolve collisions:\n",
        "1. Change the modulus denominator (e.g., `10` --> `11`); this adds procedural (and thus time) complexity to hash algo\n",
        "2. Change the hash function entirely; ditto w.r.t. procedural complexity\n",
        "3. Store a list (or similar) at the index, e.g.:"
      ]
    },
    {
      "cell_type": "code",
      "metadata": {
        "id": "ZxBjBwmcbRBg"
      },
      "source": [
        "hash_table = {}"
      ],
      "execution_count": 104,
      "outputs": []
    },
    {
      "cell_type": "code",
      "metadata": {
        "id": "vNyDE65wbRBh",
        "colab": {
          "base_uri": "https://localhost:8080/"
        },
        "outputId": "26dcc313-618e-48ef-ddfa-5f63a6032844"
      },
      "source": [
        "hash_table[simple_hash(555)] = [555]\n",
        "hash_table"
      ],
      "execution_count": 105,
      "outputs": [
        {
          "output_type": "execute_result",
          "data": {
            "text/plain": [
              "{5: [555]}"
            ]
          },
          "metadata": {},
          "execution_count": 105
        }
      ]
    },
    {
      "cell_type": "code",
      "metadata": {
        "id": "x4ztIzo4bRBi",
        "colab": {
          "base_uri": "https://localhost:8080/"
        },
        "outputId": "d0a4ea10-5dd6-40d7-c77e-725d50ed2abd"
      },
      "source": [
        "hash_table[simple_hash(125)].append(125)\n",
        "hash_table"
      ],
      "execution_count": 106,
      "outputs": [
        {
          "output_type": "execute_result",
          "data": {
            "text/plain": [
              "{5: [555, 125]}"
            ]
          },
          "metadata": {},
          "execution_count": 106
        }
      ]
    },
    {
      "cell_type": "markdown",
      "metadata": {
        "id": "nE4V0Qq4bRBk"
      },
      "source": [
        "Such a list is called a **bucket**. \n",
        "\n",
        "Worst case:\n",
        "* All of the values hash to the same hash value (e.g., `5`)\n",
        "* Thus, all of the values are stored in a single bucket\n",
        "* Searching through the bucket has linear O($n$) time complexity\n",
        "\n",
        "Alternatively, we can increase memory complexity instead of time complexity: \n",
        "* Use very large modulus denominator\n",
        "* Reduces probability of collisions\n",
        "* If use denominator of `1e9`, we have a hash table with a billion buckets\n",
        "\n",
        "Could also have a second hash function *inside* of the bucket (e.g., if we know we'll have a few very large buckets).\n",
        "\n",
        "There is no \"perfect hash\". It depends on the values you're working with. There are many options to consider with various trade-offs."
      ]
    },
    {
      "cell_type": "markdown",
      "metadata": {
        "id": "98fmN7hBbRBk"
      },
      "source": [
        "**Load Factor**"
      ]
    },
    {
      "cell_type": "markdown",
      "metadata": {
        "id": "GOG4oYkAbRBk"
      },
      "source": [
        "Metric that guides hashing decisions:\n",
        "$$ \\text{load factor} = \\frac{n_\\text{values}}{n_\\text{buckets}} $$"
      ]
    },
    {
      "cell_type": "code",
      "metadata": {
        "id": "HfnftH3VbRBk",
        "colab": {
          "base_uri": "https://localhost:8080/"
        },
        "outputId": "d00011fc-9ca4-4242-da58-62baea49d490"
      },
      "source": [
        "10/1e9"
      ],
      "execution_count": 107,
      "outputs": [
        {
          "output_type": "execute_result",
          "data": {
            "text/plain": [
              "1e-08"
            ]
          },
          "metadata": {},
          "execution_count": 107
        }
      ]
    },
    {
      "cell_type": "markdown",
      "metadata": {
        "id": "PXphCIwvbRBl"
      },
      "source": [
        "If we have ten values to store, but a billion buckets...\n",
        "$$ \\text{load factor} = \\frac{10}{10^9} = 10^{-8}$$"
      ]
    },
    {
      "cell_type": "markdown",
      "metadata": {
        "id": "YtgP2bP2bRBl"
      },
      "source": [
        "...we are probably using much more memory than we need to. This is the case whenever load factor $\\approx 0$."
      ]
    },
    {
      "cell_type": "markdown",
      "metadata": {
        "id": "xD6_09uwbRBm"
      },
      "source": [
        "On the other hand, if the load factor is approaching one, $n_\\text{values} \\approx n_\\text{buckets}$ and we may want to consider a larger hash table.\n",
        "\n",
        "If load factor $>1$, then collisions are guaranteed and the case for a larger hash table is even stronger."
      ]
    },
    {
      "cell_type": "markdown",
      "metadata": {
        "id": "f6CRWlNrbRBm"
      },
      "source": [
        "#### Hash Maps"
      ]
    },
    {
      "cell_type": "markdown",
      "metadata": {
        "id": "rfdnZtvZbRBm"
      },
      "source": [
        "In all of the above examples, we were hashing \"values\", but these \"values\" could in fact be the *keys* of a key-value pair, allowing us to have a **hash map**."
      ]
    },
    {
      "cell_type": "markdown",
      "metadata": {
        "id": "DrsTrapabRBm"
      },
      "source": [
        "Let's say `Jane Dough` has receipt number `5551234567`, where we're using the receipt numbers as keys to look up customers. \n",
        "\n",
        "We can add this as an entry in a hash table for quick lookup later (once we have many more receipts...):"
      ]
    },
    {
      "cell_type": "code",
      "metadata": {
        "id": "hJWypGfybRBm"
      },
      "source": [
        "hash_map = {}"
      ],
      "execution_count": 108,
      "outputs": []
    },
    {
      "cell_type": "code",
      "metadata": {
        "id": "-WE0_Lu3bRBn",
        "colab": {
          "base_uri": "https://localhost:8080/"
        },
        "outputId": "214a31d1-221f-4fcd-9d75-636fdf820d2b"
      },
      "source": [
        "hash_map[simple_hash(5551234567)] = (5551234567, 'Jane Dough')\n",
        "hash_map"
      ],
      "execution_count": 109,
      "outputs": [
        {
          "output_type": "execute_result",
          "data": {
            "text/plain": [
              "{7: (5551234567, 'Jane Dough')}"
            ]
          },
          "metadata": {},
          "execution_count": 109
        }
      ]
    },
    {
      "cell_type": "code",
      "metadata": {
        "id": "J6uw0CTbbRBo",
        "colab": {
          "base_uri": "https://localhost:8080/"
        },
        "outputId": "9b96997a-6840-4bf5-daa4-469fdfc7b054"
      },
      "source": [
        "hash_map[simple_hash(5551234568)] = (5551234568, 'Johnny Dochevski')\n",
        "hash_map"
      ],
      "execution_count": 110,
      "outputs": [
        {
          "output_type": "execute_result",
          "data": {
            "text/plain": [
              "{7: (5551234567, 'Jane Dough'), 8: (5551234568, 'Johnny Dochevski')}"
            ]
          },
          "metadata": {},
          "execution_count": 110
        }
      ]
    },
    {
      "cell_type": "markdown",
      "metadata": {
        "id": "D2EcE46ubRBq"
      },
      "source": [
        "**FYI**: In Python, dictionaries are hash maps."
      ]
    },
    {
      "cell_type": "markdown",
      "metadata": {
        "id": "31sAGRifbRBq"
      },
      "source": [
        "#### String Keys"
      ]
    },
    {
      "cell_type": "markdown",
      "metadata": {
        "id": "h7jhtFxvbRBr"
      },
      "source": [
        "If our keys are character strings, we can still make use of hashing by converting the character string into an integer.\n",
        "\n",
        "For example, we could use the [ASCII table](http://www.asciitable.com) to convert `Jon` to `112157156`."
      ]
    },
    {
      "cell_type": "markdown",
      "metadata": {
        "id": "L4WA71uvKYm8"
      },
      "source": [
        "**Exercises**\n",
        "\n",
        "1. Use the `simple_hash()` function to add a customer named Jean d'Eau, who has receipt number `5551234569`, to `hash_map`.\n",
        "\n",
        "1. You have a hash table with a million buckets and two million values to store in the table. What is your load factor? Are collisions likely? If so, how can the probability of collisions be reduced? \n",
        "\n",
        "1. Use the octal standard of the ASCII table to convert the string `Llama` into an integer representation."
      ]
    },
    {
      "cell_type": "markdown",
      "metadata": {
        "id": "zZMONjCZbRBr"
      },
      "source": [
        "**Return to slides here.**"
      ]
    },
    {
      "cell_type": "markdown",
      "metadata": {
        "id": "CP9-bZ3XbRBr"
      },
      "source": [
        "## Segment 3: Trees and Graphs"
      ]
    },
    {
      "cell_type": "markdown",
      "metadata": {
        "id": "4I1ClWo7bRBr"
      },
      "source": [
        "### Decision Trees"
      ]
    },
    {
      "cell_type": "code",
      "metadata": {
        "id": "_AQ6Eo8qbRBr"
      },
      "source": [
        "titanic = sns.load_dataset('titanic')"
      ],
      "execution_count": 111,
      "outputs": []
    },
    {
      "cell_type": "code",
      "metadata": {
        "id": "4r5mwCPWbRBs",
        "colab": {
          "base_uri": "https://localhost:8080/",
          "height": 0
        },
        "outputId": "06de2794-1723-4e23-92be-1cc4274a5fd4"
      },
      "source": [
        "titanic"
      ],
      "execution_count": 112,
      "outputs": [
        {
          "output_type": "execute_result",
          "data": {
            "text/html": [
              "<div>\n",
              "<style scoped>\n",
              "    .dataframe tbody tr th:only-of-type {\n",
              "        vertical-align: middle;\n",
              "    }\n",
              "\n",
              "    .dataframe tbody tr th {\n",
              "        vertical-align: top;\n",
              "    }\n",
              "\n",
              "    .dataframe thead th {\n",
              "        text-align: right;\n",
              "    }\n",
              "</style>\n",
              "<table border=\"1\" class=\"dataframe\">\n",
              "  <thead>\n",
              "    <tr style=\"text-align: right;\">\n",
              "      <th></th>\n",
              "      <th>survived</th>\n",
              "      <th>pclass</th>\n",
              "      <th>sex</th>\n",
              "      <th>age</th>\n",
              "      <th>sibsp</th>\n",
              "      <th>parch</th>\n",
              "      <th>fare</th>\n",
              "      <th>embarked</th>\n",
              "      <th>class</th>\n",
              "      <th>who</th>\n",
              "      <th>adult_male</th>\n",
              "      <th>deck</th>\n",
              "      <th>embark_town</th>\n",
              "      <th>alive</th>\n",
              "      <th>alone</th>\n",
              "    </tr>\n",
              "  </thead>\n",
              "  <tbody>\n",
              "    <tr>\n",
              "      <th>0</th>\n",
              "      <td>0</td>\n",
              "      <td>3</td>\n",
              "      <td>male</td>\n",
              "      <td>22.0</td>\n",
              "      <td>1</td>\n",
              "      <td>0</td>\n",
              "      <td>7.2500</td>\n",
              "      <td>S</td>\n",
              "      <td>Third</td>\n",
              "      <td>man</td>\n",
              "      <td>True</td>\n",
              "      <td>NaN</td>\n",
              "      <td>Southampton</td>\n",
              "      <td>no</td>\n",
              "      <td>False</td>\n",
              "    </tr>\n",
              "    <tr>\n",
              "      <th>1</th>\n",
              "      <td>1</td>\n",
              "      <td>1</td>\n",
              "      <td>female</td>\n",
              "      <td>38.0</td>\n",
              "      <td>1</td>\n",
              "      <td>0</td>\n",
              "      <td>71.2833</td>\n",
              "      <td>C</td>\n",
              "      <td>First</td>\n",
              "      <td>woman</td>\n",
              "      <td>False</td>\n",
              "      <td>C</td>\n",
              "      <td>Cherbourg</td>\n",
              "      <td>yes</td>\n",
              "      <td>False</td>\n",
              "    </tr>\n",
              "    <tr>\n",
              "      <th>2</th>\n",
              "      <td>1</td>\n",
              "      <td>3</td>\n",
              "      <td>female</td>\n",
              "      <td>26.0</td>\n",
              "      <td>0</td>\n",
              "      <td>0</td>\n",
              "      <td>7.9250</td>\n",
              "      <td>S</td>\n",
              "      <td>Third</td>\n",
              "      <td>woman</td>\n",
              "      <td>False</td>\n",
              "      <td>NaN</td>\n",
              "      <td>Southampton</td>\n",
              "      <td>yes</td>\n",
              "      <td>True</td>\n",
              "    </tr>\n",
              "    <tr>\n",
              "      <th>3</th>\n",
              "      <td>1</td>\n",
              "      <td>1</td>\n",
              "      <td>female</td>\n",
              "      <td>35.0</td>\n",
              "      <td>1</td>\n",
              "      <td>0</td>\n",
              "      <td>53.1000</td>\n",
              "      <td>S</td>\n",
              "      <td>First</td>\n",
              "      <td>woman</td>\n",
              "      <td>False</td>\n",
              "      <td>C</td>\n",
              "      <td>Southampton</td>\n",
              "      <td>yes</td>\n",
              "      <td>False</td>\n",
              "    </tr>\n",
              "    <tr>\n",
              "      <th>4</th>\n",
              "      <td>0</td>\n",
              "      <td>3</td>\n",
              "      <td>male</td>\n",
              "      <td>35.0</td>\n",
              "      <td>0</td>\n",
              "      <td>0</td>\n",
              "      <td>8.0500</td>\n",
              "      <td>S</td>\n",
              "      <td>Third</td>\n",
              "      <td>man</td>\n",
              "      <td>True</td>\n",
              "      <td>NaN</td>\n",
              "      <td>Southampton</td>\n",
              "      <td>no</td>\n",
              "      <td>True</td>\n",
              "    </tr>\n",
              "    <tr>\n",
              "      <th>...</th>\n",
              "      <td>...</td>\n",
              "      <td>...</td>\n",
              "      <td>...</td>\n",
              "      <td>...</td>\n",
              "      <td>...</td>\n",
              "      <td>...</td>\n",
              "      <td>...</td>\n",
              "      <td>...</td>\n",
              "      <td>...</td>\n",
              "      <td>...</td>\n",
              "      <td>...</td>\n",
              "      <td>...</td>\n",
              "      <td>...</td>\n",
              "      <td>...</td>\n",
              "      <td>...</td>\n",
              "    </tr>\n",
              "    <tr>\n",
              "      <th>886</th>\n",
              "      <td>0</td>\n",
              "      <td>2</td>\n",
              "      <td>male</td>\n",
              "      <td>27.0</td>\n",
              "      <td>0</td>\n",
              "      <td>0</td>\n",
              "      <td>13.0000</td>\n",
              "      <td>S</td>\n",
              "      <td>Second</td>\n",
              "      <td>man</td>\n",
              "      <td>True</td>\n",
              "      <td>NaN</td>\n",
              "      <td>Southampton</td>\n",
              "      <td>no</td>\n",
              "      <td>True</td>\n",
              "    </tr>\n",
              "    <tr>\n",
              "      <th>887</th>\n",
              "      <td>1</td>\n",
              "      <td>1</td>\n",
              "      <td>female</td>\n",
              "      <td>19.0</td>\n",
              "      <td>0</td>\n",
              "      <td>0</td>\n",
              "      <td>30.0000</td>\n",
              "      <td>S</td>\n",
              "      <td>First</td>\n",
              "      <td>woman</td>\n",
              "      <td>False</td>\n",
              "      <td>B</td>\n",
              "      <td>Southampton</td>\n",
              "      <td>yes</td>\n",
              "      <td>True</td>\n",
              "    </tr>\n",
              "    <tr>\n",
              "      <th>888</th>\n",
              "      <td>0</td>\n",
              "      <td>3</td>\n",
              "      <td>female</td>\n",
              "      <td>NaN</td>\n",
              "      <td>1</td>\n",
              "      <td>2</td>\n",
              "      <td>23.4500</td>\n",
              "      <td>S</td>\n",
              "      <td>Third</td>\n",
              "      <td>woman</td>\n",
              "      <td>False</td>\n",
              "      <td>NaN</td>\n",
              "      <td>Southampton</td>\n",
              "      <td>no</td>\n",
              "      <td>False</td>\n",
              "    </tr>\n",
              "    <tr>\n",
              "      <th>889</th>\n",
              "      <td>1</td>\n",
              "      <td>1</td>\n",
              "      <td>male</td>\n",
              "      <td>26.0</td>\n",
              "      <td>0</td>\n",
              "      <td>0</td>\n",
              "      <td>30.0000</td>\n",
              "      <td>C</td>\n",
              "      <td>First</td>\n",
              "      <td>man</td>\n",
              "      <td>True</td>\n",
              "      <td>C</td>\n",
              "      <td>Cherbourg</td>\n",
              "      <td>yes</td>\n",
              "      <td>True</td>\n",
              "    </tr>\n",
              "    <tr>\n",
              "      <th>890</th>\n",
              "      <td>0</td>\n",
              "      <td>3</td>\n",
              "      <td>male</td>\n",
              "      <td>32.0</td>\n",
              "      <td>0</td>\n",
              "      <td>0</td>\n",
              "      <td>7.7500</td>\n",
              "      <td>Q</td>\n",
              "      <td>Third</td>\n",
              "      <td>man</td>\n",
              "      <td>True</td>\n",
              "      <td>NaN</td>\n",
              "      <td>Queenstown</td>\n",
              "      <td>no</td>\n",
              "      <td>True</td>\n",
              "    </tr>\n",
              "  </tbody>\n",
              "</table>\n",
              "<p>891 rows × 15 columns</p>\n",
              "</div>"
            ],
            "text/plain": [
              "     survived  pclass     sex   age  ...  deck  embark_town  alive  alone\n",
              "0           0       3    male  22.0  ...   NaN  Southampton     no  False\n",
              "1           1       1  female  38.0  ...     C    Cherbourg    yes  False\n",
              "2           1       3  female  26.0  ...   NaN  Southampton    yes   True\n",
              "3           1       1  female  35.0  ...     C  Southampton    yes  False\n",
              "4           0       3    male  35.0  ...   NaN  Southampton     no   True\n",
              "..        ...     ...     ...   ...  ...   ...          ...    ...    ...\n",
              "886         0       2    male  27.0  ...   NaN  Southampton     no   True\n",
              "887         1       1  female  19.0  ...     B  Southampton    yes   True\n",
              "888         0       3  female   NaN  ...   NaN  Southampton     no  False\n",
              "889         1       1    male  26.0  ...     C    Cherbourg    yes   True\n",
              "890         0       3    male  32.0  ...   NaN   Queenstown     no   True\n",
              "\n",
              "[891 rows x 15 columns]"
            ]
          },
          "metadata": {},
          "execution_count": 112
        }
      ]
    },
    {
      "cell_type": "code",
      "metadata": {
        "id": "ybcAVekXbRBt",
        "colab": {
          "base_uri": "https://localhost:8080/"
        },
        "outputId": "3739d50b-62de-4316-e65f-d639cdba4b03"
      },
      "source": [
        "np.unique(titanic['survived'], return_counts=True)"
      ],
      "execution_count": 113,
      "outputs": [
        {
          "output_type": "execute_result",
          "data": {
            "text/plain": [
              "(array([0, 1]), array([549, 342]))"
            ]
          },
          "metadata": {},
          "execution_count": 113
        }
      ]
    },
    {
      "cell_type": "code",
      "metadata": {
        "id": "iRMcgJsMbRBu",
        "colab": {
          "base_uri": "https://localhost:8080/"
        },
        "outputId": "58c03c2e-f668-4809-dac3-0296a10c94d1"
      },
      "source": [
        "np.unique(titanic['sex'], return_counts=True)"
      ],
      "execution_count": 114,
      "outputs": [
        {
          "output_type": "execute_result",
          "data": {
            "text/plain": [
              "(array(['female', 'male'], dtype=object), array([314, 577]))"
            ]
          },
          "metadata": {},
          "execution_count": 114
        }
      ]
    },
    {
      "cell_type": "code",
      "metadata": {
        "id": "ypbFKoWYbRBw",
        "colab": {
          "base_uri": "https://localhost:8080/"
        },
        "outputId": "b77537dd-d64a-49b9-d1e4-36c9946cd691"
      },
      "source": [
        "np.unique(titanic['class'], return_counts=True)"
      ],
      "execution_count": 115,
      "outputs": [
        {
          "output_type": "execute_result",
          "data": {
            "text/plain": [
              "(array(['First', 'Second', 'Third'], dtype=object), array([216, 184, 491]))"
            ]
          },
          "metadata": {},
          "execution_count": 115
        }
      ]
    },
    {
      "cell_type": "code",
      "metadata": {
        "id": "c7fhfdfjbRBx",
        "colab": {
          "base_uri": "https://localhost:8080/",
          "height": 0
        },
        "outputId": "c574bc9c-e387-47a5-d465-330ed6e8c49e"
      },
      "source": [
        "gender = pd.get_dummies(titanic['sex'])\n",
        "gender"
      ],
      "execution_count": 116,
      "outputs": [
        {
          "output_type": "execute_result",
          "data": {
            "text/html": [
              "<div>\n",
              "<style scoped>\n",
              "    .dataframe tbody tr th:only-of-type {\n",
              "        vertical-align: middle;\n",
              "    }\n",
              "\n",
              "    .dataframe tbody tr th {\n",
              "        vertical-align: top;\n",
              "    }\n",
              "\n",
              "    .dataframe thead th {\n",
              "        text-align: right;\n",
              "    }\n",
              "</style>\n",
              "<table border=\"1\" class=\"dataframe\">\n",
              "  <thead>\n",
              "    <tr style=\"text-align: right;\">\n",
              "      <th></th>\n",
              "      <th>female</th>\n",
              "      <th>male</th>\n",
              "    </tr>\n",
              "  </thead>\n",
              "  <tbody>\n",
              "    <tr>\n",
              "      <th>0</th>\n",
              "      <td>0</td>\n",
              "      <td>1</td>\n",
              "    </tr>\n",
              "    <tr>\n",
              "      <th>1</th>\n",
              "      <td>1</td>\n",
              "      <td>0</td>\n",
              "    </tr>\n",
              "    <tr>\n",
              "      <th>2</th>\n",
              "      <td>1</td>\n",
              "      <td>0</td>\n",
              "    </tr>\n",
              "    <tr>\n",
              "      <th>3</th>\n",
              "      <td>1</td>\n",
              "      <td>0</td>\n",
              "    </tr>\n",
              "    <tr>\n",
              "      <th>4</th>\n",
              "      <td>0</td>\n",
              "      <td>1</td>\n",
              "    </tr>\n",
              "    <tr>\n",
              "      <th>...</th>\n",
              "      <td>...</td>\n",
              "      <td>...</td>\n",
              "    </tr>\n",
              "    <tr>\n",
              "      <th>886</th>\n",
              "      <td>0</td>\n",
              "      <td>1</td>\n",
              "    </tr>\n",
              "    <tr>\n",
              "      <th>887</th>\n",
              "      <td>1</td>\n",
              "      <td>0</td>\n",
              "    </tr>\n",
              "    <tr>\n",
              "      <th>888</th>\n",
              "      <td>1</td>\n",
              "      <td>0</td>\n",
              "    </tr>\n",
              "    <tr>\n",
              "      <th>889</th>\n",
              "      <td>0</td>\n",
              "      <td>1</td>\n",
              "    </tr>\n",
              "    <tr>\n",
              "      <th>890</th>\n",
              "      <td>0</td>\n",
              "      <td>1</td>\n",
              "    </tr>\n",
              "  </tbody>\n",
              "</table>\n",
              "<p>891 rows × 2 columns</p>\n",
              "</div>"
            ],
            "text/plain": [
              "     female  male\n",
              "0         0     1\n",
              "1         1     0\n",
              "2         1     0\n",
              "3         1     0\n",
              "4         0     1\n",
              "..      ...   ...\n",
              "886       0     1\n",
              "887       1     0\n",
              "888       1     0\n",
              "889       0     1\n",
              "890       0     1\n",
              "\n",
              "[891 rows x 2 columns]"
            ]
          },
          "metadata": {},
          "execution_count": 116
        }
      ]
    },
    {
      "cell_type": "code",
      "metadata": {
        "id": "5ZrmCPalbRBy",
        "colab": {
          "base_uri": "https://localhost:8080/",
          "height": 0
        },
        "outputId": "a68b00bc-fdb2-4474-b981-d6897535419b"
      },
      "source": [
        "clas = pd.get_dummies(titanic['class'])\n",
        "clas"
      ],
      "execution_count": 117,
      "outputs": [
        {
          "output_type": "execute_result",
          "data": {
            "text/html": [
              "<div>\n",
              "<style scoped>\n",
              "    .dataframe tbody tr th:only-of-type {\n",
              "        vertical-align: middle;\n",
              "    }\n",
              "\n",
              "    .dataframe tbody tr th {\n",
              "        vertical-align: top;\n",
              "    }\n",
              "\n",
              "    .dataframe thead th {\n",
              "        text-align: right;\n",
              "    }\n",
              "</style>\n",
              "<table border=\"1\" class=\"dataframe\">\n",
              "  <thead>\n",
              "    <tr style=\"text-align: right;\">\n",
              "      <th></th>\n",
              "      <th>First</th>\n",
              "      <th>Second</th>\n",
              "      <th>Third</th>\n",
              "    </tr>\n",
              "  </thead>\n",
              "  <tbody>\n",
              "    <tr>\n",
              "      <th>0</th>\n",
              "      <td>0</td>\n",
              "      <td>0</td>\n",
              "      <td>1</td>\n",
              "    </tr>\n",
              "    <tr>\n",
              "      <th>1</th>\n",
              "      <td>1</td>\n",
              "      <td>0</td>\n",
              "      <td>0</td>\n",
              "    </tr>\n",
              "    <tr>\n",
              "      <th>2</th>\n",
              "      <td>0</td>\n",
              "      <td>0</td>\n",
              "      <td>1</td>\n",
              "    </tr>\n",
              "    <tr>\n",
              "      <th>3</th>\n",
              "      <td>1</td>\n",
              "      <td>0</td>\n",
              "      <td>0</td>\n",
              "    </tr>\n",
              "    <tr>\n",
              "      <th>4</th>\n",
              "      <td>0</td>\n",
              "      <td>0</td>\n",
              "      <td>1</td>\n",
              "    </tr>\n",
              "    <tr>\n",
              "      <th>...</th>\n",
              "      <td>...</td>\n",
              "      <td>...</td>\n",
              "      <td>...</td>\n",
              "    </tr>\n",
              "    <tr>\n",
              "      <th>886</th>\n",
              "      <td>0</td>\n",
              "      <td>1</td>\n",
              "      <td>0</td>\n",
              "    </tr>\n",
              "    <tr>\n",
              "      <th>887</th>\n",
              "      <td>1</td>\n",
              "      <td>0</td>\n",
              "      <td>0</td>\n",
              "    </tr>\n",
              "    <tr>\n",
              "      <th>888</th>\n",
              "      <td>0</td>\n",
              "      <td>0</td>\n",
              "      <td>1</td>\n",
              "    </tr>\n",
              "    <tr>\n",
              "      <th>889</th>\n",
              "      <td>1</td>\n",
              "      <td>0</td>\n",
              "      <td>0</td>\n",
              "    </tr>\n",
              "    <tr>\n",
              "      <th>890</th>\n",
              "      <td>0</td>\n",
              "      <td>0</td>\n",
              "      <td>1</td>\n",
              "    </tr>\n",
              "  </tbody>\n",
              "</table>\n",
              "<p>891 rows × 3 columns</p>\n",
              "</div>"
            ],
            "text/plain": [
              "     First  Second  Third\n",
              "0        0       0      1\n",
              "1        1       0      0\n",
              "2        0       0      1\n",
              "3        1       0      0\n",
              "4        0       0      1\n",
              "..     ...     ...    ...\n",
              "886      0       1      0\n",
              "887      1       0      0\n",
              "888      0       0      1\n",
              "889      1       0      0\n",
              "890      0       0      1\n",
              "\n",
              "[891 rows x 3 columns]"
            ]
          },
          "metadata": {},
          "execution_count": 117
        }
      ]
    },
    {
      "cell_type": "code",
      "metadata": {
        "id": "iyu7ditFbRBz"
      },
      "source": [
        "y = titanic.survived"
      ],
      "execution_count": 118,
      "outputs": []
    },
    {
      "cell_type": "code",
      "metadata": {
        "id": "RxhDwnjFbRB2",
        "colab": {
          "base_uri": "https://localhost:8080/",
          "height": 0
        },
        "outputId": "9ca908be-2c86-4cad-d6aa-d56e09a7cb12"
      },
      "source": [
        "X = pd.concat([clas.First, clas.Second, gender.female], axis=1)\n",
        "X"
      ],
      "execution_count": 119,
      "outputs": [
        {
          "output_type": "execute_result",
          "data": {
            "text/html": [
              "<div>\n",
              "<style scoped>\n",
              "    .dataframe tbody tr th:only-of-type {\n",
              "        vertical-align: middle;\n",
              "    }\n",
              "\n",
              "    .dataframe tbody tr th {\n",
              "        vertical-align: top;\n",
              "    }\n",
              "\n",
              "    .dataframe thead th {\n",
              "        text-align: right;\n",
              "    }\n",
              "</style>\n",
              "<table border=\"1\" class=\"dataframe\">\n",
              "  <thead>\n",
              "    <tr style=\"text-align: right;\">\n",
              "      <th></th>\n",
              "      <th>First</th>\n",
              "      <th>Second</th>\n",
              "      <th>female</th>\n",
              "    </tr>\n",
              "  </thead>\n",
              "  <tbody>\n",
              "    <tr>\n",
              "      <th>0</th>\n",
              "      <td>0</td>\n",
              "      <td>0</td>\n",
              "      <td>0</td>\n",
              "    </tr>\n",
              "    <tr>\n",
              "      <th>1</th>\n",
              "      <td>1</td>\n",
              "      <td>0</td>\n",
              "      <td>1</td>\n",
              "    </tr>\n",
              "    <tr>\n",
              "      <th>2</th>\n",
              "      <td>0</td>\n",
              "      <td>0</td>\n",
              "      <td>1</td>\n",
              "    </tr>\n",
              "    <tr>\n",
              "      <th>3</th>\n",
              "      <td>1</td>\n",
              "      <td>0</td>\n",
              "      <td>1</td>\n",
              "    </tr>\n",
              "    <tr>\n",
              "      <th>4</th>\n",
              "      <td>0</td>\n",
              "      <td>0</td>\n",
              "      <td>0</td>\n",
              "    </tr>\n",
              "    <tr>\n",
              "      <th>...</th>\n",
              "      <td>...</td>\n",
              "      <td>...</td>\n",
              "      <td>...</td>\n",
              "    </tr>\n",
              "    <tr>\n",
              "      <th>886</th>\n",
              "      <td>0</td>\n",
              "      <td>1</td>\n",
              "      <td>0</td>\n",
              "    </tr>\n",
              "    <tr>\n",
              "      <th>887</th>\n",
              "      <td>1</td>\n",
              "      <td>0</td>\n",
              "      <td>1</td>\n",
              "    </tr>\n",
              "    <tr>\n",
              "      <th>888</th>\n",
              "      <td>0</td>\n",
              "      <td>0</td>\n",
              "      <td>1</td>\n",
              "    </tr>\n",
              "    <tr>\n",
              "      <th>889</th>\n",
              "      <td>1</td>\n",
              "      <td>0</td>\n",
              "      <td>0</td>\n",
              "    </tr>\n",
              "    <tr>\n",
              "      <th>890</th>\n",
              "      <td>0</td>\n",
              "      <td>0</td>\n",
              "      <td>0</td>\n",
              "    </tr>\n",
              "  </tbody>\n",
              "</table>\n",
              "<p>891 rows × 3 columns</p>\n",
              "</div>"
            ],
            "text/plain": [
              "     First  Second  female\n",
              "0        0       0       0\n",
              "1        1       0       1\n",
              "2        0       0       1\n",
              "3        1       0       1\n",
              "4        0       0       0\n",
              "..     ...     ...     ...\n",
              "886      0       1       0\n",
              "887      1       0       1\n",
              "888      0       0       1\n",
              "889      1       0       0\n",
              "890      0       0       0\n",
              "\n",
              "[891 rows x 3 columns]"
            ]
          },
          "metadata": {},
          "execution_count": 119
        }
      ]
    },
    {
      "cell_type": "code",
      "metadata": {
        "id": "zsJ5YtrdbRB3"
      },
      "source": [
        "from sklearn.model_selection import train_test_split"
      ],
      "execution_count": 120,
      "outputs": []
    },
    {
      "cell_type": "code",
      "metadata": {
        "id": "WuqGw1-ZbRB5"
      },
      "source": [
        "X_train, X_test, y_train, y_test = train_test_split(X, y, test_size=0.33, random_state=42)"
      ],
      "execution_count": 121,
      "outputs": []
    },
    {
      "cell_type": "code",
      "metadata": {
        "id": "U-NyY2qTbRB6",
        "colab": {
          "base_uri": "https://localhost:8080/"
        },
        "outputId": "2755f7f1-596c-48ba-ca24-45dbcd3b15ab"
      },
      "source": [
        "X_train.shape"
      ],
      "execution_count": 122,
      "outputs": [
        {
          "output_type": "execute_result",
          "data": {
            "text/plain": [
              "(596, 3)"
            ]
          },
          "metadata": {},
          "execution_count": 122
        }
      ]
    },
    {
      "cell_type": "code",
      "metadata": {
        "id": "9YOgdtp3bRB7",
        "colab": {
          "base_uri": "https://localhost:8080/"
        },
        "outputId": "57987608-5048-4a0e-8732-2136a3cf1d2d"
      },
      "source": [
        "y_train.shape"
      ],
      "execution_count": 123,
      "outputs": [
        {
          "output_type": "execute_result",
          "data": {
            "text/plain": [
              "(596,)"
            ]
          },
          "metadata": {},
          "execution_count": 123
        }
      ]
    },
    {
      "cell_type": "code",
      "metadata": {
        "id": "Jjc8dNehbRB9",
        "colab": {
          "base_uri": "https://localhost:8080/"
        },
        "outputId": "47765fa3-24d8-4972-80a5-01eb6363cfd9"
      },
      "source": [
        "X_test.shape"
      ],
      "execution_count": 124,
      "outputs": [
        {
          "output_type": "execute_result",
          "data": {
            "text/plain": [
              "(295, 3)"
            ]
          },
          "metadata": {},
          "execution_count": 124
        }
      ]
    },
    {
      "cell_type": "code",
      "metadata": {
        "id": "AQn0vfiLbRCA",
        "colab": {
          "base_uri": "https://localhost:8080/"
        },
        "outputId": "df962d1f-edb1-49e9-9d1c-ac438306b5f5"
      },
      "source": [
        "y_test.shape"
      ],
      "execution_count": 125,
      "outputs": [
        {
          "output_type": "execute_result",
          "data": {
            "text/plain": [
              "(295,)"
            ]
          },
          "metadata": {},
          "execution_count": 125
        }
      ]
    },
    {
      "cell_type": "code",
      "metadata": {
        "id": "_qqzwlHWbRCB"
      },
      "source": [
        "from sklearn.tree import DecisionTreeClassifier, plot_tree"
      ],
      "execution_count": 126,
      "outputs": []
    },
    {
      "cell_type": "code",
      "metadata": {
        "id": "6rQcNwcgbRCC"
      },
      "source": [
        "dt_model = DecisionTreeClassifier()"
      ],
      "execution_count": 127,
      "outputs": []
    },
    {
      "cell_type": "code",
      "metadata": {
        "id": "5qy2a1RKbRCE",
        "colab": {
          "base_uri": "https://localhost:8080/"
        },
        "outputId": "83682653-e4b5-4892-d8fa-e4b0addcdbd8"
      },
      "source": [
        "dt_model.fit(X_train, y_train)"
      ],
      "execution_count": 128,
      "outputs": [
        {
          "output_type": "execute_result",
          "data": {
            "text/plain": [
              "DecisionTreeClassifier()"
            ]
          },
          "metadata": {},
          "execution_count": 128
        }
      ]
    },
    {
      "cell_type": "code",
      "metadata": {
        "id": "rwU0_o7tbRCG",
        "colab": {
          "base_uri": "https://localhost:8080/",
          "height": 0
        },
        "outputId": "f3d4f251-3063-43d1-b294-309a6d5f5a80"
      },
      "source": [
        "plot_tree(dt_model) # can read about Gini here: en.wikipedia.org/wiki/Decision_tree_learning#Gini_impurity"
      ],
      "execution_count": 129,
      "outputs": [
        {
          "output_type": "execute_result",
          "data": {
            "text/plain": [
              "[Text(186.0, 190.26, 'X[2] <= 0.5\\ngini = 0.467\\nsamples = 596\\nvalue = [374, 222]'),\n",
              " Text(111.60000000000001, 135.9, 'X[0] <= 0.5\\ngini = 0.304\\nsamples = 390\\nvalue = [317, 73]'),\n",
              " Text(74.4, 81.53999999999999, 'X[1] <= 0.5\\ngini = 0.263\\nsamples = 314\\nvalue = [265, 49]'),\n",
              " Text(37.2, 27.180000000000007, 'gini = 0.252\\nsamples = 237\\nvalue = [202, 35]'),\n",
              " Text(111.60000000000001, 27.180000000000007, 'gini = 0.298\\nsamples = 77\\nvalue = [63, 14]'),\n",
              " Text(148.8, 81.53999999999999, 'gini = 0.432\\nsamples = 76\\nvalue = [52, 24]'),\n",
              " Text(260.40000000000003, 135.9, 'X[0] <= 0.5\\ngini = 0.4\\nsamples = 206\\nvalue = [57, 149]'),\n",
              " Text(223.20000000000002, 81.53999999999999, 'X[1] <= 0.5\\ngini = 0.465\\nsamples = 147\\nvalue = [54, 93]'),\n",
              " Text(186.0, 27.180000000000007, 'gini = 0.498\\nsamples = 99\\nvalue = [53, 46]'),\n",
              " Text(260.40000000000003, 27.180000000000007, 'gini = 0.041\\nsamples = 48\\nvalue = [1, 47]'),\n",
              " Text(297.6, 81.53999999999999, 'gini = 0.097\\nsamples = 59\\nvalue = [3, 56]')]"
            ]
          },
          "metadata": {},
          "execution_count": 129
        },
        {
          "output_type": "display_data",
          "data": {
            "image/png": "[encoded data removed]",
            "text/plain": [
              "<Figure size 432x288 with 1 Axes>"
            ]
          },
          "metadata": {
            "needs_background": "light"
          }
        }
      ]
    },
    {
      "cell_type": "code",
      "metadata": {
        "id": "h11i69csbRCH"
      },
      "source": [
        "rose = np.array([[1, 0, 1]]) # must be matrix format\n",
        "jack = np.array([[0, 0, 0]])"
      ],
      "execution_count": 130,
      "outputs": []
    },
    {
      "cell_type": "code",
      "metadata": {
        "id": "Ij3pgICEbRCI",
        "colab": {
          "base_uri": "https://localhost:8080/"
        },
        "outputId": "f633abc0-56ac-4b6a-b412-c41134e1f121"
      },
      "source": [
        "dt_model.predict(rose)"
      ],
      "execution_count": 131,
      "outputs": [
        {
          "output_type": "stream",
          "name": "stderr",
          "text": [
            "/usr/local/lib/python3.7/dist-packages/sklearn/base.py:446: UserWarning: X does not have valid feature names, but DecisionTreeClassifier was fitted with feature names\n",
            "  \"X does not have valid feature names, but\"\n"
          ]
        },
        {
          "output_type": "execute_result",
          "data": {
            "text/plain": [
              "array([1])"
            ]
          },
          "metadata": {},
          "execution_count": 131
        }
      ]
    },
    {
      "cell_type": "code",
      "metadata": {
        "id": "XShTUGbPu1Pl",
        "colab": {
          "base_uri": "https://localhost:8080/"
        },
        "outputId": "1e02b912-6365-444b-fe72-9deb1d3a9042"
      },
      "source": [
        "dt_model.predict_proba(rose)"
      ],
      "execution_count": 132,
      "outputs": [
        {
          "output_type": "stream",
          "name": "stderr",
          "text": [
            "/usr/local/lib/python3.7/dist-packages/sklearn/base.py:446: UserWarning: X does not have valid feature names, but DecisionTreeClassifier was fitted with feature names\n",
            "  \"X does not have valid feature names, but\"\n"
          ]
        },
        {
          "output_type": "execute_result",
          "data": {
            "text/plain": [
              "array([[0.05084746, 0.94915254]])"
            ]
          },
          "metadata": {},
          "execution_count": 132
        }
      ]
    },
    {
      "cell_type": "code",
      "metadata": {
        "id": "VO3j3_T8bRCJ",
        "colab": {
          "base_uri": "https://localhost:8080/"
        },
        "outputId": "fec76d21-5cc1-4a42-8b45-3ee502645e1a"
      },
      "source": [
        "dt_model.predict(jack)"
      ],
      "execution_count": 133,
      "outputs": [
        {
          "output_type": "stream",
          "name": "stderr",
          "text": [
            "/usr/local/lib/python3.7/dist-packages/sklearn/base.py:446: UserWarning: X does not have valid feature names, but DecisionTreeClassifier was fitted with feature names\n",
            "  \"X does not have valid feature names, but\"\n"
          ]
        },
        {
          "output_type": "execute_result",
          "data": {
            "text/plain": [
              "array([0])"
            ]
          },
          "metadata": {},
          "execution_count": 133
        }
      ]
    },
    {
      "cell_type": "code",
      "metadata": {
        "id": "mnjuDxEou-1e",
        "colab": {
          "base_uri": "https://localhost:8080/"
        },
        "outputId": "cebe66b1-83f8-4d34-d3f4-554ad33b2ef7"
      },
      "source": [
        "dt_model.predict_proba(jack)"
      ],
      "execution_count": 134,
      "outputs": [
        {
          "output_type": "stream",
          "name": "stderr",
          "text": [
            "/usr/local/lib/python3.7/dist-packages/sklearn/base.py:446: UserWarning: X does not have valid feature names, but DecisionTreeClassifier was fitted with feature names\n",
            "  \"X does not have valid feature names, but\"\n"
          ]
        },
        {
          "output_type": "execute_result",
          "data": {
            "text/plain": [
              "array([[0.85232068, 0.14767932]])"
            ]
          },
          "metadata": {},
          "execution_count": 134
        }
      ]
    },
    {
      "cell_type": "code",
      "metadata": {
        "id": "P3OSLifkbRCK"
      },
      "source": [
        "dt_yhat = dt_model.predict(X_test) # decision trees are prone to overfitting training data"
      ],
      "execution_count": 135,
      "outputs": []
    },
    {
      "cell_type": "code",
      "metadata": {
        "id": "GmSFtkv6tgr1",
        "colab": {
          "base_uri": "https://localhost:8080/"
        },
        "outputId": "5567eeff-28cc-4b4d-c9d8-51df5aa6a9e6"
      },
      "source": [
        "dt_yhat[0:6]"
      ],
      "execution_count": 136,
      "outputs": [
        {
          "output_type": "execute_result",
          "data": {
            "text/plain": [
              "array([0, 0, 0, 1, 0, 1])"
            ]
          },
          "metadata": {},
          "execution_count": 136
        }
      ]
    },
    {
      "cell_type": "code",
      "metadata": {
        "id": "45DfyRL9bRCM",
        "colab": {
          "base_uri": "https://localhost:8080/"
        },
        "outputId": "3a713ee5-5347-421d-d817-9f41cd4990fd"
      },
      "source": [
        "y_test[0:6]"
      ],
      "execution_count": 137,
      "outputs": [
        {
          "output_type": "execute_result",
          "data": {
            "text/plain": [
              "709    1\n",
              "439    0\n",
              "840    0\n",
              "720    1\n",
              "39     1\n",
              "290    1\n",
              "Name: survived, dtype: int64"
            ]
          },
          "metadata": {},
          "execution_count": 137
        }
      ]
    },
    {
      "cell_type": "code",
      "metadata": {
        "id": "rkjgiymJbRCN"
      },
      "source": [
        "from sklearn.metrics import accuracy_score, roc_auc_score"
      ],
      "execution_count": 138,
      "outputs": []
    },
    {
      "cell_type": "code",
      "metadata": {
        "id": "MsahEJR2bRCP",
        "colab": {
          "base_uri": "https://localhost:8080/"
        },
        "outputId": "2b51d201-19bd-4a77-d6ce-cd6e83ecf6b4"
      },
      "source": [
        "accuracy_score(dt_yhat, y_test)"
      ],
      "execution_count": 139,
      "outputs": [
        {
          "output_type": "execute_result",
          "data": {
            "text/plain": [
              "0.7728813559322034"
            ]
          },
          "metadata": {},
          "execution_count": 139
        }
      ]
    },
    {
      "cell_type": "code",
      "metadata": {
        "id": "beXofak0bRCQ",
        "colab": {
          "base_uri": "https://localhost:8080/"
        },
        "outputId": "1b0374db-0f4a-4821-8f02-c77d8cf2fcdc"
      },
      "source": [
        "roc_auc_score(dt_yhat, y_test)"
      ],
      "execution_count": 140,
      "outputs": [
        {
          "output_type": "execute_result",
          "data": {
            "text/plain": [
              "0.826696770662288"
            ]
          },
          "metadata": {},
          "execution_count": 140
        }
      ]
    },
    {
      "cell_type": "markdown",
      "metadata": {
        "id": "DvjgUHJxbRCT"
      },
      "source": [
        "**Exercises**:\n",
        "\n",
        "1. Create more features ([here are some ideas for creating them](https://towardsdatascience.com/predicting-the-survival-of-titanic-passengers-30870ccc7e8)) with an eye to improving model fit on the test data. \n",
        "\n",
        "2. Re-train the decision tree on the training data and evaluate its accuracy and ROC AUC on the test data. How does the tree compare with an ordinary-least-squares regression model (from [*Intro to Stats*](http://localhost:8888/notebooks/work/notebooks/6-statistics.ipynb)) trained on the same data?"
      ]
    },
    {
      "cell_type": "markdown",
      "metadata": {
        "id": "7qiPS5IjbRCT"
      },
      "source": [
        "**Return to slides here.**"
      ]
    },
    {
      "cell_type": "markdown",
      "metadata": {
        "id": "EGl67nVMbRCT"
      },
      "source": [
        "### Random Forests"
      ]
    },
    {
      "cell_type": "code",
      "metadata": {
        "id": "y--kKV7DbRCT",
        "colab": {
          "base_uri": "https://localhost:8080/",
          "height": 0
        },
        "outputId": "b659dc97-6fd0-4641-de40-9176a83af6e1"
      },
      "source": [
        "iris = sns.load_dataset('iris')\n",
        "iris"
      ],
      "execution_count": 141,
      "outputs": [
        {
          "output_type": "execute_result",
          "data": {
            "text/html": [
              "<div>\n",
              "<style scoped>\n",
              "    .dataframe tbody tr th:only-of-type {\n",
              "        vertical-align: middle;\n",
              "    }\n",
              "\n",
              "    .dataframe tbody tr th {\n",
              "        vertical-align: top;\n",
              "    }\n",
              "\n",
              "    .dataframe thead th {\n",
              "        text-align: right;\n",
              "    }\n",
              "</style>\n",
              "<table border=\"1\" class=\"dataframe\">\n",
              "  <thead>\n",
              "    <tr style=\"text-align: right;\">\n",
              "      <th></th>\n",
              "      <th>sepal_length</th>\n",
              "      <th>sepal_width</th>\n",
              "      <th>petal_length</th>\n",
              "      <th>petal_width</th>\n",
              "      <th>species</th>\n",
              "    </tr>\n",
              "  </thead>\n",
              "  <tbody>\n",
              "    <tr>\n",
              "      <th>0</th>\n",
              "      <td>5.1</td>\n",
              "      <td>3.5</td>\n",
              "      <td>1.4</td>\n",
              "      <td>0.2</td>\n",
              "      <td>setosa</td>\n",
              "    </tr>\n",
              "    <tr>\n",
              "      <th>1</th>\n",
              "      <td>4.9</td>\n",
              "      <td>3.0</td>\n",
              "      <td>1.4</td>\n",
              "      <td>0.2</td>\n",
              "      <td>setosa</td>\n",
              "    </tr>\n",
              "    <tr>\n",
              "      <th>2</th>\n",
              "      <td>4.7</td>\n",
              "      <td>3.2</td>\n",
              "      <td>1.3</td>\n",
              "      <td>0.2</td>\n",
              "      <td>setosa</td>\n",
              "    </tr>\n",
              "    <tr>\n",
              "      <th>3</th>\n",
              "      <td>4.6</td>\n",
              "      <td>3.1</td>\n",
              "      <td>1.5</td>\n",
              "      <td>0.2</td>\n",
              "      <td>setosa</td>\n",
              "    </tr>\n",
              "    <tr>\n",
              "      <th>4</th>\n",
              "      <td>5.0</td>\n",
              "      <td>3.6</td>\n",
              "      <td>1.4</td>\n",
              "      <td>0.2</td>\n",
              "      <td>setosa</td>\n",
              "    </tr>\n",
              "    <tr>\n",
              "      <th>...</th>\n",
              "      <td>...</td>\n",
              "      <td>...</td>\n",
              "      <td>...</td>\n",
              "      <td>...</td>\n",
              "      <td>...</td>\n",
              "    </tr>\n",
              "    <tr>\n",
              "      <th>145</th>\n",
              "      <td>6.7</td>\n",
              "      <td>3.0</td>\n",
              "      <td>5.2</td>\n",
              "      <td>2.3</td>\n",
              "      <td>virginica</td>\n",
              "    </tr>\n",
              "    <tr>\n",
              "      <th>146</th>\n",
              "      <td>6.3</td>\n",
              "      <td>2.5</td>\n",
              "      <td>5.0</td>\n",
              "      <td>1.9</td>\n",
              "      <td>virginica</td>\n",
              "    </tr>\n",
              "    <tr>\n",
              "      <th>147</th>\n",
              "      <td>6.5</td>\n",
              "      <td>3.0</td>\n",
              "      <td>5.2</td>\n",
              "      <td>2.0</td>\n",
              "      <td>virginica</td>\n",
              "    </tr>\n",
              "    <tr>\n",
              "      <th>148</th>\n",
              "      <td>6.2</td>\n",
              "      <td>3.4</td>\n",
              "      <td>5.4</td>\n",
              "      <td>2.3</td>\n",
              "      <td>virginica</td>\n",
              "    </tr>\n",
              "    <tr>\n",
              "      <th>149</th>\n",
              "      <td>5.9</td>\n",
              "      <td>3.0</td>\n",
              "      <td>5.1</td>\n",
              "      <td>1.8</td>\n",
              "      <td>virginica</td>\n",
              "    </tr>\n",
              "  </tbody>\n",
              "</table>\n",
              "<p>150 rows × 5 columns</p>\n",
              "</div>"
            ],
            "text/plain": [
              "     sepal_length  sepal_width  petal_length  petal_width    species\n",
              "0             5.1          3.5           1.4          0.2     setosa\n",
              "1             4.9          3.0           1.4          0.2     setosa\n",
              "2             4.7          3.2           1.3          0.2     setosa\n",
              "3             4.6          3.1           1.5          0.2     setosa\n",
              "4             5.0          3.6           1.4          0.2     setosa\n",
              "..            ...          ...           ...          ...        ...\n",
              "145           6.7          3.0           5.2          2.3  virginica\n",
              "146           6.3          2.5           5.0          1.9  virginica\n",
              "147           6.5          3.0           5.2          2.0  virginica\n",
              "148           6.2          3.4           5.4          2.3  virginica\n",
              "149           5.9          3.0           5.1          1.8  virginica\n",
              "\n",
              "[150 rows x 5 columns]"
            ]
          },
          "metadata": {},
          "execution_count": 141
        }
      ]
    },
    {
      "cell_type": "code",
      "metadata": {
        "id": "mvehRZ4vbRCU",
        "colab": {
          "base_uri": "https://localhost:8080/",
          "height": 0
        },
        "outputId": "92941c33-ee11-44e2-a83e-0975c794fc9e"
      },
      "source": [
        "_ = sns.scatterplot(x='sepal_width', y='petal_length', hue='species', data=iris)"
      ],
      "execution_count": 142,
      "outputs": [
        {
          "output_type": "display_data",
          "data": {
            "image/png": "[encoded data removed]",
            "text/plain": [
              "<Figure size 432x288 with 1 Axes>"
            ]
          },
          "metadata": {
            "needs_background": "light"
          }
        }
      ]
    },
    {
      "cell_type": "code",
      "metadata": {
        "id": "b2r2B8f6bRCV"
      },
      "source": [
        "X = iris[['sepal_width', 'petal_length']]"
      ],
      "execution_count": 143,
      "outputs": []
    },
    {
      "cell_type": "code",
      "metadata": {
        "id": "9YFi_xu7bRCW"
      },
      "source": [
        "y = iris.species"
      ],
      "execution_count": 144,
      "outputs": []
    },
    {
      "cell_type": "code",
      "metadata": {
        "id": "qaAe_OmMbRCX"
      },
      "source": [
        "X_train, X_test, y_train, y_test = train_test_split(X, y, test_size=0.33, random_state=42)"
      ],
      "execution_count": 145,
      "outputs": []
    },
    {
      "cell_type": "code",
      "metadata": {
        "id": "c6gOK1YAbRCY"
      },
      "source": [
        "iris_dt = DecisionTreeClassifier().fit(X_train, y_train)"
      ],
      "execution_count": 146,
      "outputs": []
    },
    {
      "cell_type": "code",
      "metadata": {
        "id": "8VN61N39bRCZ"
      },
      "source": [
        "iris_dt_yhat = iris_dt.predict(X_test)"
      ],
      "execution_count": 147,
      "outputs": []
    },
    {
      "cell_type": "code",
      "metadata": {
        "id": "MKdjKFzMbRCa",
        "colab": {
          "base_uri": "https://localhost:8080/"
        },
        "outputId": "9ae4f9a8-18c6-44b9-c7bb-3fbde43de288"
      },
      "source": [
        "accuracy_score(iris_dt_yhat, y_test) # ROC AUC is for binary classifier"
      ],
      "execution_count": 148,
      "outputs": [
        {
          "output_type": "execute_result",
          "data": {
            "text/plain": [
              "0.9"
            ]
          },
          "metadata": {},
          "execution_count": 148
        }
      ]
    },
    {
      "cell_type": "code",
      "metadata": {
        "id": "LSbCHSDSbRCa"
      },
      "source": [
        "from sklearn.ensemble import RandomForestClassifier"
      ],
      "execution_count": 149,
      "outputs": []
    },
    {
      "cell_type": "code",
      "metadata": {
        "id": "XM4PnPhBbRCb"
      },
      "source": [
        "rf_model = RandomForestClassifier(n_estimators=100) # n decision trees in forest"
      ],
      "execution_count": 150,
      "outputs": []
    },
    {
      "cell_type": "code",
      "metadata": {
        "id": "ZdH728GebRCc",
        "colab": {
          "base_uri": "https://localhost:8080/"
        },
        "outputId": "d648ff19-547c-4206-93f2-bceff0355576"
      },
      "source": [
        "rf_model.fit(X_train, y_train)"
      ],
      "execution_count": 151,
      "outputs": [
        {
          "output_type": "execute_result",
          "data": {
            "text/plain": [
              "RandomForestClassifier()"
            ]
          },
          "metadata": {},
          "execution_count": 151
        }
      ]
    },
    {
      "cell_type": "code",
      "metadata": {
        "id": "gj0UdpKsbRCd"
      },
      "source": [
        "rf_yhat = rf_model.predict(X_test)"
      ],
      "execution_count": 152,
      "outputs": []
    },
    {
      "cell_type": "code",
      "metadata": {
        "id": "hhjVA9z_bRCe",
        "colab": {
          "base_uri": "https://localhost:8080/"
        },
        "outputId": "9ab7c7f6-9814-4c22-e872-152b7ad2a3ee"
      },
      "source": [
        "accuracy_score(rf_yhat, y_test)"
      ],
      "execution_count": 153,
      "outputs": [
        {
          "output_type": "execute_result",
          "data": {
            "text/plain": [
              "0.94"
            ]
          },
          "metadata": {},
          "execution_count": 153
        }
      ]
    },
    {
      "cell_type": "markdown",
      "metadata": {
        "id": "Lzm9A7bwbRCf"
      },
      "source": [
        "**Return to slides.**"
      ]
    },
    {
      "cell_type": "markdown",
      "metadata": {
        "id": "Jpu53mFkbRCg"
      },
      "source": [
        "### Gradient-Boosted Trees"
      ]
    },
    {
      "cell_type": "code",
      "metadata": {
        "id": "lgfz5kkabRCi"
      },
      "source": [
        "import xgboost as xgb"
      ],
      "execution_count": 154,
      "outputs": []
    },
    {
      "cell_type": "markdown",
      "metadata": {
        "id": "y_1twJezbRCj"
      },
      "source": [
        "XGBoost `DMatrix()` method requires numeric inputs, not strings: "
      ]
    },
    {
      "cell_type": "code",
      "metadata": {
        "id": "9_r4ulQObRCj",
        "colab": {
          "base_uri": "https://localhost:8080/"
        },
        "outputId": "51ae505b-212c-4b77-b20b-5adbec1b5726"
      },
      "source": [
        "y_train[0:6]"
      ],
      "execution_count": 155,
      "outputs": [
        {
          "output_type": "execute_result",
          "data": {
            "text/plain": [
              "96     versicolor\n",
              "105     virginica\n",
              "66     versicolor\n",
              "0          setosa\n",
              "122     virginica\n",
              "67     versicolor\n",
              "Name: species, dtype: object"
            ]
          },
          "metadata": {},
          "execution_count": 155
        }
      ]
    },
    {
      "cell_type": "code",
      "metadata": {
        "id": "FDbSz7u0bRCk"
      },
      "source": [
        "y_train_int = y_train.replace(['setosa', 'versicolor', 'virginica'], [0, 1, 2])\n",
        "y_test_int = y_test.replace(['setosa', 'versicolor', 'virginica'], [0, 1, 2])"
      ],
      "execution_count": 156,
      "outputs": []
    },
    {
      "cell_type": "code",
      "metadata": {
        "id": "jKzJ2WBpbRCl",
        "colab": {
          "base_uri": "https://localhost:8080/"
        },
        "outputId": "3f3bf4d2-36de-42a4-b0e9-03d925b49564"
      },
      "source": [
        "y_train_int[0:6]"
      ],
      "execution_count": 157,
      "outputs": [
        {
          "output_type": "execute_result",
          "data": {
            "text/plain": [
              "96     1\n",
              "105    2\n",
              "66     1\n",
              "0      0\n",
              "122    2\n",
              "67     1\n",
              "Name: species, dtype: int64"
            ]
          },
          "metadata": {},
          "execution_count": 157
        }
      ]
    },
    {
      "cell_type": "code",
      "metadata": {
        "id": "ntrQLtLgbRCn"
      },
      "source": [
        "D_train = xgb.DMatrix(X_train, label=y_train_int)\n",
        "D_test = xgb.DMatrix(X_test, label=y_test_int)"
      ],
      "execution_count": 158,
      "outputs": []
    },
    {
      "cell_type": "code",
      "metadata": {
        "id": "Pf1YBYMjbRCn"
      },
      "source": [
        "param = {\n",
        "    'eta': 0.1, # learning rate (0.1 to 0.3 are common)\n",
        "    'max_depth': 2, # I mean, we only have two features...\n",
        "    'objective': 'multi:softprob',\n",
        "    'num_class': 3\n",
        "}\n",
        "steps = 10"
      ],
      "execution_count": 159,
      "outputs": []
    },
    {
      "cell_type": "code",
      "metadata": {
        "id": "sr1liohYbRCo"
      },
      "source": [
        "xg_model = xgb.train(param, D_train, steps)"
      ],
      "execution_count": 160,
      "outputs": []
    },
    {
      "cell_type": "code",
      "metadata": {
        "id": "kSbjrMI2bRCp"
      },
      "source": [
        "xg_yhats = xg_model.predict(D_test)"
      ],
      "execution_count": 161,
      "outputs": []
    },
    {
      "cell_type": "code",
      "metadata": {
        "id": "nuiLEGs-bRCq",
        "colab": {
          "base_uri": "https://localhost:8080/"
        },
        "outputId": "3eff6420-54b4-4c60-9fca-7ac737d424b0"
      },
      "source": [
        "xg_yhats[0] # supports >2 classes"
      ],
      "execution_count": 162,
      "outputs": [
        {
          "output_type": "execute_result",
          "data": {
            "text/plain": [
              "array([0.14787206, 0.64814967, 0.20397826], dtype=float32)"
            ]
          },
          "metadata": {},
          "execution_count": 162
        }
      ]
    },
    {
      "cell_type": "code",
      "metadata": {
        "id": "gLdW2QDebRCs"
      },
      "source": [
        "xg_yhat = np.asarray([np.argmax(line) for line in xg_yhats])"
      ],
      "execution_count": 163,
      "outputs": []
    },
    {
      "cell_type": "code",
      "metadata": {
        "id": "n8KSTQSAbRCt",
        "colab": {
          "base_uri": "https://localhost:8080/"
        },
        "outputId": "fc29e441-cba6-4379-e10a-de50fb75cbcf"
      },
      "source": [
        "xg_yhat[0]"
      ],
      "execution_count": 164,
      "outputs": [
        {
          "output_type": "execute_result",
          "data": {
            "text/plain": [
              "1"
            ]
          },
          "metadata": {},
          "execution_count": 164
        }
      ]
    },
    {
      "cell_type": "code",
      "metadata": {
        "id": "bapU-nE4bRCv",
        "colab": {
          "base_uri": "https://localhost:8080/"
        },
        "outputId": "632bc155-cb63-4c1a-a635-fb02531d0e1c"
      },
      "source": [
        "accuracy_score(xg_yhat, y_test_int)"
      ],
      "execution_count": 165,
      "outputs": [
        {
          "output_type": "execute_result",
          "data": {
            "text/plain": [
              "0.98"
            ]
          },
          "metadata": {},
          "execution_count": 165
        }
      ]
    },
    {
      "cell_type": "markdown",
      "metadata": {
        "id": "Fzs6y3UcLlYI"
      },
      "source": [
        "**Exercise**: Try training random forest and XGBoost models with additional iris features. Can you attain 100% accuracy on the test data set? "
      ]
    },
    {
      "cell_type": "markdown",
      "metadata": {
        "id": "hcMPnX4z7_R7"
      },
      "source": [
        "**Return to slides.**"
      ]
    }
  ]
}