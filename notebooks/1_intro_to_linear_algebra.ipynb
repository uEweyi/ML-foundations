{
  "nbformat": 4,
  "nbformat_minor": 0,
  "metadata": {
    "colab": {
      "name": "1-intro-to-linear-algebra.ipynb",
      "provenance": [],
      "authorship_tag": "ABX9TyPT27l9yKgkNpwnQKo8UyPy",
      "include_colab_link": true
    },
    "kernelspec": {
      "name": "python3",
      "display_name": "Python 3"
    }
  },
  "cells": [
    {
      "cell_type": "markdown",
      "metadata": {
        "id": "view-in-github",
        "colab_type": "text"
      },
      "source": [
        "<a href=\"https://colab.research.google.com/github/jonkrohn/ML-foundations/blob/master/notebooks/1_intro_to_linear_algebra.ipynb\" target=\"_parent\"><img src=\"https://colab.research.google.com/assets/colab-badge.svg\" alt=\"Open In Colab\"/></a>"
      ]
    },
    {
      "cell_type": "markdown",
      "metadata": {
        "id": "aTOLgsbN69-P",
        "colab_type": "text"
      },
      "source": [
        "# Machine Learning Foundations: Intro to Linear Algebra"
      ]
    },
    {
      "cell_type": "markdown",
      "metadata": {
        "id": "2khww76J5w9n",
        "colab_type": "text"
      },
      "source": [
        "## Segment 1: Data Structures for Algebra"
      ]
    },
    {
      "cell_type": "markdown",
      "metadata": {
        "id": "NgGMhK4B51oe",
        "colab_type": "text"
      },
      "source": [
        "#### What Linear Algebra Is"
      ]
    },
    {
      "cell_type": "markdown",
      "metadata": {
        "id": "LxfGB-EA54o3",
        "colab_type": "text"
      },
      "source": [
        "This is basic plain old algebra: \n",
        "\n",
        "![](https://github.com/jonkrohn/ML-foundations/blob/master/img/basic-algebra.png)"
      ]
    },
    {
      "cell_type": "code",
      "metadata": {
        "id": "V2EEOJ9BG04f",
        "colab_type": "code",
        "colab": {}
      },
      "source": [
        ""
      ],
      "execution_count": 0,
      "outputs": []
    }
  ]
}