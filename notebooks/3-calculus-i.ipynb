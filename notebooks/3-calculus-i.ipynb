{
  "nbformat": 4,
  "nbformat_minor": 0,
  "metadata": {
    "colab": {
      "name": "3-calculus-i.ipynb",
      "provenance": [],
      "include_colab_link": true
    },
    "kernelspec": {
      "display_name": "Python 3",
      "language": "python",
      "name": "python3"
    },
    "language_info": {
      "codemirror_mode": {
        "name": "ipython",
        "version": 3
      },
      "file_extension": ".py",
      "mimetype": "text/x-python",
      "name": "python",
      "nbconvert_exporter": "python",
      "pygments_lexer": "ipython3",
      "version": "3.7.6"
    }
  },
  "cells": [
    {
      "cell_type": "markdown",
      "metadata": {
        "id": "view-in-github",
        "colab_type": "text"
      },
      "source": [
        "<a href=\"https://colab.research.google.com/github/jonkrohn/ML-foundations/blob/master/notebooks/3-calculus-i.ipynb\" target=\"_parent\"><img src=\"https://colab.research.google.com/assets/colab-badge.svg\" alt=\"Open In Colab\"/></a>"
      ]
    },
    {
      "cell_type": "markdown",
      "metadata": {
        "id": "aTOLgsbN69-P"
      },
      "source": [
        "# Calculus I: Limits & Derivatives"
      ]
    },
    {
      "cell_type": "markdown",
      "metadata": {
        "id": "yqUB9FTRAxd-"
      },
      "source": [
        "This topic, *Calculus I: Limits & Derivatives*, introduces the mathematical field of calculus -- the study of rates of change -- from the ground up. It is essential because computing derivatives via differentiation is the basis of optimizing most machine learning algorithms, including those used in deep learning such as backpropagation and stochastic gradient descent. \n",
        "\n",
        "Through the measured exposition of theory paired with interactive examples, you’ll develop a working understanding of how calculus is used to compute limits and differentiate functions. You’ll also learn how to apply automatic differentiation within the popular TensorFlow 2 and PyTorch machine learning libraries. The content covered in this class is itself foundational for several other topics in the *Machine Learning Foundations* series, especially *Calculus II* and *Optimization*."
      ]
    },
    {
      "cell_type": "markdown",
      "metadata": {
        "id": "d4tBvI88BheF"
      },
      "source": [
        "Over the course of studying this topic, you'll: \n",
        "\n",
        "* Develop an understanding of what’s going on beneath the hood of machine learning algorithms, including those used for deep learning. \n",
        "* Be able to more intimately grasp the details of machine learning papers as well as many of the other subjects that underlie ML, including partial-derivative calculus, statistics and optimization algorithms. \n",
        "* Compute the derivatives of functions, including by using AutoDiff in the popular TensorFlow 2 and PyTorch libraries."
      ]
    },
    {
      "cell_type": "markdown",
      "metadata": {
        "id": "Z68nQ0ekCYhF"
      },
      "source": [
        "**Note that this Jupyter notebook is not intended to stand alone. It is the companion code to a lecture or to videos from Jon Krohn's [Machine Learning Foundations](https://github.com/jonkrohn/ML-foundations) series, which offer detail on the following:**\n",
        "\n",
        "*Segment 1: Limits*\n",
        "\n",
        "* What Calculus Is\n",
        "* A Brief History of Calculus\n",
        "* The Method of Exhaustion \n",
        "* Calculating Limits \n",
        "\n",
        "*Segment 2: Computing Derivatives with Differentiation*\n",
        "* The Delta Method\n",
        "* The Differentiation Equation\n",
        "* Derivative Notation\n",
        "* The Power Rule\n",
        "* The Constant Multiple Rule\n",
        "* The Sum Rule\n",
        "* The Product Rule\n",
        "* The Quotient Rule\n",
        "* The Chain Rule\n",
        "\n",
        "*Segment 3: Automatic Differentiation*\n",
        "* AutoDiff with PyTorch\n",
        "* AutoDiff with TensorFlow 2\n",
        "* Machine Learning via Differentiation \n",
        "* Cost (or Loss) Functions\n",
        "* The Future: Differentiable Programming \n"
      ]
    },
    {
      "cell_type": "markdown",
      "metadata": {
        "id": "1SHRQmz0cxYw"
      },
      "source": [
        "## Segment 1: Limits"
      ]
    },
    {
      "cell_type": "markdown",
      "metadata": {
        "id": "ab2YePNtcxYx"
      },
      "source": [
        "### The Calculus of Infinitesimals"
      ]
    },
    {
      "cell_type": "code",
      "metadata": {
        "id": "Bzug184ZcxYx"
      },
      "source": [
        "import numpy as np\n",
        "import matplotlib.pyplot as plt"
      ],
      "execution_count": 1,
      "outputs": []
    },
    {
      "cell_type": "code",
      "metadata": {
        "id": "Kgjg4q4kcxY1"
      },
      "source": [
        "x = np.linspace(-10, 10, 1000) # start, finish, n points"
      ],
      "execution_count": 2,
      "outputs": []
    },
    {
      "cell_type": "markdown",
      "metadata": {
        "id": "MHWrqwBacxY4"
      },
      "source": [
        "If $y = x^2 + 2x + 2$: "
      ]
    },
    {
      "cell_type": "code",
      "metadata": {
        "id": "y4oTgUY_cxY5"
      },
      "source": [
        "y = x**2 + 2*x + 2"
      ],
      "execution_count": 3,
      "outputs": []
    },
    {
      "cell_type": "code",
      "metadata": {
        "id": "5OxJjePDcxY8",
        "colab": {
          "base_uri": "https://localhost:8080/",
          "height": 265
        },
        "outputId": "fa258b12-ac3e-4b6f-e585-25e5f6ecb464"
      },
      "source": [
        "fig, ax = plt.subplots()\n",
        "_ = ax.plot(x,y)"
      ],
      "execution_count": 4,
      "outputs": [
        {
          "output_type": "display_data",
          "data": {
            "image/png": "[encoded data removed]",
            "text/plain": [
              "<Figure size 432x288 with 1 Axes>"
            ]
          },
          "metadata": {
            "tags": [],
            "needs_background": "light"
          }
        }
      ]
    },
    {
      "cell_type": "markdown",
      "metadata": {
        "id": "5IjlYM5LcxY_"
      },
      "source": [
        "* There are no straight lines on the curve. \n",
        "* If we zoom in _infinitely_ close, however, we observe curves that _approach_ lines. \n",
        "* This enables us to find a slope $m$ (tangent) anywhere on the curve, including to identify where $m = 0$: "
      ]
    },
    {
      "cell_type": "code",
      "metadata": {
        "id": "nJ1n043-cxZA",
        "colab": {
          "base_uri": "https://localhost:8080/",
          "height": 269
        },
        "outputId": "6f2c40e6-4487-407b-c968-a6c175d3dea6"
      },
      "source": [
        "fig, ax = plt.subplots()\n",
        "ax.set_xlim([-2, -0])\n",
        "ax.set_ylim([0, 2])\n",
        "_ = ax.plot(x,y)"
      ],
      "execution_count": 5,
      "outputs": [
        {
          "output_type": "display_data",
          "data": {
            "image/png": "[encoded data removed]",
            "text/plain": [
              "<Figure size 432x288 with 1 Axes>"
            ]
          },
          "metadata": {
            "tags": [],
            "needs_background": "light"
          }
        }
      ]
    },
    {
      "cell_type": "code",
      "metadata": {
        "id": "tgrXcqfScxZD",
        "colab": {
          "base_uri": "https://localhost:8080/",
          "height": 265
        },
        "outputId": "3018cbec-f688-4346-ad04-51dfd8724987"
      },
      "source": [
        "fig, ax = plt.subplots()\n",
        "ax.set_xlim([-1.5, -0.5])\n",
        "ax.set_ylim([0.5, 1.5])\n",
        "_ = ax.plot(x,y)"
      ],
      "execution_count": 6,
      "outputs": [
        {
          "output_type": "display_data",
          "data": {
            "image/png": "[encoded data removed]",
            "text/plain": [
              "<Figure size 432x288 with 1 Axes>"
            ]
          },
          "metadata": {
            "tags": [],
            "needs_background": "light"
          }
        }
      ]
    },
    {
      "cell_type": "code",
      "metadata": {
        "id": "8osTRq2AcxZG",
        "colab": {
          "base_uri": "https://localhost:8080/",
          "height": 269
        },
        "outputId": "27104cd7-a081-48da-bd86-0ff93acf51db"
      },
      "source": [
        "fig, ax = plt.subplots()\n",
        "ax.set_xlim([-1.1, -0.9])\n",
        "ax.set_ylim([0.9, 1.1])\n",
        "_ = ax.plot(x,y)"
      ],
      "execution_count": 7,
      "outputs": [
        {
          "output_type": "display_data",
          "data": {
            "image/png": "[encoded data removed]",
            "text/plain": [
              "<Figure size 432x288 with 1 Axes>"
            ]
          },
          "metadata": {
            "tags": [],
            "needs_background": "light"
          }
        }
      ]
    },
    {
      "cell_type": "code",
      "metadata": {
        "id": "tpcDMwpDcxZJ",
        "colab": {
          "base_uri": "https://localhost:8080/",
          "height": 269
        },
        "outputId": "4c60ac27-d60a-44d8-a761-6de37e492394"
      },
      "source": [
        "fig, ax = plt.subplots()\n",
        "ax.set_xlim([-1.01, -0.99])\n",
        "ax.set_ylim([0.99, 1.01])\n",
        "_ = ax.plot(x,y)"
      ],
      "execution_count": 8,
      "outputs": [
        {
          "output_type": "display_data",
          "data": {
            "image/png": "[encoded data removed]",
            "text/plain": [
              "<Figure size 432x288 with 1 Axes>"
            ]
          },
          "metadata": {
            "tags": [],
            "needs_background": "light"
          }
        }
      ]
    },
    {
      "cell_type": "markdown",
      "metadata": {
        "id": "BJ0B4YNPcxZL"
      },
      "source": [
        "**Return to slides here.**"
      ]
    },
    {
      "cell_type": "markdown",
      "metadata": {
        "id": "38-6wbQocxZL"
      },
      "source": [
        "### Limits"
      ]
    },
    {
      "cell_type": "code",
      "metadata": {
        "id": "S7GSdz-ucxZM",
        "colab": {
          "base_uri": "https://localhost:8080/",
          "height": 0
        },
        "outputId": "14e72488-e412-49d3-d4b5-1409424d58ca"
      },
      "source": [
        "fig, ax = plt.subplots()\n",
        "plt.axvline(x=0, color='lightgray')\n",
        "plt.axhline(y=0, color='lightgray')\n",
        "plt.xlim(-5, 10)\n",
        "plt.ylim(-10, 80)\n",
        "plt.axvline(x=5, color='purple', linestyle='--')\n",
        "plt.axhline(y=37, color='purple', linestyle='--')\n",
        "_ = ax.plot(x,y)"
      ],
      "execution_count": 9,
      "outputs": [
        {
          "output_type": "display_data",
          "data": {
            "image/png": "[encoded data removed]",
            "text/plain": [
              "<Figure size 432x288 with 1 Axes>"
            ]
          },
          "metadata": {
            "tags": [],
            "needs_background": "light"
          }
        }
      ]
    },
    {
      "cell_type": "markdown",
      "metadata": {
        "id": "AaRfRUYtcxZO"
      },
      "source": [
        "$$\\lim_{x \\to 1} \\frac{x^2 - 1}{x - 1}$$"
      ]
    },
    {
      "cell_type": "code",
      "metadata": {
        "id": "ZdDhpdiPcxZO"
      },
      "source": [
        "def my_fxn(my_x):\n",
        "    my_y = (my_x**2 - 1)/(my_x - 1)\n",
        "    return my_y"
      ],
      "execution_count": 10,
      "outputs": []
    },
    {
      "cell_type": "code",
      "metadata": {
        "id": "5xKbepf445LM",
        "colab": {
          "base_uri": "https://localhost:8080/"
        },
        "outputId": "ac1a13a4-126f-4a11-ae25-dd89b4cd485d"
      },
      "source": [
        "my_fxn(2)"
      ],
      "execution_count": 11,
      "outputs": [
        {
          "output_type": "execute_result",
          "data": {
            "text/plain": [
              "3.0"
            ]
          },
          "metadata": {
            "tags": []
          },
          "execution_count": 11
        }
      ]
    },
    {
      "cell_type": "code",
      "metadata": {
        "id": "umrgvf3BcxZQ"
      },
      "source": [
        "# Uncommenting the following line results in a 'division by zero' error:\n",
        "# my_fxn(1)"
      ],
      "execution_count": 12,
      "outputs": []
    },
    {
      "cell_type": "code",
      "metadata": {
        "id": "yeGqX8oscxZS",
        "colab": {
          "base_uri": "https://localhost:8080/"
        },
        "outputId": "8c905a66-e6b4-4223-94ea-083729190198"
      },
      "source": [
        "my_fxn(0.9)"
      ],
      "execution_count": 13,
      "outputs": [
        {
          "output_type": "execute_result",
          "data": {
            "text/plain": [
              "1.9"
            ]
          },
          "metadata": {
            "tags": []
          },
          "execution_count": 13
        }
      ]
    },
    {
      "cell_type": "code",
      "metadata": {
        "id": "4unTKbu8cxZU",
        "colab": {
          "base_uri": "https://localhost:8080/"
        },
        "outputId": "09c2ca34-b1aa-4ccf-d146-36a77b5cb8d4"
      },
      "source": [
        "my_fxn(0.999)"
      ],
      "execution_count": 14,
      "outputs": [
        {
          "output_type": "execute_result",
          "data": {
            "text/plain": [
              "1.9989999999999712"
            ]
          },
          "metadata": {
            "tags": []
          },
          "execution_count": 14
        }
      ]
    },
    {
      "cell_type": "code",
      "metadata": {
        "id": "YuVfXKa5cxZW",
        "colab": {
          "base_uri": "https://localhost:8080/"
        },
        "outputId": "b04cc4b8-ae47-4611-e5b9-607c6558b997"
      },
      "source": [
        "my_fxn(1.1)"
      ],
      "execution_count": 15,
      "outputs": [
        {
          "output_type": "execute_result",
          "data": {
            "text/plain": [
              "2.1"
            ]
          },
          "metadata": {
            "tags": []
          },
          "execution_count": 15
        }
      ]
    },
    {
      "cell_type": "code",
      "metadata": {
        "id": "x4eY1qWEcxZY",
        "colab": {
          "base_uri": "https://localhost:8080/"
        },
        "outputId": "773a68ac-6f9d-4797-dc4c-e8a347bca857"
      },
      "source": [
        "my_fxn(1.001)"
      ],
      "execution_count": 16,
      "outputs": [
        {
          "output_type": "execute_result",
          "data": {
            "text/plain": [
              "2.0009999999999177"
            ]
          },
          "metadata": {
            "tags": []
          },
          "execution_count": 16
        }
      ]
    },
    {
      "cell_type": "code",
      "metadata": {
        "id": "pjUtPQwAcxZb"
      },
      "source": [
        "y = my_fxn(x)"
      ],
      "execution_count": 17,
      "outputs": []
    },
    {
      "cell_type": "code",
      "metadata": {
        "id": "Tg4Ow8k3cxZe",
        "colab": {
          "base_uri": "https://localhost:8080/",
          "height": 0
        },
        "outputId": "923d6f58-3d5b-4dd6-bd0c-626253299446"
      },
      "source": [
        "fig, ax = plt.subplots()\n",
        "plt.axvline(x=0, color='lightgray')\n",
        "plt.axhline(y=0, color='lightgray')\n",
        "plt.xlim(-1, 5)\n",
        "plt.ylim(-1, 5)\n",
        "plt.axvline(x=1, color='purple', linestyle='--')\n",
        "plt.axhline(y=2, color='purple', linestyle='--')\n",
        "_ = ax.plot(x,y)"
      ],
      "execution_count": 18,
      "outputs": [
        {
          "output_type": "display_data",
          "data": {
            "image/png": "[encoded data removed]",
            "text/plain": [
              "<Figure size 432x288 with 1 Axes>"
            ]
          },
          "metadata": {
            "tags": [],
            "needs_background": "light"
          }
        }
      ]
    },
    {
      "cell_type": "markdown",
      "metadata": {
        "id": "VQWYjKjVcxZf"
      },
      "source": [
        "**Return to slides here.**"
      ]
    },
    {
      "cell_type": "markdown",
      "metadata": {
        "id": "hc3PDahDcxZg"
      },
      "source": [
        "$$\\lim_{x \\to 0} \\frac{\\text{sin } x}{x}$$"
      ]
    },
    {
      "cell_type": "code",
      "metadata": {
        "id": "XDLZLagKcxZg"
      },
      "source": [
        "def sin_fxn(my_x):\n",
        "    my_y = np.sin(my_x)/my_x\n",
        "    return my_y"
      ],
      "execution_count": 19,
      "outputs": []
    },
    {
      "cell_type": "code",
      "metadata": {
        "id": "HU-B5ebBcxZi"
      },
      "source": [
        "# Uncommenting the following line results in a 'division by zero' error:\n",
        "# y = sin_fxn(0)"
      ],
      "execution_count": 20,
      "outputs": []
    },
    {
      "cell_type": "code",
      "metadata": {
        "id": "YjIqAWnwcxZk",
        "colab": {
          "base_uri": "https://localhost:8080/"
        },
        "outputId": "be8d8943-5c9e-4eaf-c50f-3ee58baa56f8"
      },
      "source": [
        "sin_fxn(0.1)"
      ],
      "execution_count": 21,
      "outputs": [
        {
          "output_type": "execute_result",
          "data": {
            "text/plain": [
              "0.9983341664682815"
            ]
          },
          "metadata": {
            "tags": []
          },
          "execution_count": 21
        }
      ]
    },
    {
      "cell_type": "code",
      "metadata": {
        "id": "mmTAnugUcxZm",
        "colab": {
          "base_uri": "https://localhost:8080/"
        },
        "outputId": "69a64e9b-d3d6-46cf-c509-6827ffdaac09"
      },
      "source": [
        "sin_fxn(0.001)"
      ],
      "execution_count": 22,
      "outputs": [
        {
          "output_type": "execute_result",
          "data": {
            "text/plain": [
              "0.9999998333333416"
            ]
          },
          "metadata": {
            "tags": []
          },
          "execution_count": 22
        }
      ]
    },
    {
      "cell_type": "code",
      "metadata": {
        "id": "UFM_c1t_cxZp",
        "colab": {
          "base_uri": "https://localhost:8080/"
        },
        "outputId": "21d3a837-7082-4494-8836-1dfa1584ec48"
      },
      "source": [
        "sin_fxn(-0.1)"
      ],
      "execution_count": 23,
      "outputs": [
        {
          "output_type": "execute_result",
          "data": {
            "text/plain": [
              "0.9983341664682815"
            ]
          },
          "metadata": {
            "tags": []
          },
          "execution_count": 23
        }
      ]
    },
    {
      "cell_type": "code",
      "metadata": {
        "id": "xrSXdv0ScxZr",
        "colab": {
          "base_uri": "https://localhost:8080/"
        },
        "outputId": "506382a5-8d5f-4493-dd03-bbd220221472"
      },
      "source": [
        "sin_fxn(-0.001)"
      ],
      "execution_count": 24,
      "outputs": [
        {
          "output_type": "execute_result",
          "data": {
            "text/plain": [
              "0.9999998333333416"
            ]
          },
          "metadata": {
            "tags": []
          },
          "execution_count": 24
        }
      ]
    },
    {
      "cell_type": "code",
      "metadata": {
        "id": "5nhhRmJTcxZs"
      },
      "source": [
        "y = sin_fxn(x)"
      ],
      "execution_count": 25,
      "outputs": []
    },
    {
      "cell_type": "code",
      "metadata": {
        "id": "bolWRmXmcxZu",
        "colab": {
          "base_uri": "https://localhost:8080/",
          "height": 0
        },
        "outputId": "09a26235-9230-4c5c-8e8a-7d351a943e97"
      },
      "source": [
        "fig, ax = plt.subplots()\n",
        "plt.axvline(x=0, color='lightgray')\n",
        "plt.axhline(y=0, color='lightgray')\n",
        "plt.xlim(-10, 10)\n",
        "plt.ylim(-1, 2)\n",
        "plt.axvline(x=0, color='purple', linestyle='--')\n",
        "plt.axhline(y=1, color='purple', linestyle='--')\n",
        "_ = ax.plot(x,y)"
      ],
      "execution_count": 26,
      "outputs": [
        {
          "output_type": "display_data",
          "data": {
            "image/png": "[encoded data removed]",
            "text/plain": [
              "<Figure size 432x288 with 1 Axes>"
            ]
          },
          "metadata": {
            "tags": [],
            "needs_background": "light"
          }
        }
      ]
    },
    {
      "cell_type": "markdown",
      "metadata": {
        "id": "2OI8JVY6cxZw"
      },
      "source": [
        "**Return to slides here.**"
      ]
    },
    {
      "cell_type": "markdown",
      "metadata": {
        "id": "ly5b30kjcxZx"
      },
      "source": [
        "$$ \\lim_{x \\to \\infty} \\frac{25}{x} $$"
      ]
    },
    {
      "cell_type": "code",
      "metadata": {
        "id": "-WbP-XFncxZy"
      },
      "source": [
        "def inf_fxn(my_x):\n",
        "    my_y = 25/my_x\n",
        "    return my_y"
      ],
      "execution_count": 27,
      "outputs": []
    },
    {
      "cell_type": "code",
      "metadata": {
        "id": "C-35M67YcxZ3",
        "colab": {
          "base_uri": "https://localhost:8080/"
        },
        "outputId": "ce970053-a867-410c-917b-472993a8ab1b"
      },
      "source": [
        "inf_fxn(1e3)"
      ],
      "execution_count": 28,
      "outputs": [
        {
          "output_type": "execute_result",
          "data": {
            "text/plain": [
              "0.025"
            ]
          },
          "metadata": {
            "tags": []
          },
          "execution_count": 28
        }
      ]
    },
    {
      "cell_type": "code",
      "metadata": {
        "id": "jZ88FSTfcxZ5",
        "colab": {
          "base_uri": "https://localhost:8080/"
        },
        "outputId": "4dc8562f-b860-4335-eee2-452e5858fa02"
      },
      "source": [
        "inf_fxn(1e6)"
      ],
      "execution_count": 29,
      "outputs": [
        {
          "output_type": "execute_result",
          "data": {
            "text/plain": [
              "2.5e-05"
            ]
          },
          "metadata": {
            "tags": []
          },
          "execution_count": 29
        }
      ]
    },
    {
      "cell_type": "code",
      "metadata": {
        "id": "PwTJXJWWeDZT"
      },
      "source": [
        "y = inf_fxn(x)"
      ],
      "execution_count": 30,
      "outputs": []
    },
    {
      "cell_type": "code",
      "metadata": {
        "id": "AwwKi3RMeBjV",
        "colab": {
          "base_uri": "https://localhost:8080/",
          "height": 0
        },
        "outputId": "4af2952f-d1d3-4446-a20b-6f1c5529d5ba"
      },
      "source": [
        "fig, ax = plt.subplots()\n",
        "plt.axvline(x=0, color='lightgray')\n",
        "plt.axhline(y=0, color='lightgray')\n",
        "plt.xlim(-10, 10)\n",
        "plt.ylim(-300, 300)\n",
        "_ = ax.plot(x, y)"
      ],
      "execution_count": 31,
      "outputs": [
        {
          "output_type": "display_data",
          "data": {
            "image/png": "[encoded data removed]",
            "text/plain": [
              "<Figure size 432x288 with 1 Axes>"
            ]
          },
          "metadata": {
            "tags": [],
            "needs_background": "light"
          }
        }
      ]
    },
    {
      "cell_type": "code",
      "metadata": {
        "id": "2Rjoo4OKbmnB"
      },
      "source": [
        "left_x = x[x<0]\n",
        "right_x = x[x>0]"
      ],
      "execution_count": 32,
      "outputs": []
    },
    {
      "cell_type": "code",
      "metadata": {
        "id": "sb9QiH6vcxZ0"
      },
      "source": [
        "left_y = inf_fxn(left_x)\n",
        "right_y = inf_fxn(right_x)"
      ],
      "execution_count": 33,
      "outputs": []
    },
    {
      "cell_type": "code",
      "metadata": {
        "id": "vleskD0VcxZ7",
        "colab": {
          "base_uri": "https://localhost:8080/",
          "height": 0
        },
        "outputId": "6b305a76-691b-42dd-9489-44345a442446"
      },
      "source": [
        "fig, ax = plt.subplots()\n",
        "plt.axvline(x=0, color='lightgray')\n",
        "plt.axhline(y=0, color='lightgray')\n",
        "plt.xlim(-10, 10)\n",
        "plt.ylim(-300, 300)\n",
        "ax.plot(left_x, left_y, c='C0')\n",
        "_ = ax.plot(right_x, right_y, c='C0')"
      ],
      "execution_count": 34,
      "outputs": [
        {
          "output_type": "display_data",
          "data": {
            "image/png": "[encoded data removed]",
            "text/plain": [
              "<Figure size 432x288 with 1 Axes>"
            ]
          },
          "metadata": {
            "tags": [],
            "needs_background": "light"
          }
        }
      ]
    },
    {
      "cell_type": "markdown",
      "metadata": {
        "id": "bA2xg33LcxZ8"
      },
      "source": [
        "**Exercises:**\n",
        "\n",
        "Evaluate the limits below.\n",
        "\n",
        "1. $$ \\lim_{x \\to 0} \\frac{x^2-1}{x-1} $$\n",
        "2. $$ \\lim_{x \\to -5} \\frac{x^2-25}{x+5} $$\n",
        "3. $$ \\lim_{x \\to 4} \\frac{x^2 -2x -8}{x-4} $$\n",
        "4. $$ \\lim_{x \\to -\\infty} \\frac{25}{x} $$\n",
        "5. $$ \\lim_{x \\to 0} \\frac{25}{x} $$"
      ]
    },
    {
      "cell_type": "markdown",
      "metadata": {
        "id": "AbAn1ChdcxZ9"
      },
      "source": [
        "**Return to slides here.**"
      ]
    },
    {
      "cell_type": "markdown",
      "metadata": {
        "id": "e7cnhfOYcxZ9"
      },
      "source": [
        "## Segment 2: Computing Derivatives with Differentiation"
      ]
    },
    {
      "cell_type": "markdown",
      "metadata": {
        "id": "CDn8BeCDcxZ9"
      },
      "source": [
        "Let's bring back our ol' buddy $y = x^2 + 2x + 2$:"
      ]
    },
    {
      "cell_type": "code",
      "metadata": {
        "id": "Dk2EXlqccxZ-"
      },
      "source": [
        "def f(my_x):\n",
        "    my_y = my_x**2 + 2*my_x + 2\n",
        "    return my_y"
      ],
      "execution_count": 35,
      "outputs": []
    },
    {
      "cell_type": "code",
      "metadata": {
        "id": "SLmyyYdEcxaA"
      },
      "source": [
        "y = f(x)"
      ],
      "execution_count": 36,
      "outputs": []
    },
    {
      "cell_type": "code",
      "metadata": {
        "id": "eNIlXWeQcxaC",
        "colab": {
          "base_uri": "https://localhost:8080/",
          "height": 265
        },
        "outputId": "5f95843a-812f-4cda-9e7a-d8f66f43a571"
      },
      "source": [
        "fig, ax = plt.subplots()\n",
        "plt.axvline(x=0, color='lightgray')\n",
        "plt.axhline(y=0, color='lightgray')\n",
        "_ = ax.plot(x,y)"
      ],
      "execution_count": 37,
      "outputs": [
        {
          "output_type": "display_data",
          "data": {
            "image/png": "[encoded data removed]",
            "text/plain": [
              "<Figure size 432x288 with 1 Axes>"
            ]
          },
          "metadata": {
            "tags": [],
            "needs_background": "light"
          }
        }
      ]
    },
    {
      "cell_type": "markdown",
      "metadata": {
        "id": "h7C7nPEhcxaD"
      },
      "source": [
        "Let's identify the slope where, say, $x = 2$."
      ]
    },
    {
      "cell_type": "markdown",
      "metadata": {
        "id": "DeVa3RrtcxaE"
      },
      "source": [
        "First, let's determine what $y$ is: "
      ]
    },
    {
      "cell_type": "code",
      "metadata": {
        "id": "hz5oolNEcxaE",
        "colab": {
          "base_uri": "https://localhost:8080/"
        },
        "outputId": "3e0d7823-0584-473f-e507-c01f6ec3a10d"
      },
      "source": [
        "f(2)"
      ],
      "execution_count": 38,
      "outputs": [
        {
          "output_type": "execute_result",
          "data": {
            "text/plain": [
              "10"
            ]
          },
          "metadata": {
            "tags": []
          },
          "execution_count": 38
        }
      ]
    },
    {
      "cell_type": "markdown",
      "metadata": {
        "id": "7fkzBRR5cxaF"
      },
      "source": [
        "Cool. Let's call this point $P$, which is located at (2, 10):"
      ]
    },
    {
      "cell_type": "code",
      "metadata": {
        "id": "IOI2oxj2cxaG",
        "colab": {
          "base_uri": "https://localhost:8080/",
          "height": 265
        },
        "outputId": "8e5fe2cf-5f38-4cd8-913c-718be5c35840"
      },
      "source": [
        "fig, ax = plt.subplots()\n",
        "plt.axvline(x=0, color='lightgray')\n",
        "plt.axhline(y=0, color='lightgray')\n",
        "plt.scatter(2, 10) # new\n",
        "_ = ax.plot(x,y)"
      ],
      "execution_count": 39,
      "outputs": [
        {
          "output_type": "display_data",
          "data": {
            "image/png": "[encoded data removed]",
            "text/plain": [
              "<Figure size 432x288 with 1 Axes>"
            ]
          },
          "metadata": {
            "tags": [],
            "needs_background": "light"
          }
        }
      ]
    },
    {
      "cell_type": "markdown",
      "metadata": {
        "id": "PPCiF6CacxaI"
      },
      "source": [
        "The _delta method_ uses the difference between two points to calculate slope. To illustrate this, let's define another point, $Q$ where, say, $x = 5$."
      ]
    },
    {
      "cell_type": "code",
      "metadata": {
        "id": "YAP0LJnxcxaI",
        "colab": {
          "base_uri": "https://localhost:8080/"
        },
        "outputId": "46548d06-60ee-448e-dffd-c67e4299e186"
      },
      "source": [
        "f(5)"
      ],
      "execution_count": 40,
      "outputs": [
        {
          "output_type": "execute_result",
          "data": {
            "text/plain": [
              "37"
            ]
          },
          "metadata": {
            "tags": []
          },
          "execution_count": 40
        }
      ]
    },
    {
      "cell_type": "code",
      "metadata": {
        "id": "usfMMyTvcxaK",
        "colab": {
          "base_uri": "https://localhost:8080/",
          "height": 265
        },
        "outputId": "d141c6f9-88f0-4faa-f0c3-a304127faa13"
      },
      "source": [
        "fig, ax = plt.subplots()\n",
        "plt.axvline(x=0, color='lightgray')\n",
        "plt.axhline(y=0, color='lightgray')\n",
        "plt.scatter(2, 10)\n",
        "plt.scatter(5, 37, c = 'orange', zorder=3) # new\n",
        "_ = ax.plot(x,y)"
      ],
      "execution_count": 41,
      "outputs": [
        {
          "output_type": "display_data",
          "data": {
            "image/png": "[encoded data removed]",
            "text/plain": [
              "<Figure size 432x288 with 1 Axes>"
            ]
          },
          "metadata": {
            "tags": [],
            "needs_background": "light"
          }
        }
      ]
    },
    {
      "cell_type": "markdown",
      "metadata": {
        "id": "kdony9sucxaM"
      },
      "source": [
        "To find the slope $m$ between points $P$ and $Q$: \n",
        "$$m = \\frac{\\text{change in }y}{\\text{change in }x} = \\frac{\\Delta y}{\\Delta x} = \\frac{y_2 - y_1}{x_2 - x_1} = \\frac{37-10}{5-2} = \\frac{27}{3} = 9$$"
      ]
    },
    {
      "cell_type": "code",
      "metadata": {
        "id": "kgoU-_wzcxaM",
        "colab": {
          "base_uri": "https://localhost:8080/"
        },
        "outputId": "da3140ce-00a1-45f0-f80b-b50598136c6f"
      },
      "source": [
        "m = (37-10)/(5-2)\n",
        "m"
      ],
      "execution_count": 42,
      "outputs": [
        {
          "output_type": "execute_result",
          "data": {
            "text/plain": [
              "9.0"
            ]
          },
          "metadata": {
            "tags": []
          },
          "execution_count": 42
        }
      ]
    },
    {
      "cell_type": "markdown",
      "metadata": {
        "id": "ZWtSUfLVcxaP"
      },
      "source": [
        "To plot the line that passes through $P$ and $Q$, we can rearrange the equation of a line $y = mx + b$ to solve for $b$: \n",
        "$$b = y - mx$$"
      ]
    },
    {
      "cell_type": "code",
      "metadata": {
        "id": "UuYXrltscxaP",
        "colab": {
          "base_uri": "https://localhost:8080/"
        },
        "outputId": "99d6762e-7d4e-46b8-e797-205039127df6"
      },
      "source": [
        "b = 37-m*5\n",
        "b"
      ],
      "execution_count": 43,
      "outputs": [
        {
          "output_type": "execute_result",
          "data": {
            "text/plain": [
              "-8.0"
            ]
          },
          "metadata": {
            "tags": []
          },
          "execution_count": 43
        }
      ]
    },
    {
      "cell_type": "code",
      "metadata": {
        "id": "AwawB1LLcxaR"
      },
      "source": [
        "line_y = m*x + b"
      ],
      "execution_count": 44,
      "outputs": []
    },
    {
      "cell_type": "code",
      "metadata": {
        "id": "Lkg2Bl7TcxaT",
        "colab": {
          "base_uri": "https://localhost:8080/",
          "height": 265
        },
        "outputId": "385ca363-bb72-489c-b129-e43330b6b6d0"
      },
      "source": [
        "fig, ax = plt.subplots()\n",
        "plt.axvline(x=0, color='lightgray')\n",
        "plt.axhline(y=0, color='lightgray')\n",
        "plt.scatter(2, 10)\n",
        "plt.scatter(5, 37, c='orange', zorder=3)\n",
        "plt.ylim(-5, 150) # new\n",
        "plt.plot(x, line_y, c='orange') # new\n",
        "_ = ax.plot(x,y)"
      ],
      "execution_count": 45,
      "outputs": [
        {
          "output_type": "display_data",
          "data": {
            "image/png": "[encoded data removed]",
            "text/plain": [
              "<Figure size 432x288 with 1 Axes>"
            ]
          },
          "metadata": {
            "tags": [],
            "needs_background": "light"
          }
        }
      ]
    },
    {
      "cell_type": "markdown",
      "metadata": {
        "id": "RGEaUT_OcxaV"
      },
      "source": [
        "The closer $Q$ becomes to $P$, the closer the slope $m$ comes to being the true tangent of the point $P$. Let's demonstrate this with another point $Q$ at $x = 2.1$."
      ]
    },
    {
      "cell_type": "markdown",
      "metadata": {
        "id": "xWAJUiEbcxaV"
      },
      "source": [
        "Previously, our $\\Delta x$ between $Q$ and $P$ was equal to 3. Now it is much smaller: $$\\Delta x = x_2 - x_1 = 2.1 - 2 = 0.1 $$"
      ]
    },
    {
      "cell_type": "code",
      "metadata": {
        "id": "-XDEG_o7cxaV",
        "colab": {
          "base_uri": "https://localhost:8080/"
        },
        "outputId": "f0449c3c-225b-4eb2-e258-c542e363bbd1"
      },
      "source": [
        "f(2.1)"
      ],
      "execution_count": 46,
      "outputs": [
        {
          "output_type": "execute_result",
          "data": {
            "text/plain": [
              "10.61"
            ]
          },
          "metadata": {
            "tags": []
          },
          "execution_count": 46
        }
      ]
    },
    {
      "cell_type": "code",
      "metadata": {
        "id": "85n3ApTmcxaX",
        "colab": {
          "base_uri": "https://localhost:8080/",
          "height": 265
        },
        "outputId": "8ea7e576-e4e3-4c59-e629-ed490e1e6f2c"
      },
      "source": [
        "fig, ax = plt.subplots()\n",
        "plt.axvline(x=0, color='lightgray')\n",
        "plt.axhline(y=0, color='lightgray')\n",
        "plt.scatter(2, 10)\n",
        "plt.scatter(2.1, 10.61, c = 'orange', zorder=3)\n",
        "_ = ax.plot(x,y)"
      ],
      "execution_count": 47,
      "outputs": [
        {
          "output_type": "display_data",
          "data": {
            "image/png": "[encoded data removed]",
            "text/plain": [
              "<Figure size 432x288 with 1 Axes>"
            ]
          },
          "metadata": {
            "tags": [],
            "needs_background": "light"
          }
        }
      ]
    },
    {
      "cell_type": "code",
      "metadata": {
        "id": "YlWhoumBcxaY",
        "colab": {
          "base_uri": "https://localhost:8080/"
        },
        "outputId": "c1ea06cd-8cf3-402e-b985-e10785ccb045"
      },
      "source": [
        "m = (10.61-10)/(2.1-2)\n",
        "m"
      ],
      "execution_count": 48,
      "outputs": [
        {
          "output_type": "execute_result",
          "data": {
            "text/plain": [
              "6.099999999999989"
            ]
          },
          "metadata": {
            "tags": []
          },
          "execution_count": 48
        }
      ]
    },
    {
      "cell_type": "code",
      "metadata": {
        "id": "KHMZNdjQcxaa",
        "colab": {
          "base_uri": "https://localhost:8080/"
        },
        "outputId": "7fcd5684-ed3e-4632-85a3-dfebd72e26e8"
      },
      "source": [
        "b = 10.61-m*2.1\n",
        "b"
      ],
      "execution_count": 49,
      "outputs": [
        {
          "output_type": "execute_result",
          "data": {
            "text/plain": [
              "-2.199999999999978"
            ]
          },
          "metadata": {
            "tags": []
          },
          "execution_count": 49
        }
      ]
    },
    {
      "cell_type": "code",
      "metadata": {
        "id": "J1-_0DBJcxab"
      },
      "source": [
        "line_y = m*x + b"
      ],
      "execution_count": 50,
      "outputs": []
    },
    {
      "cell_type": "code",
      "metadata": {
        "id": "eDtjdRYQcxad",
        "colab": {
          "base_uri": "https://localhost:8080/",
          "height": 265
        },
        "outputId": "a2090c43-501b-47fd-98f3-748eae08c080"
      },
      "source": [
        "fig, ax = plt.subplots()\n",
        "plt.axvline(x=0, color='lightgray')\n",
        "plt.axhline(y=0, color='lightgray')\n",
        "plt.scatter(2, 10)\n",
        "plt.scatter(2.1, 10.61, c='orange', zorder=3)\n",
        "plt.ylim(-5, 150)\n",
        "plt.plot(x, line_y, c='orange', zorder=3)\n",
        "_ = ax.plot(x,y)"
      ],
      "execution_count": 51,
      "outputs": [
        {
          "output_type": "display_data",
          "data": {
            "image/png": "[encoded data removed]",
            "text/plain": [
              "<Figure size 432x288 with 1 Axes>"
            ]
          },
          "metadata": {
            "tags": [],
            "needs_background": "light"
          }
        }
      ]
    },
    {
      "cell_type": "markdown",
      "metadata": {
        "id": "elxPRnoTcxae"
      },
      "source": [
        "The closer $Q$ becomes to $P$ (i.e., $\\Delta x$ approaches 0), the clearer it becomes that the slope $m$ at point $P$ = (2, 10) is equal to 6."
      ]
    },
    {
      "cell_type": "markdown",
      "metadata": {
        "id": "srMjU62xcxaf"
      },
      "source": [
        "Let's make $\\Delta x$ extremely small, 0.000001, to illustrate this:"
      ]
    },
    {
      "cell_type": "code",
      "metadata": {
        "id": "c_B0wY47cxaf",
        "colab": {
          "base_uri": "https://localhost:8080/"
        },
        "outputId": "50374baa-1d15-4a52-d960-3cd1f3e83986"
      },
      "source": [
        "delta_x = 0.000001\n",
        "delta_x"
      ],
      "execution_count": 52,
      "outputs": [
        {
          "output_type": "execute_result",
          "data": {
            "text/plain": [
              "1e-06"
            ]
          },
          "metadata": {
            "tags": []
          },
          "execution_count": 52
        }
      ]
    },
    {
      "cell_type": "code",
      "metadata": {
        "id": "g8LSgemacxai"
      },
      "source": [
        "x1 = 2\n",
        "y1 = 10"
      ],
      "execution_count": 53,
      "outputs": []
    },
    {
      "cell_type": "markdown",
      "metadata": {
        "id": "gsa2I2Jxcxaj"
      },
      "source": [
        "Rearranging $\\Delta x = x_2 - x_1$, we can calculate $x_2$ for our point $Q$, which is now extremely close to $P$: \n",
        "$$x_2 = x_1 + \\Delta x$$"
      ]
    },
    {
      "cell_type": "code",
      "metadata": {
        "id": "4PgqVCZVcxak",
        "colab": {
          "base_uri": "https://localhost:8080/"
        },
        "outputId": "a3f3cbc8-0554-483c-f5c8-4d55358b642c"
      },
      "source": [
        "x2 = x1 + delta_x\n",
        "x2"
      ],
      "execution_count": 54,
      "outputs": [
        {
          "output_type": "execute_result",
          "data": {
            "text/plain": [
              "2.000001"
            ]
          },
          "metadata": {
            "tags": []
          },
          "execution_count": 54
        }
      ]
    },
    {
      "cell_type": "markdown",
      "metadata": {
        "id": "FoBqhu1zcxan"
      },
      "source": [
        "$y_2$ for our point $Q$ can be obtained with the usual function $f(x)$: \n",
        "$$y_2 = f(x_2)$$"
      ]
    },
    {
      "cell_type": "code",
      "metadata": {
        "id": "9_2mjm1Ycxan",
        "colab": {
          "base_uri": "https://localhost:8080/"
        },
        "outputId": "b10c1e77-20a9-4039-ca39-744c228af521"
      },
      "source": [
        "y2 = f(x2)\n",
        "y2"
      ],
      "execution_count": 55,
      "outputs": [
        {
          "output_type": "execute_result",
          "data": {
            "text/plain": [
              "10.000006000001001"
            ]
          },
          "metadata": {
            "tags": []
          },
          "execution_count": 55
        }
      ]
    },
    {
      "cell_type": "markdown",
      "metadata": {
        "id": "Eekls7AIcxap"
      },
      "source": [
        "To find the slope $m$, we continue to use $$m = \\frac{\\Delta y}{\\Delta x} = \\frac{y_2 - y_1}{x_2 - x_1}$$"
      ]
    },
    {
      "cell_type": "code",
      "metadata": {
        "id": "yQAwKXPUcxap",
        "colab": {
          "base_uri": "https://localhost:8080/"
        },
        "outputId": "6047a22f-989b-43ba-88ae-d679d573cf74"
      },
      "source": [
        "m = (y2 - y1)/(x2 - x1)\n",
        "m"
      ],
      "execution_count": 56,
      "outputs": [
        {
          "output_type": "execute_result",
          "data": {
            "text/plain": [
              "6.000001000088901"
            ]
          },
          "metadata": {
            "tags": []
          },
          "execution_count": 56
        }
      ]
    },
    {
      "cell_type": "markdown",
      "metadata": {
        "id": "IEy7jMVpcxar"
      },
      "source": [
        "Boom! Using the delta method, we've shown that at point $P$, the slope of the curve is 6. "
      ]
    },
    {
      "cell_type": "markdown",
      "metadata": {
        "id": "GJ7bRkBvcxar"
      },
      "source": [
        "**Exercise**: Using the delta method, find the slope of the tangent where $x = -1$."
      ]
    },
    {
      "cell_type": "markdown",
      "metadata": {
        "id": "pV8Vpgvdcxar"
      },
      "source": [
        "**Spoiler alert! The solution's below.**"
      ]
    },
    {
      "cell_type": "code",
      "metadata": {
        "id": "65FeJSRocxaz"
      },
      "source": [
        "x1 = -1"
      ],
      "execution_count": 57,
      "outputs": []
    },
    {
      "cell_type": "code",
      "metadata": {
        "id": "fAIGLk8Mcxa0",
        "colab": {
          "base_uri": "https://localhost:8080/"
        },
        "outputId": "6f683736-8d35-427e-93c5-ce301ea168d8"
      },
      "source": [
        "y1 = f(x1)\n",
        "y1"
      ],
      "execution_count": 58,
      "outputs": [
        {
          "output_type": "execute_result",
          "data": {
            "text/plain": [
              "1"
            ]
          },
          "metadata": {
            "tags": []
          },
          "execution_count": 58
        }
      ]
    },
    {
      "cell_type": "markdown",
      "metadata": {
        "id": "SZowMdIQcxa1"
      },
      "source": [
        "Point $P$ is located at (-1, 1)"
      ]
    },
    {
      "cell_type": "code",
      "metadata": {
        "id": "-CPHl783cxa1",
        "colab": {
          "base_uri": "https://localhost:8080/"
        },
        "outputId": "9b45787d-d2a6-4921-f429-602d563b999b"
      },
      "source": [
        "delta_x"
      ],
      "execution_count": 59,
      "outputs": [
        {
          "output_type": "execute_result",
          "data": {
            "text/plain": [
              "1e-06"
            ]
          },
          "metadata": {
            "tags": []
          },
          "execution_count": 59
        }
      ]
    },
    {
      "cell_type": "code",
      "metadata": {
        "id": "jzw0J1n9cxa2",
        "colab": {
          "base_uri": "https://localhost:8080/"
        },
        "outputId": "fa400256-6ca0-4269-bf5f-def8b97447c5"
      },
      "source": [
        "x2 = x1 + delta_x\n",
        "x2"
      ],
      "execution_count": 60,
      "outputs": [
        {
          "output_type": "execute_result",
          "data": {
            "text/plain": [
              "-0.999999"
            ]
          },
          "metadata": {
            "tags": []
          },
          "execution_count": 60
        }
      ]
    },
    {
      "cell_type": "code",
      "metadata": {
        "id": "WaynVKiwcxa3",
        "colab": {
          "base_uri": "https://localhost:8080/"
        },
        "outputId": "29ea4761-00d7-4372-fa15-fa4ea2120d74"
      },
      "source": [
        "y2 = f(x2)\n",
        "y2"
      ],
      "execution_count": 61,
      "outputs": [
        {
          "output_type": "execute_result",
          "data": {
            "text/plain": [
              "1.000000000001"
            ]
          },
          "metadata": {
            "tags": []
          },
          "execution_count": 61
        }
      ]
    },
    {
      "cell_type": "markdown",
      "metadata": {
        "id": "rApig2ipcxa4"
      },
      "source": [
        "Quick aside: Pertinent to defining differentiation as an equation, an alternative way to calculate $y_2$ is $f(x + \\Delta x)$"
      ]
    },
    {
      "cell_type": "code",
      "metadata": {
        "id": "yCW283sZcxa4",
        "colab": {
          "base_uri": "https://localhost:8080/"
        },
        "outputId": "4303f3af-9ae1-4f32-e60c-e9dbe1e2a282"
      },
      "source": [
        "y2 = f(x1 + delta_x)\n",
        "y2"
      ],
      "execution_count": 62,
      "outputs": [
        {
          "output_type": "execute_result",
          "data": {
            "text/plain": [
              "1.000000000001"
            ]
          },
          "metadata": {
            "tags": []
          },
          "execution_count": 62
        }
      ]
    },
    {
      "cell_type": "markdown",
      "metadata": {
        "id": "S1Dr3Ankcxa7"
      },
      "source": [
        "Point $Q$ is at (-0.999999, 1.000000000001), extremely close to $P$."
      ]
    },
    {
      "cell_type": "code",
      "metadata": {
        "id": "ZtokXlMncxa7",
        "colab": {
          "base_uri": "https://localhost:8080/"
        },
        "outputId": "276c49a0-028c-468c-fa46-443a376a2cdf"
      },
      "source": [
        "m = (y2-y1)/(x2-x1)\n",
        "m"
      ],
      "execution_count": 63,
      "outputs": [
        {
          "output_type": "execute_result",
          "data": {
            "text/plain": [
              "1.0000889005535828e-06"
            ]
          },
          "metadata": {
            "tags": []
          },
          "execution_count": 63
        }
      ]
    },
    {
      "cell_type": "markdown",
      "metadata": {
        "id": "91slg8F4cxa8"
      },
      "source": [
        "Therefore, as $x_2$ becomes infinitely close to $x_1$, it becomes clear that the slope $m$ at $x_1 = -1$ is equal to zero. Let's plot it out: "
      ]
    },
    {
      "cell_type": "code",
      "metadata": {
        "id": "2WToJBOhcxa8",
        "colab": {
          "base_uri": "https://localhost:8080/"
        },
        "outputId": "0932ff66-7f17-4acd-9f12-24b37738f4a0"
      },
      "source": [
        "b = y2-m*x2\n",
        "b"
      ],
      "execution_count": 64,
      "outputs": [
        {
          "output_type": "execute_result",
          "data": {
            "text/plain": [
              "1.0000010000889006"
            ]
          },
          "metadata": {
            "tags": []
          },
          "execution_count": 64
        }
      ]
    },
    {
      "cell_type": "code",
      "metadata": {
        "id": "ah0cXRhrcxa9"
      },
      "source": [
        "line_y = m*x + b"
      ],
      "execution_count": 65,
      "outputs": []
    },
    {
      "cell_type": "code",
      "metadata": {
        "id": "MjLttDg9cxa-",
        "colab": {
          "base_uri": "https://localhost:8080/",
          "height": 265
        },
        "outputId": "103ddbeb-66c6-4c02-97be-05790f556db7"
      },
      "source": [
        "fig, ax = plt.subplots()\n",
        "plt.axvline(x=0, color='lightgray')\n",
        "plt.axhline(y=0, color='lightgray')\n",
        "plt.scatter(x1, y1)\n",
        "plt.scatter(x2, y2, c='orange', zorder=3)\n",
        "plt.ylim(-5, 150)\n",
        "plt.plot(x, line_y, c='orange', zorder=3)\n",
        "_ = ax.plot(x,y)"
      ],
      "execution_count": 66,
      "outputs": [
        {
          "output_type": "display_data",
          "data": {
            "image/png": "[encoded data removed]",
            "text/plain": [
              "<Figure size 432x288 with 1 Axes>"
            ]
          },
          "metadata": {
            "tags": [],
            "needs_background": "light"
          }
        }
      ]
    },
    {
      "cell_type": "markdown",
      "metadata": {
        "id": "hqmMtmpGcxbA"
      },
      "source": [
        "As $Q$ becomes infinitely close to $P$:\n",
        "* $x_2$ - $x_1$ approaches 0\n",
        "* In other words, $\\Delta x$ approaches 0\n",
        "* This can be denoted as $\\Delta x \\to 0$"
      ]
    },
    {
      "cell_type": "markdown",
      "metadata": {
        "id": "nsh_7o7kcxbA"
      },
      "source": [
        "Using the delta method, we've derived the definition of differentiation from first principles. The derivative of $y$ (denoted $dy$) with respect to $x$ (denoted $dx$) can be represented as: \n",
        "$$\\frac{dy}{dx} = \\lim_{\\Delta x \\to 0} \\frac{\\Delta y}{\\Delta x}$$"
      ]
    },
    {
      "cell_type": "markdown",
      "metadata": {
        "id": "UxuWTEKlcxbA"
      },
      "source": [
        "Expanding $\\Delta y$ out to $y_2 - y_1$: \n",
        "$$\\frac{dy}{dx} = \\lim_{\\Delta x \\to 0} \\frac{y_2 - y_1}{\\Delta x}$$"
      ]
    },
    {
      "cell_type": "markdown",
      "metadata": {
        "id": "b0H4kFkYcxbB"
      },
      "source": [
        "Finally, replacing $y_1$ with $f(x)$ and replacing $y_2$ with $f(x + \\Delta x)$, we obtain a common representation of differentiation:\n",
        "$$\\frac{dy}{dx} = \\lim_{\\Delta x \\to 0} \\frac{f(x + \\Delta x) - f(x)}{\\Delta x}$$"
      ]
    },
    {
      "cell_type": "markdown",
      "metadata": {
        "id": "SuYWQ9e1cxbB"
      },
      "source": [
        "Let's observe the differentiation equation in action: "
      ]
    },
    {
      "cell_type": "code",
      "metadata": {
        "id": "Do6EHZfHcxbB"
      },
      "source": [
        "def diff_demo(my_f, my_x, my_delta):\n",
        "    return (my_f(my_x + my_delta) - my_f(my_x)) / my_delta"
      ],
      "execution_count": 67,
      "outputs": []
    },
    {
      "cell_type": "code",
      "metadata": {
        "id": "hXbAgWvrcxbC"
      },
      "source": [
        "deltas = [1, 0.1, 0.01, 0.001, 0.0001, 0.00001, 0.000001]"
      ],
      "execution_count": 68,
      "outputs": []
    },
    {
      "cell_type": "code",
      "metadata": {
        "id": "iYtlA3S5cxbD",
        "colab": {
          "base_uri": "https://localhost:8080/"
        },
        "outputId": "d4433164-5a67-4e13-f095-d90e3678de12"
      },
      "source": [
        "for delta in deltas:\n",
        "    print(diff_demo(f, 2, delta))"
      ],
      "execution_count": 69,
      "outputs": [
        {
          "output_type": "stream",
          "text": [
            "7.0\n",
            "6.099999999999994\n",
            "6.009999999999849\n",
            "6.000999999999479\n",
            "6.000100000012054\n",
            "6.000009999951316\n",
            "6.000001000927568\n"
          ],
          "name": "stdout"
        }
      ]
    },
    {
      "cell_type": "code",
      "metadata": {
        "id": "CMW45DQmcxbF",
        "scrolled": true,
        "colab": {
          "base_uri": "https://localhost:8080/"
        },
        "outputId": "77a6cc9a-a142-41e0-bdf1-861eb2a84182"
      },
      "source": [
        "for delta in deltas:\n",
        "    print(diff_demo(f, -1, delta))"
      ],
      "execution_count": 70,
      "outputs": [
        {
          "output_type": "stream",
          "text": [
            "1.0\n",
            "0.10000000000000009\n",
            "0.009999999999998899\n",
            "0.001000000000139778\n",
            "9.99999993922529e-05\n",
            "1.000000082740371e-05\n",
            "1.000088900582341e-06\n"
          ],
          "name": "stdout"
        }
      ]
    },
    {
      "cell_type": "markdown",
      "metadata": {
        "id": "Kh8vawMMcxbG"
      },
      "source": [
        "**Return to slides here.**"
      ]
    },
    {
      "cell_type": "markdown",
      "metadata": {
        "id": "Ez8pKj_lcxbG"
      },
      "source": [
        "## Segment 3: Automatic Differentiation"
      ]
    },
    {
      "cell_type": "markdown",
      "metadata": {
        "id": "laWM6cgvcxbG"
      },
      "source": [
        "**TensorFlow** and **PyTorch** are the two most popular automatic differentiation libraries."
      ]
    },
    {
      "cell_type": "markdown",
      "metadata": {
        "id": "RLi7jwLEzaDB"
      },
      "source": [
        "Let's use them to calculate $dy/dx$ at $x = 5$ where: "
      ]
    },
    {
      "cell_type": "markdown",
      "metadata": {
        "id": "qmgeCDWycxbL"
      },
      "source": [
        "$$y = x^2$$"
      ]
    },
    {
      "cell_type": "markdown",
      "metadata": {
        "id": "MhMxT9oQcxbL"
      },
      "source": [
        "$$ \\frac{dy}{dx} = 2x = 2(5) = 10 $$"
      ]
    },
    {
      "cell_type": "markdown",
      "metadata": {
        "id": "Zg-PepdncxbN"
      },
      "source": [
        "### Autodiff with PyTorch"
      ]
    },
    {
      "cell_type": "code",
      "metadata": {
        "id": "n8FJ1OkWcxbN"
      },
      "source": [
        "import torch"
      ],
      "execution_count": 71,
      "outputs": []
    },
    {
      "cell_type": "code",
      "metadata": {
        "id": "DTYVufujcxbP"
      },
      "source": [
        "x = torch.tensor(5.0)"
      ],
      "execution_count": 72,
      "outputs": []
    },
    {
      "cell_type": "code",
      "metadata": {
        "id": "13j9vFZgcxbP",
        "colab": {
          "base_uri": "https://localhost:8080/"
        },
        "outputId": "f67b5a08-1edf-4ea4-dfd9-fae1a35522ce"
      },
      "source": [
        "x"
      ],
      "execution_count": 73,
      "outputs": [
        {
          "output_type": "execute_result",
          "data": {
            "text/plain": [
              "tensor(5.)"
            ]
          },
          "metadata": {
            "tags": []
          },
          "execution_count": 73
        }
      ]
    },
    {
      "cell_type": "code",
      "metadata": {
        "id": "PBLvpsCWcxbQ",
        "colab": {
          "base_uri": "https://localhost:8080/"
        },
        "outputId": "b1682daa-6306-4dd2-d6dc-564a9e94ee5f"
      },
      "source": [
        "x.requires_grad_() # contagiously track gradients through forward pass"
      ],
      "execution_count": 74,
      "outputs": [
        {
          "output_type": "execute_result",
          "data": {
            "text/plain": [
              "tensor(5., requires_grad=True)"
            ]
          },
          "metadata": {
            "tags": []
          },
          "execution_count": 74
        }
      ]
    },
    {
      "cell_type": "code",
      "metadata": {
        "id": "zper8WoVcxbR"
      },
      "source": [
        "y = x**2"
      ],
      "execution_count": 75,
      "outputs": []
    },
    {
      "cell_type": "code",
      "metadata": {
        "id": "1Pbdg7zVcxbS"
      },
      "source": [
        "y.backward() # use autodiff"
      ],
      "execution_count": 76,
      "outputs": []
    },
    {
      "cell_type": "code",
      "metadata": {
        "id": "UbV3BecacxbT",
        "colab": {
          "base_uri": "https://localhost:8080/"
        },
        "outputId": "5aa086c4-239e-4dd0-9a1a-6d5566bc29c5"
      },
      "source": [
        "x.grad"
      ],
      "execution_count": 77,
      "outputs": [
        {
          "output_type": "execute_result",
          "data": {
            "text/plain": [
              "tensor(10.)"
            ]
          },
          "metadata": {
            "tags": []
          },
          "execution_count": 77
        }
      ]
    },
    {
      "cell_type": "markdown",
      "metadata": {
        "id": "dyB3FghkcxbG"
      },
      "source": [
        "### Autodiff with TensorFlow"
      ]
    },
    {
      "cell_type": "code",
      "metadata": {
        "id": "4D12um9kcxbH"
      },
      "source": [
        "import tensorflow as tf"
      ],
      "execution_count": 78,
      "outputs": []
    },
    {
      "cell_type": "code",
      "metadata": {
        "id": "f7mQuelZcxbJ"
      },
      "source": [
        "x = tf.Variable(5.0)"
      ],
      "execution_count": 79,
      "outputs": []
    },
    {
      "cell_type": "code",
      "metadata": {
        "id": "M-WeFuBfcxbK"
      },
      "source": [
        "with tf.GradientTape() as t:\n",
        "    t.watch(x) # track forward pass\n",
        "    y = x**2"
      ],
      "execution_count": 80,
      "outputs": []
    },
    {
      "cell_type": "code",
      "metadata": {
        "id": "Txjp5NBNcxbL",
        "colab": {
          "base_uri": "https://localhost:8080/"
        },
        "outputId": "9b855fc6-5696-421f-ee77-ab5fd11ba891"
      },
      "source": [
        "t.gradient(y, x) # use autodiff"
      ],
      "execution_count": 81,
      "outputs": [
        {
          "output_type": "execute_result",
          "data": {
            "text/plain": [
              "<tf.Tensor: shape=(), dtype=float32, numpy=10.0>"
            ]
          },
          "metadata": {
            "tags": []
          },
          "execution_count": 81
        }
      ]
    },
    {
      "cell_type": "markdown",
      "metadata": {
        "id": "dS--vwVWzaDD"
      },
      "source": [
        "**Return to slides here.**"
      ]
    },
    {
      "cell_type": "markdown",
      "metadata": {
        "id": "l599s7vacxbV"
      },
      "source": [
        "As usual, PyTorch feels more intuitive and pythonic than TensorFlow. See the standalone [*Regression in PyTorch*](https://github.com/jonkrohn/ML-foundations/blob/master/notebooks/regression-in-pytorch.ipynb) notebook for an example of autodiff paired with gradient descent in order to fit a simple regression line."
      ]
    }
  ]
}