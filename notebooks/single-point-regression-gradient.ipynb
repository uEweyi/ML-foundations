{
  "nbformat": 4,
  "nbformat_minor": 0,
  "metadata": {
    "kernelspec": {
      "display_name": "Python 3",
      "language": "python",
      "name": "python3"
    },
    "language_info": {
      "codemirror_mode": {
        "name": "ipython",
        "version": 3
      },
      "file_extension": ".py",
      "mimetype": "text/x-python",
      "name": "python",
      "nbconvert_exporter": "python",
      "pygments_lexer": "ipython3",
      "version": "3.7.6"
    },
    "colab": {
      "name": "single-point-regression-gradient.ipynb",
      "provenance": [],
      "include_colab_link": true
    }
  },
  "cells": [
    {
      "cell_type": "markdown",
      "metadata": {
        "id": "view-in-github",
        "colab_type": "text"
      },
      "source": [
        "<a href=\"https://colab.research.google.com/github/jonkrohn/ML-foundations/blob/master/notebooks/single-point-regression-gradient.ipynb\" target=\"_parent\"><img src=\"https://colab.research.google.com/assets/colab-badge.svg\" alt=\"Open In Colab\"/></a>"
      ]
    },
    {
      "cell_type": "markdown",
      "metadata": {
        "id": "dlQvcmWWNd4Y",
        "colab_type": "text"
      },
      "source": [
        "# Gradient of a Single-Point Regression"
      ]
    },
    {
      "cell_type": "markdown",
      "metadata": {
        "id": "5JtUZ9KYNd4Z",
        "colab_type": "text"
      },
      "source": [
        "In this notebook, we calculate the gradient of quadratic cost with respect to a straight-line regression model's parameters. We keep the partial derivatives as simple as possible by limiting the model to handling a single data point. "
      ]
    },
    {
      "cell_type": "code",
      "metadata": {
        "id": "EdScrjQCNd4Z",
        "colab_type": "code",
        "colab": {}
      },
      "source": [
        "import torch"
      ],
      "execution_count": 1,
      "outputs": []
    },
    {
      "cell_type": "markdown",
      "metadata": {
        "id": "NnFhWE9kNd4d",
        "colab_type": "text"
      },
      "source": [
        "Let's use the same data as we did in the [*Regression in PyTorch* notebook](https://github.com/jonkrohn/ML-foundations/blob/master/notebooks/regression-in-pytorch.ipynb) as well as for demonstrating the Moore-Penrose Pseudoinverse in the [*Linear Algebra II* notebook](https://github.com/jonkrohn/ML-foundations/blob/master/notebooks/2-linear-algebra-ii.ipynb):"
      ]
    },
    {
      "cell_type": "code",
      "metadata": {
        "id": "Oem10L3iNd4d",
        "colab_type": "code",
        "colab": {}
      },
      "source": [
        "xs = torch.tensor([0, 1, 2, 3, 4, 5, 6, 7.])"
      ],
      "execution_count": 2,
      "outputs": []
    },
    {
      "cell_type": "code",
      "metadata": {
        "id": "jPZsXuwWNd4f",
        "colab_type": "code",
        "colab": {}
      },
      "source": [
        "ys = torch.tensor([1.86, 1.31, .62, .33, .09, -.67, -1.23, -1.37])"
      ],
      "execution_count": 3,
      "outputs": []
    },
    {
      "cell_type": "markdown",
      "metadata": {
        "id": "yM6hk9NeNd4i",
        "colab_type": "text"
      },
      "source": [
        "The slope of a line is given by $y = mx + b$:"
      ]
    },
    {
      "cell_type": "code",
      "metadata": {
        "id": "NtyilFoYNd4i",
        "colab_type": "code",
        "colab": {}
      },
      "source": [
        "def regression(my_x, my_m, my_b):\n",
        "    return my_x*my_m + my_b"
      ],
      "execution_count": 4,
      "outputs": []
    },
    {
      "cell_type": "markdown",
      "metadata": {
        "id": "ROV3p3BHNd4l",
        "colab_type": "text"
      },
      "source": [
        "Let's initialize $m$ and $b$ with the same \"random\" near-zero values as we did in the *Regression in PyTorch* notebook: "
      ]
    },
    {
      "cell_type": "code",
      "metadata": {
        "id": "qmiBbvH1Nd4l",
        "colab_type": "code",
        "colab": {}
      },
      "source": [
        "m = torch.tensor([0.9]).requires_grad_()"
      ],
      "execution_count": 5,
      "outputs": []
    },
    {
      "cell_type": "code",
      "metadata": {
        "id": "TRxe0rU9Nd4n",
        "colab_type": "code",
        "colab": {}
      },
      "source": [
        "b = torch.tensor([0.1]).requires_grad_()"
      ],
      "execution_count": 6,
      "outputs": []
    },
    {
      "cell_type": "markdown",
      "metadata": {
        "id": "7Iu4uKsqNd4r",
        "colab_type": "text"
      },
      "source": [
        "To keep the partial derivatives as simple as possible, let's move forward with a single instance $i$ from the eight possible data points: "
      ]
    },
    {
      "cell_type": "code",
      "metadata": {
        "id": "_ttss5lTNd4s",
        "colab_type": "code",
        "colab": {}
      },
      "source": [
        "i = 7\n",
        "x = xs[i]\n",
        "y = ys[i]"
      ],
      "execution_count": 7,
      "outputs": []
    },
    {
      "cell_type": "code",
      "metadata": {
        "id": "TO7ozmjeNd4u",
        "colab_type": "code",
        "colab": {
          "base_uri": "https://localhost:8080/",
          "height": 34
        },
        "outputId": "36c6c903-55de-4a8f-9005-c11590ba295a"
      },
      "source": [
        "x"
      ],
      "execution_count": 8,
      "outputs": [
        {
          "output_type": "execute_result",
          "data": {
            "text/plain": [
              "tensor(7.)"
            ]
          },
          "metadata": {
            "tags": []
          },
          "execution_count": 8
        }
      ]
    },
    {
      "cell_type": "code",
      "metadata": {
        "id": "b63IzdS1Nd4x",
        "colab_type": "code",
        "colab": {
          "base_uri": "https://localhost:8080/",
          "height": 34
        },
        "outputId": "c2f86f35-34db-48c8-e0b1-40c04369f460"
      },
      "source": [
        "y"
      ],
      "execution_count": 9,
      "outputs": [
        {
          "output_type": "execute_result",
          "data": {
            "text/plain": [
              "tensor(-1.3700)"
            ]
          },
          "metadata": {
            "tags": []
          },
          "execution_count": 9
        }
      ]
    },
    {
      "cell_type": "markdown",
      "metadata": {
        "id": "TVkbo0oPNd4z",
        "colab_type": "text"
      },
      "source": [
        "**Step 1**: Forward pass"
      ]
    },
    {
      "cell_type": "markdown",
      "metadata": {
        "id": "M_bUxX__Nd4z",
        "colab_type": "text"
      },
      "source": [
        "We can flow the scalar tensor $x$ through our regression model to produce $\\hat{y}$, an estimate of $y$. Prior to any model training, this is an arbitrary estimate:"
      ]
    },
    {
      "cell_type": "code",
      "metadata": {
        "id": "FBB2iwPiNd40",
        "colab_type": "code",
        "colab": {
          "base_uri": "https://localhost:8080/",
          "height": 34
        },
        "outputId": "329f1f85-ca13-4b28-be50-46fb81e51f4b"
      },
      "source": [
        "yhat = regression(x, m, b)\n",
        "yhat"
      ],
      "execution_count": 10,
      "outputs": [
        {
          "output_type": "execute_result",
          "data": {
            "text/plain": [
              "tensor([6.4000], grad_fn=<AddBackward0>)"
            ]
          },
          "metadata": {
            "tags": []
          },
          "execution_count": 10
        }
      ]
    },
    {
      "cell_type": "markdown",
      "metadata": {
        "id": "6Hy2sDlNNd42",
        "colab_type": "text"
      },
      "source": [
        "**Step 2**: Compare $\\hat{y}$ with true $y$ to calculate cost $C$"
      ]
    },
    {
      "cell_type": "markdown",
      "metadata": {
        "id": "JtHOeylJNd43",
        "colab_type": "text"
      },
      "source": [
        "In the *Regression in PyTorch* notebook, we used mean-squared error, which averages quadratic cost over multiple data points. With a single data point, here we can use quadratic cost alone. It is defined by: $$ C = (\\hat{y} - y)^2 $$"
      ]
    },
    {
      "cell_type": "code",
      "metadata": {
        "id": "t-THZMH0Nd43",
        "colab_type": "code",
        "colab": {}
      },
      "source": [
        "def squared_error(my_yhat, my_y):\n",
        "    return (my_yhat - my_y)**2"
      ],
      "execution_count": 11,
      "outputs": []
    },
    {
      "cell_type": "code",
      "metadata": {
        "id": "1LSKXx5XNd45",
        "colab_type": "code",
        "colab": {
          "base_uri": "https://localhost:8080/",
          "height": 34
        },
        "outputId": "e6a8a6b7-11cb-4393-9692-68c63ee4fa13"
      },
      "source": [
        "C = squared_error(yhat, y)\n",
        "C"
      ],
      "execution_count": 12,
      "outputs": [
        {
          "output_type": "execute_result",
          "data": {
            "text/plain": [
              "tensor([60.3729], grad_fn=<PowBackward0>)"
            ]
          },
          "metadata": {
            "tags": []
          },
          "execution_count": 12
        }
      ]
    },
    {
      "cell_type": "markdown",
      "metadata": {
        "id": "wu4nlO3-Nd47",
        "colab_type": "text"
      },
      "source": [
        "**Step 3**: Use autodiff to calculate gradient of $C$ w.r.t. parameters"
      ]
    },
    {
      "cell_type": "code",
      "metadata": {
        "id": "Mk9Lx-gTNd48",
        "colab_type": "code",
        "colab": {}
      },
      "source": [
        "C.backward()"
      ],
      "execution_count": 13,
      "outputs": []
    },
    {
      "cell_type": "markdown",
      "metadata": {
        "id": "eXQJxYduNd4-",
        "colab_type": "text"
      },
      "source": [
        "The partial derivative of $C$ with respect to $m$ ($\\frac{\\partial C}{\\partial m}$) is: "
      ]
    },
    {
      "cell_type": "code",
      "metadata": {
        "id": "1yQ7w1bfNd4-",
        "colab_type": "code",
        "colab": {
          "base_uri": "https://localhost:8080/",
          "height": 34
        },
        "outputId": "4047a54a-5f1d-4e88-d5b2-9fc0a39e1412"
      },
      "source": [
        "m.grad"
      ],
      "execution_count": 14,
      "outputs": [
        {
          "output_type": "execute_result",
          "data": {
            "text/plain": [
              "tensor([108.7800])"
            ]
          },
          "metadata": {
            "tags": []
          },
          "execution_count": 14
        }
      ]
    },
    {
      "cell_type": "markdown",
      "metadata": {
        "id": "EGK1NwomNd5B",
        "colab_type": "text"
      },
      "source": [
        "And the partial derivative of $C$ with respect to $b$ ($\\frac{\\partial C}{\\partial b}$) is: "
      ]
    },
    {
      "cell_type": "code",
      "metadata": {
        "id": "vIeBu-tINd5B",
        "colab_type": "code",
        "colab": {
          "base_uri": "https://localhost:8080/",
          "height": 34
        },
        "outputId": "e4284491-af08-47da-b474-7cc8fdc2dc49"
      },
      "source": [
        "b.grad"
      ],
      "execution_count": 15,
      "outputs": [
        {
          "output_type": "execute_result",
          "data": {
            "text/plain": [
              "tensor([15.5400])"
            ]
          },
          "metadata": {
            "tags": []
          },
          "execution_count": 15
        }
      ]
    },
    {
      "cell_type": "markdown",
      "metadata": {
        "id": "NK1tyH4WNd5E",
        "colab_type": "text"
      },
      "source": [
        "**Return to *Calculus II* slides here to derive $\\frac{\\partial C}{\\partial m}$ and $\\frac{\\partial C}{\\partial b}$.**"
      ]
    },
    {
      "cell_type": "markdown",
      "metadata": {
        "id": "wTgfR-wINd5F",
        "colab_type": "text"
      },
      "source": [
        "$$ \\frac{\\partial C}{\\partial m} = 2x(\\hat{y} - y) $$"
      ]
    },
    {
      "cell_type": "code",
      "metadata": {
        "id": "AKjWDa4QNd5F",
        "colab_type": "code",
        "colab": {
          "base_uri": "https://localhost:8080/",
          "height": 34
        },
        "outputId": "20a3ece6-9175-4243-8342-06ff4ee4604b"
      },
      "source": [
        "2*x*(yhat.item()-y)"
      ],
      "execution_count": 16,
      "outputs": [
        {
          "output_type": "execute_result",
          "data": {
            "text/plain": [
              "tensor(108.7800)"
            ]
          },
          "metadata": {
            "tags": []
          },
          "execution_count": 16
        }
      ]
    },
    {
      "cell_type": "markdown",
      "metadata": {
        "id": "yCV3zMIjNd5H",
        "colab_type": "text"
      },
      "source": [
        "$$ \\frac{\\partial C}{\\partial b} = 2(\\hat{y}-y) $$"
      ]
    },
    {
      "cell_type": "code",
      "metadata": {
        "id": "gNrOSpcONd5H",
        "colab_type": "code",
        "colab": {
          "base_uri": "https://localhost:8080/",
          "height": 34
        },
        "outputId": "77b60aa7-0443-4c29-ed6b-a29480f228c8"
      },
      "source": [
        "2*(yhat.item()-y)"
      ],
      "execution_count": 17,
      "outputs": [
        {
          "output_type": "execute_result",
          "data": {
            "text/plain": [
              "tensor(15.5400)"
            ]
          },
          "metadata": {
            "tags": []
          },
          "execution_count": 17
        }
      ]
    },
    {
      "cell_type": "markdown",
      "metadata": {
        "id": "zXor7Ev7Nd5J",
        "colab_type": "text"
      },
      "source": [
        "### The Gradient of Cost, $\\nabla C$"
      ]
    },
    {
      "cell_type": "markdown",
      "metadata": {
        "id": "XeII8EHQNd5K",
        "colab_type": "text"
      },
      "source": [
        "The gradient of cost, which is symbolized $\\nabla C$ (pronounced \"nabla C\"), is a vector of all the partial derivatives of $C$ with respect to each of the individual model parameters: "
      ]
    },
    {
      "cell_type": "markdown",
      "metadata": {
        "id": "kVnD7j3HNd5K",
        "colab_type": "text"
      },
      "source": [
        "$\\nabla C = \\nabla_p C = \\left[ \\frac{\\partial{C}}{\\partial{p_1}}, \\frac{\\partial{C}}{\\partial{p_2}}, \\cdots, \\frac{\\partial{C}}{\\partial{p_n}} \\right]^T $"
      ]
    },
    {
      "cell_type": "markdown",
      "metadata": {
        "id": "ILK7BRLJNd5K",
        "colab_type": "text"
      },
      "source": [
        "In this case, there are only two parameters, $m$ and $b$: "
      ]
    },
    {
      "cell_type": "markdown",
      "metadata": {
        "id": "5Yq3BQ3YNd5L",
        "colab_type": "text"
      },
      "source": [
        "$\\nabla C = \\left[ \\frac{\\partial{C}}{\\partial{m}}, \\frac{\\partial{C}}{\\partial{b}} \\right]^T $"
      ]
    },
    {
      "cell_type": "code",
      "metadata": {
        "id": "ZsZhOKFZNd5L",
        "colab_type": "code",
        "colab": {
          "base_uri": "https://localhost:8080/",
          "height": 34
        },
        "outputId": "9744133a-36f2-466c-be0b-71c7219d6398"
      },
      "source": [
        "nabla_C = torch.tensor([m.grad.item(), b.grad.item()]).T\n",
        "nabla_C"
      ],
      "execution_count": 18,
      "outputs": [
        {
          "output_type": "execute_result",
          "data": {
            "text/plain": [
              "tensor([108.7800,  15.5400])"
            ]
          },
          "metadata": {
            "tags": []
          },
          "execution_count": 18
        }
      ]
    },
    {
      "cell_type": "code",
      "metadata": {
        "id": "NfmP2AiyNd5N",
        "colab_type": "code",
        "colab": {}
      },
      "source": [
        ""
      ],
      "execution_count": 18,
      "outputs": []
    }
  ]
}