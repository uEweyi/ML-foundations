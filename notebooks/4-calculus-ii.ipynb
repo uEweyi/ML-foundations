{
  "nbformat": 4,
  "nbformat_minor": 0,
  "metadata": {
    "colab": {
      "name": "4-calculus-ii.ipynb",
      "provenance": []
    },
    "kernelspec": {
      "display_name": "Python 3",
      "language": "python",
      "name": "python3"
    },
    "language_info": {
      "codemirror_mode": {
        "name": "ipython",
        "version": 3
      },
      "file_extension": ".py",
      "mimetype": "text/x-python",
      "name": "python",
      "nbconvert_exporter": "python",
      "pygments_lexer": "ipython3",
      "version": "3.7.6"
    }
  },
  "cells": [
    {
      "cell_type": "markdown",
      "metadata": {
        "id": "MEsnrw0sDoeJ"
      },
      "source": [
        "<a href=\"https://colab.research.google.com/github/jonkrohn/ML-foundations/blob/master/notebooks/4-calculus-ii.ipynb\" target=\"_parent\"><img src=\"https://colab.research.google.com/assets/colab-badge.svg\" alt=\"Open In Colab\"/></a>"
      ]
    },
    {
      "cell_type": "markdown",
      "metadata": {
        "id": "aTOLgsbN69-P"
      },
      "source": [
        "# Calculus II: Partial Derivatives & Integrals"
      ]
    },
    {
      "cell_type": "markdown",
      "metadata": {
        "id": "yqUB9FTRAxd-"
      },
      "source": [
        "This class, *Calculus II: Partial Derivatives & Integrals*, builds on single-variable derivative calculus to introduce gradients and integral calculus. Gradients of learning, which are facilitated by partial-derivative calculus, are the basis of training most machine learning algorithms with data -- i.e., stochastic gradient descent (SGD). Paired with the principle of the chain rule (also covered in this class), SGD enables the backpropagation algorithm to train deep neural networks. \n",
        "\n",
        "Integral calculus, meanwhile, comes in handy for myriad tasks associated with machine learning, such as finding the area under the so-called “ROC curve” -- a prevailing metric for evaluating classification models. The content covered in this class is itself foundational for several other classes in the *Machine Learning Foundations* series, especially *Probability & Information Theory* and *Optimization*."
      ]
    },
    {
      "cell_type": "markdown",
      "metadata": {
        "id": "d4tBvI88BheF"
      },
      "source": [
        "Over the course of studying this topic, you'll: \n",
        "\n",
        "* Develop an understanding of what’s going on beneath the hood of machine learning algorithms, including those used for deep learning. \n",
        "* Be able to grasp the details of the partial-derivative, multivariate calculus that is common in machine learning papers as well as many in other subjects that underlie ML, including information theory and optimization algorithms. \n",
        "* Use integral calculus to determine the area under any given curve, a recurring task in ML applied, for example, to evaluate model performance by calculating the ROC AUC metric."
      ]
    },
    {
      "cell_type": "markdown",
      "metadata": {
        "id": "Z68nQ0ekCYhF"
      },
      "source": [
        "**Note that this Jupyter notebook is not intended to stand alone. It is the companion code to a lecture or to videos from Jon Krohn's [Machine Learning Foundations](https://github.com/jonkrohn/ML-foundations) series, which offer detail on the following:**\n",
        "\n",
        "*Segment 1: Review of Introductory Calculus*\n",
        "\n",
        "* The Delta Method\n",
        "* Differentiation with Rules\n",
        "* AutoDiff: Automatic Differentiation\n",
        "\n",
        "\n",
        "*Segment 2: Machine Learning Gradients*\n",
        "\n",
        "* Partial Derivatives of Multivariate Functions\n",
        "* The Partial-Derivative Chain Rule\n",
        "* Quadratic Cost\n",
        "* Gradients\n",
        "* Gradient Descent \n",
        "* Backpropagation \n",
        "* Higher-Order Partial Derivatives\n",
        "\n",
        "\n",
        "*Segment 3: Integrals*\n",
        "\n",
        "* Binary Classification\n",
        "* The Confusion Matrix\n",
        "* The Receiver-Operating Characteristic (ROC) Curve \n",
        "* Calculating Integrals Manually\n",
        "* Numeric Integration with Python\n",
        "* Finding the Area Under the ROC Curve\n",
        "* Resources for Further Study of Calculus\n"
      ]
    },
    {
      "cell_type": "markdown",
      "metadata": {
        "id": "qMomz4o6DoeT"
      },
      "source": [
        "## Segment 1: Review of Introductory Calculus"
      ]
    },
    {
      "cell_type": "markdown",
      "metadata": {
        "id": "yeOe0DrkDoeT"
      },
      "source": [
        "Refer to slides and [*Regression in PyTorch* notebook](https://github.com/jonkrohn/ML-foundations/blob/master/notebooks/regression-in-pytorch.ipynb)."
      ]
    },
    {
      "cell_type": "markdown",
      "metadata": {
        "id": "9v7wHzEaDoeT"
      },
      "source": [
        "## Segment 2: Gradients Applied to Machine Learning"
      ]
    },
    {
      "cell_type": "code",
      "metadata": {
        "id": "-09IzaDRDoeU"
      },
      "source": [
        "import numpy as np\n",
        "import matplotlib.pyplot as plt\n",
        "import torch\n",
        "import math # for constant pi"
      ],
      "execution_count": null,
      "outputs": []
    },
    {
      "cell_type": "markdown",
      "metadata": {
        "id": "gmonXg8-DoeV"
      },
      "source": [
        "### Partial Derivatives of Multivariate Functions"
      ]
    },
    {
      "cell_type": "markdown",
      "metadata": {
        "id": "jt2Fb7bmDoeV"
      },
      "source": [
        "Define a function $f(x, y)$ for $z = x^2 - y^2$: "
      ]
    },
    {
      "cell_type": "code",
      "metadata": {
        "id": "Xb_f6pUYDoeV"
      },
      "source": [
        "def f(my_x, my_y):\n",
        "    return my_x**2 - my_y**2"
      ],
      "execution_count": null,
      "outputs": []
    },
    {
      "cell_type": "markdown",
      "metadata": {
        "id": "2Yxx42_UDoeV"
      },
      "source": [
        "Plot $z$ with respect to $x$ by varying $x$... "
      ]
    },
    {
      "cell_type": "code",
      "metadata": {
        "id": "Toba6LVQDoeW"
      },
      "source": [
        "xs = np.linspace(-3, 3, 1000)"
      ],
      "execution_count": null,
      "outputs": []
    },
    {
      "cell_type": "markdown",
      "metadata": {
        "id": "Sazf_xu9DoeW"
      },
      "source": [
        "...while holding $y$ constant (e.g., at $y = 0$):"
      ]
    },
    {
      "cell_type": "code",
      "metadata": {
        "id": "9Z31rNZvDoeW"
      },
      "source": [
        "zs_wrt_x = f(xs, 0)"
      ],
      "execution_count": null,
      "outputs": []
    },
    {
      "cell_type": "code",
      "metadata": {
        "colab": {
          "base_uri": "https://localhost:8080/",
          "height": 265
        },
        "id": "qdZ6Rdr4DoeX",
        "outputId": "a32546a4-147a-4f05-de26-9a39c8b0ea25"
      },
      "source": [
        "fig, ax = plt.subplots()\n",
        "plt.axvline(x=0, color='lightgray')\n",
        "plt.axhline(y=0, color='lightgray')\n",
        "_ = ax.plot(xs, zs_wrt_x)"
      ],
      "execution_count": null,
      "outputs": [
        {
          "output_type": "display_data",
          "data": {
            "image/png": "[encoded data removed]",
            "text/plain": [
              "<Figure size 432x288 with 1 Axes>"
            ]
          },
          "metadata": {
            "tags": [],
            "needs_background": "light"
          }
        }
      ]
    },
    {
      "cell_type": "markdown",
      "metadata": {
        "id": "TctSbA-VDoeY"
      },
      "source": [
        "To determine the slope of $z$ w.r.t. $x$ at a given point along the curve, we can use the partial derivative from the slides: $$ \\frac{\\partial z}{\\partial x} = 2x$$"
      ]
    },
    {
      "cell_type": "code",
      "metadata": {
        "id": "WM2UTR4DDoeY"
      },
      "source": [
        "def delz_delx(my_x, my_y): # y isn't relevant for *this* partial derivative; it often would be\n",
        "    return 2*my_x"
      ],
      "execution_count": null,
      "outputs": []
    },
    {
      "cell_type": "code",
      "metadata": {
        "id": "NqarAEMODoeY"
      },
      "source": [
        "x_samples = [-2, -1, 0, 1, 2]"
      ],
      "execution_count": null,
      "outputs": []
    },
    {
      "cell_type": "code",
      "metadata": {
        "id": "ExzFLbjODoeY"
      },
      "source": [
        "colors = ['red', 'orange', 'green', 'blue', 'purple']"
      ],
      "execution_count": null,
      "outputs": []
    },
    {
      "cell_type": "code",
      "metadata": {
        "id": "rPeZ7Qf0DoeZ"
      },
      "source": [
        "def point_and_tangent_wrt_x(my_xs, my_x, my_y, my_f, fprime, col):\n",
        "\n",
        "    my_z = my_f(my_x, my_y) # z = f(x, y) \n",
        "    plt.scatter(my_x, my_z, c=col) \n",
        "    \n",
        "    tangent_m = fprime(my_x, my_y) # Slope is partial derivative of f(x, y) w.r.t. x\n",
        "    tangent_b = my_z - tangent_m*my_x # Line is z=mx+b, so b=z-mx\n",
        "    tangent_line = tangent_m*my_xs + tangent_b\n",
        "    \n",
        "    plt.plot(my_xs, tangent_line, c=col, linestyle='dashed', linewidth=0.7)"
      ],
      "execution_count": null,
      "outputs": []
    },
    {
      "cell_type": "code",
      "metadata": {
        "colab": {
          "base_uri": "https://localhost:8080/",
          "height": 265
        },
        "id": "e3O2HIInDoeZ",
        "outputId": "74e8c7e9-44b0-4704-cf78-c27d1987cef1"
      },
      "source": [
        "fig, ax = plt.subplots()\n",
        "plt.axvline(x=0, color='lightgray')\n",
        "plt.axhline(y=0, color='lightgray')\n",
        "\n",
        "for i, x in enumerate(x_samples):\n",
        "    point_and_tangent_wrt_x(xs, x, 0, f, delz_delx, colors[i])\n",
        "\n",
        "plt.ylim(-1, 9)\n",
        "_ = ax.plot(xs, zs_wrt_x)"
      ],
      "execution_count": null,
      "outputs": [
        {
          "output_type": "display_data",
          "data": {
            "image/png": "[encoded data removed]",
            "text/plain": [
              "<Figure size 432x288 with 1 Axes>"
            ]
          },
          "metadata": {
            "tags": [],
            "needs_background": "light"
          }
        }
      ]
    },
    {
      "cell_type": "markdown",
      "metadata": {
        "id": "a8IJZYZfDoeZ"
      },
      "source": [
        "Thereby demonstrating visually that, for every unit of $x$ away from 0, the slope of $z$ along the $x$ axis doubles."
      ]
    },
    {
      "cell_type": "markdown",
      "metadata": {
        "id": "3Vxr1W0IDoea"
      },
      "source": [
        "**Return to slides here.**"
      ]
    },
    {
      "cell_type": "markdown",
      "metadata": {
        "id": "ZEVnit5gDoea"
      },
      "source": [
        "Now let's plot $z$ with respect to $y$ by varying $y$..."
      ]
    },
    {
      "cell_type": "code",
      "metadata": {
        "id": "ZZF8285-Doea"
      },
      "source": [
        "ys = np.linspace(-3, 3, 1000)"
      ],
      "execution_count": null,
      "outputs": []
    },
    {
      "cell_type": "markdown",
      "metadata": {
        "id": "CSzx8uhLDoea"
      },
      "source": [
        "...while holding $x$ constant (e.g., at $x$ = 0): "
      ]
    },
    {
      "cell_type": "code",
      "metadata": {
        "id": "D7L4yZ1aDoeb"
      },
      "source": [
        "zs_wrt_y = f(0, ys)"
      ],
      "execution_count": null,
      "outputs": []
    },
    {
      "cell_type": "code",
      "metadata": {
        "colab": {
          "base_uri": "https://localhost:8080/",
          "height": 265
        },
        "id": "rGNORzJCDoeb",
        "outputId": "9d91d312-8927-4661-aa7c-ef856a19e17e"
      },
      "source": [
        "fig, ax = plt.subplots()\n",
        "plt.axvline(x=0, color='lightgray')\n",
        "plt.axhline(y=0, color='lightgray')\n",
        "_ = ax.plot(ys, zs_wrt_y)"
      ],
      "execution_count": null,
      "outputs": [
        {
          "output_type": "display_data",
          "data": {
            "image/png": "[encoded data removed]",
            "text/plain": [
              "<Figure size 432x288 with 1 Axes>"
            ]
          },
          "metadata": {
            "tags": [],
            "needs_background": "light"
          }
        }
      ]
    },
    {
      "cell_type": "markdown",
      "metadata": {
        "id": "yftPl60zDoeb"
      },
      "source": [
        "As in the slides, the partial derivative of $z$ w.r.t $y$ happens to be independent of $x$ (just as we observed $x$ is independent of $y$ above), so while $z$ varies as a function of both $x$ and $y$, the slope of $z$ w.r.t $y$ is the same no matter what $x$ is: $$ \\frac{\\partial z}{\\partial y} = -2y $$"
      ]
    },
    {
      "cell_type": "markdown",
      "metadata": {
        "id": "xX3gAdyWDoec"
      },
      "source": [
        "So for example, holding $x$ constant at 2 instead of 0 increases $z$, but has no impact whatsoever on the slope of $z$ w.r.t. $y$: "
      ]
    },
    {
      "cell_type": "code",
      "metadata": {
        "id": "sdaSBdlrDoec"
      },
      "source": [
        "zs_wrt_y = f(2, ys)"
      ],
      "execution_count": null,
      "outputs": []
    },
    {
      "cell_type": "code",
      "metadata": {
        "colab": {
          "base_uri": "https://localhost:8080/",
          "height": 265
        },
        "id": "5PW49KD7Doec",
        "outputId": "a77255f0-77a4-4e8d-8955-c762054f3e5d"
      },
      "source": [
        "fig, ax = plt.subplots()\n",
        "plt.axvline(x=0, color='lightgray')\n",
        "plt.axhline(y=0, color='lightgray')\n",
        "_ = ax.plot(ys, zs_wrt_y)"
      ],
      "execution_count": null,
      "outputs": [
        {
          "output_type": "display_data",
          "data": {
            "image/png": "[encoded data removed]",
            "text/plain": [
              "<Figure size 432x288 with 1 Axes>"
            ]
          },
          "metadata": {
            "tags": [],
            "needs_background": "light"
          }
        }
      ]
    },
    {
      "cell_type": "code",
      "metadata": {
        "id": "8vMax3uODoec"
      },
      "source": [
        "def delz_dely(my_x, my_y):\n",
        "    return -2*my_y"
      ],
      "execution_count": null,
      "outputs": []
    },
    {
      "cell_type": "code",
      "metadata": {
        "id": "pkQ4GQyBDoed"
      },
      "source": [
        "y_samples = [-2, -1, 0, 1, 2]"
      ],
      "execution_count": null,
      "outputs": []
    },
    {
      "cell_type": "code",
      "metadata": {
        "id": "YxsR448zDoed"
      },
      "source": [
        "def point_and_tangent_wrt_y(my_ys, my_x, my_y, my_f, fprime, col): # changed my_xs to my_ys\n",
        "\n",
        "    my_z = my_f(my_x, my_y) \n",
        "    plt.scatter(my_y, my_z, c=col) # changed my_x to my_y\n",
        "    \n",
        "    tangent_m = fprime(my_x, my_y) \n",
        "    tangent_b = my_z - tangent_m*my_y # changed my_x to my_y\n",
        "    tangent_line = tangent_m*my_ys + tangent_b # changed my_xs to my_ys\n",
        "    \n",
        "    plt.plot(my_ys, tangent_line, c=col, linestyle='dashed', linewidth=0.7) # changed my_xs to my_ys"
      ],
      "execution_count": null,
      "outputs": []
    },
    {
      "cell_type": "code",
      "metadata": {
        "colab": {
          "base_uri": "https://localhost:8080/",
          "height": 265
        },
        "id": "_8EXlci4Doed",
        "outputId": "c7a5810a-b9ba-4c11-c50f-d8f4200049f9"
      },
      "source": [
        "fig, ax = plt.subplots()\n",
        "plt.axvline(x=0, color='lightgray')\n",
        "plt.axhline(y=0, color='lightgray')\n",
        "for i, y in enumerate(y_samples):\n",
        "    point_and_tangent_wrt_y(ys, 2, y, f, delz_dely, colors[i])\n",
        "plt.ylim(-5, 5)\n",
        "_ = ax.plot(xs, zs_wrt_y)"
      ],
      "execution_count": null,
      "outputs": [
        {
          "output_type": "display_data",
          "data": {
            "image/png": "[encoded data removed]",
            "text/plain": [
              "<Figure size 432x288 with 1 Axes>"
            ]
          },
          "metadata": {
            "tags": [],
            "needs_background": "light"
          }
        }
      ]
    },
    {
      "cell_type": "markdown",
      "metadata": {
        "id": "W1zSUA87Doef"
      },
      "source": [
        "Thereby demonstrating visually that, for every unit of $y$ away from 0, the slope of $z$ along the $y$ axis doubles. Because of the inverse relationship between $z$ and $y$ ($ \\frac{\\partial z}{\\partial y} = -2y $), as $y$ increases $z$ decreases, resulting in the parabolic curve opening downward along the $y$ axis."
      ]
    },
    {
      "cell_type": "markdown",
      "metadata": {
        "id": "V7P12cWuDoef"
      },
      "source": [
        "**Exercises**: Use pencil and paper to determine: \n",
        "\n",
        "* The value of $z$,\n",
        "* The slope of $z$ with respect to $x$, \n",
        "* And the slope of $z$ with respect to $y$\n",
        "\n",
        "...at the points where: \n",
        "\n",
        "1. $x = 3, y = 0$\n",
        "2. $x = 2, y = 3$\n",
        "3. $x = -2, y = -3$"
      ]
    },
    {
      "cell_type": "markdown",
      "metadata": {
        "id": "IwiI0uisDoeg"
      },
      "source": [
        "Determining partial derivatives by hand using rules is helpful for understanding how calculus works. In practice, however, autodiff enables us to do so more easily (especially if there are a large number of variables). For example, let's use the PyTorch automatic differentiation library to calculate the slope of $z$ with respect to both $x$ and $y$ at any given point $(x, y, z)$:"
      ]
    },
    {
      "cell_type": "code",
      "metadata": {
        "colab": {
          "base_uri": "https://localhost:8080/"
        },
        "id": "SHeFsRfrDoeg",
        "outputId": "a6c75e9f-1dc0-466c-c8b2-4ca88c721d7a"
      },
      "source": [
        "x = torch.tensor(0.).requires_grad_() \n",
        "x"
      ],
      "execution_count": null,
      "outputs": [
        {
          "output_type": "execute_result",
          "data": {
            "text/plain": [
              "tensor(0., requires_grad=True)"
            ]
          },
          "metadata": {
            "tags": []
          },
          "execution_count": 20
        }
      ]
    },
    {
      "cell_type": "code",
      "metadata": {
        "colab": {
          "base_uri": "https://localhost:8080/"
        },
        "id": "WzWjTchwDoeg",
        "outputId": "7a4dc18d-185c-4c66-8dfb-86725a502d0d"
      },
      "source": [
        "y = torch.tensor(0.).requires_grad_() \n",
        "y"
      ],
      "execution_count": null,
      "outputs": [
        {
          "output_type": "execute_result",
          "data": {
            "text/plain": [
              "tensor(0., requires_grad=True)"
            ]
          },
          "metadata": {
            "tags": []
          },
          "execution_count": 21
        }
      ]
    },
    {
      "cell_type": "code",
      "metadata": {
        "colab": {
          "base_uri": "https://localhost:8080/"
        },
        "id": "B7TprOE-Doeh",
        "outputId": "861bd547-5ac3-4d5b-9a37-6a79886315df"
      },
      "source": [
        "z = f(x, y) # Forward pass\n",
        "z"
      ],
      "execution_count": null,
      "outputs": [
        {
          "output_type": "execute_result",
          "data": {
            "text/plain": [
              "tensor(0., grad_fn=<SubBackward0>)"
            ]
          },
          "metadata": {
            "tags": []
          },
          "execution_count": 22
        }
      ]
    },
    {
      "cell_type": "code",
      "metadata": {
        "id": "GyefZb67Doeh"
      },
      "source": [
        "z.backward() # Autodiff"
      ],
      "execution_count": null,
      "outputs": []
    },
    {
      "cell_type": "markdown",
      "metadata": {
        "id": "_L7fUeBfDoeh"
      },
      "source": [
        "As we already knew from our exercises above, the slope of the point (0, 0, 0) is zero with respect to both the $x$ and $y$ axes: "
      ]
    },
    {
      "cell_type": "code",
      "metadata": {
        "colab": {
          "base_uri": "https://localhost:8080/"
        },
        "id": "VCX2ngT9Doeh",
        "outputId": "648fdad6-5ca4-4e06-ae6c-d313fd1a99c1"
      },
      "source": [
        "x.grad"
      ],
      "execution_count": null,
      "outputs": [
        {
          "output_type": "execute_result",
          "data": {
            "text/plain": [
              "tensor(0.)"
            ]
          },
          "metadata": {
            "tags": []
          },
          "execution_count": 24
        }
      ]
    },
    {
      "cell_type": "code",
      "metadata": {
        "colab": {
          "base_uri": "https://localhost:8080/"
        },
        "id": "1DeU2IYODoei",
        "outputId": "fa40b95d-3541-4a48-d668-273ad9724624"
      },
      "source": [
        "y.grad"
      ],
      "execution_count": null,
      "outputs": [
        {
          "output_type": "execute_result",
          "data": {
            "text/plain": [
              "tensor(-0.)"
            ]
          },
          "metadata": {
            "tags": []
          },
          "execution_count": 25
        }
      ]
    },
    {
      "cell_type": "markdown",
      "metadata": {
        "id": "Eblx3YW6Doei"
      },
      "source": [
        "**Exercise**: Repeat the most recent pencil-and-paper exercises using PyTorch (or TensorFlow, if you prefer)."
      ]
    },
    {
      "cell_type": "markdown",
      "metadata": {
        "id": "LPxR9412Doei"
      },
      "source": [
        "**Return to slides here.**"
      ]
    },
    {
      "cell_type": "markdown",
      "metadata": {
        "id": "3NqDfYGeDoej"
      },
      "source": [
        "### Partial Derivatives of a Cylinder's Volume"
      ]
    },
    {
      "cell_type": "markdown",
      "metadata": {
        "id": "8zOAmeOnDoej"
      },
      "source": [
        "The volume of a cylinder is described by $v = \\pi r^2 l$ where: \n",
        "\n",
        "* $r$ is the radius of the cylinder\n",
        "* $l$ is its length"
      ]
    },
    {
      "cell_type": "code",
      "metadata": {
        "id": "Y345YQ2iDoej"
      },
      "source": [
        "def cylinder_vol(my_r, my_l):\n",
        "    return math.pi * my_r**2 * my_l"
      ],
      "execution_count": null,
      "outputs": []
    },
    {
      "cell_type": "code",
      "metadata": {
        "colab": {
          "base_uri": "https://localhost:8080/"
        },
        "id": "6eGolCTLDoej",
        "outputId": "445e9f6a-8e08-4972-d6fa-21356649ac7f"
      },
      "source": [
        "# Let's say the radius is 3 meters...\n",
        "r = torch.tensor(3.).requires_grad_()\n",
        "r"
      ],
      "execution_count": null,
      "outputs": [
        {
          "output_type": "execute_result",
          "data": {
            "text/plain": [
              "tensor(3., requires_grad=True)"
            ]
          },
          "metadata": {
            "tags": []
          },
          "execution_count": 27
        }
      ]
    },
    {
      "cell_type": "code",
      "metadata": {
        "colab": {
          "base_uri": "https://localhost:8080/"
        },
        "id": "sp3kUgQ6Doej",
        "outputId": "5ef601ce-de79-407b-ec50-2ef9782d94e8"
      },
      "source": [
        "# ...and length is 5 meters:\n",
        "l = torch.tensor(5.).requires_grad_()\n",
        "l"
      ],
      "execution_count": null,
      "outputs": [
        {
          "output_type": "execute_result",
          "data": {
            "text/plain": [
              "tensor(5., requires_grad=True)"
            ]
          },
          "metadata": {
            "tags": []
          },
          "execution_count": 28
        }
      ]
    },
    {
      "cell_type": "code",
      "metadata": {
        "colab": {
          "base_uri": "https://localhost:8080/"
        },
        "id": "5FBBkAM6Doek",
        "outputId": "933f483f-9abf-4e75-efef-f448e47f5c22"
      },
      "source": [
        "# Then the volume of the cylinder is 141.4 cubic meters: \n",
        "v = cylinder_vol(r, l)\n",
        "v"
      ],
      "execution_count": null,
      "outputs": [
        {
          "output_type": "execute_result",
          "data": {
            "text/plain": [
              "tensor(141.3717, grad_fn=<MulBackward0>)"
            ]
          },
          "metadata": {
            "tags": []
          },
          "execution_count": 29
        }
      ]
    },
    {
      "cell_type": "code",
      "metadata": {
        "id": "0iGlPQyjDoek"
      },
      "source": [
        "v.backward()"
      ],
      "execution_count": null,
      "outputs": []
    },
    {
      "cell_type": "code",
      "metadata": {
        "colab": {
          "base_uri": "https://localhost:8080/"
        },
        "id": "YvIA09YGDoek",
        "outputId": "f9d91ee6-0d33-49eb-8c39-09c286da60d9"
      },
      "source": [
        "l.grad"
      ],
      "execution_count": null,
      "outputs": [
        {
          "output_type": "execute_result",
          "data": {
            "text/plain": [
              "tensor(28.2743)"
            ]
          },
          "metadata": {
            "tags": []
          },
          "execution_count": 31
        }
      ]
    },
    {
      "cell_type": "markdown",
      "metadata": {
        "id": "TYD2k4J3Doel"
      },
      "source": [
        "As derived on the slides: $$\\frac{\\partial v}{\\partial l} = \\pi r^2$$"
      ]
    },
    {
      "cell_type": "code",
      "metadata": {
        "colab": {
          "base_uri": "https://localhost:8080/"
        },
        "id": "q6YRwpMvDoel",
        "outputId": "c6980045-2cc8-4118-ae81-ebef90b0db0a"
      },
      "source": [
        "math.pi * 3**2"
      ],
      "execution_count": null,
      "outputs": [
        {
          "output_type": "execute_result",
          "data": {
            "text/plain": [
              "28.274333882308138"
            ]
          },
          "metadata": {
            "tags": []
          },
          "execution_count": 32
        }
      ]
    },
    {
      "cell_type": "markdown",
      "metadata": {
        "id": "UavsjoQFDoel"
      },
      "source": [
        "This means that with $r = 3$, a change in $l$ by one unit corresponds to a change in $v$ of 28.27$\\text{m}^3$. We can prove this to ourselves: "
      ]
    },
    {
      "cell_type": "code",
      "metadata": {
        "colab": {
          "base_uri": "https://localhost:8080/"
        },
        "id": "H32PplygDoel",
        "outputId": "22745ad6-0060-4c99-dc85-7aba33d0056d"
      },
      "source": [
        "cylinder_vol(3, 6)"
      ],
      "execution_count": null,
      "outputs": [
        {
          "output_type": "execute_result",
          "data": {
            "text/plain": [
              "169.64600329384882"
            ]
          },
          "metadata": {
            "tags": []
          },
          "execution_count": 33
        }
      ]
    },
    {
      "cell_type": "code",
      "metadata": {
        "colab": {
          "base_uri": "https://localhost:8080/"
        },
        "id": "vmwxrip1Doem",
        "outputId": "d3fbb135-1cbc-4cfa-8b97-0abf78fe2eaa"
      },
      "source": [
        "cylinder_vol(3, 6) - cylinder_vol(3, 5)"
      ],
      "execution_count": null,
      "outputs": [
        {
          "output_type": "execute_result",
          "data": {
            "text/plain": [
              "28.274333882308127"
            ]
          },
          "metadata": {
            "tags": []
          },
          "execution_count": 34
        }
      ]
    },
    {
      "cell_type": "code",
      "metadata": {
        "colab": {
          "base_uri": "https://localhost:8080/"
        },
        "id": "wGuDzwwxDoem",
        "outputId": "872f2135-9dc9-4203-de49-d575f9972118"
      },
      "source": [
        "cylinder_vol(3, 7) - cylinder_vol(3, 6)"
      ],
      "execution_count": null,
      "outputs": [
        {
          "output_type": "execute_result",
          "data": {
            "text/plain": [
              "28.274333882308156"
            ]
          },
          "metadata": {
            "tags": []
          },
          "execution_count": 35
        }
      ]
    },
    {
      "cell_type": "markdown",
      "metadata": {
        "id": "aDJydipwDoel"
      },
      "source": [
        "**Return to slides here.**"
      ]
    },
    {
      "cell_type": "markdown",
      "metadata": {
        "id": "yC4GJ8iZDoem"
      },
      "source": [
        "For changes in $v$ with respect to $r$ we have the following from the slides: $$\\frac{\\partial v}{\\partial r} = 2 \\pi r l$$"
      ]
    },
    {
      "cell_type": "code",
      "metadata": {
        "colab": {
          "base_uri": "https://localhost:8080/"
        },
        "id": "cAVbIBiCDoen",
        "outputId": "54bac81c-fcb0-4e00-dae9-6e93beec4b8b"
      },
      "source": [
        "r.grad"
      ],
      "execution_count": null,
      "outputs": [
        {
          "output_type": "execute_result",
          "data": {
            "text/plain": [
              "tensor(94.2478)"
            ]
          },
          "metadata": {
            "tags": []
          },
          "execution_count": 36
        }
      ]
    },
    {
      "cell_type": "code",
      "metadata": {
        "colab": {
          "base_uri": "https://localhost:8080/"
        },
        "id": "UzHESN6XDoen",
        "outputId": "0bc97808-74a5-4094-f197-f83981c33efb"
      },
      "source": [
        "2 * math.pi * 3 * 5"
      ],
      "execution_count": null,
      "outputs": [
        {
          "output_type": "execute_result",
          "data": {
            "text/plain": [
              "94.24777960769379"
            ]
          },
          "metadata": {
            "tags": []
          },
          "execution_count": 37
        }
      ]
    },
    {
      "cell_type": "markdown",
      "metadata": {
        "id": "lWzx4YxuDoen"
      },
      "source": [
        "$r$ is included in the partial derivative so adjusting it affects the scale of its impact on $v$. Although it's our first example in this notebook, it is typical in calculus for the derivative only to apply at an infinitesimally small $\\Delta r$. The smaller the $\\Delta r$, the closer to the true $\\frac{\\partial v}{\\partial r}$. E.g., at $\\Delta r = 1 \\times 10^{-6}$:"
      ]
    },
    {
      "cell_type": "code",
      "metadata": {
        "id": "JN0waPUmDoen"
      },
      "source": [
        "delta = 1e-6"
      ],
      "execution_count": null,
      "outputs": []
    },
    {
      "cell_type": "code",
      "metadata": {
        "colab": {
          "base_uri": "https://localhost:8080/"
        },
        "id": "BCk5RPL8Doeo",
        "outputId": "35e61320-eaa1-4011-b6fe-8d863efe7436"
      },
      "source": [
        "(cylinder_vol(3 + delta, 5) - cylinder_vol(3, 5)) / delta # Dividing by delta restores scale"
      ],
      "execution_count": null,
      "outputs": [
        {
          "output_type": "execute_result",
          "data": {
            "text/plain": [
              "94.24779531741478"
            ]
          },
          "metadata": {
            "tags": []
          },
          "execution_count": 39
        }
      ]
    },
    {
      "cell_type": "markdown",
      "metadata": {
        "id": "v4U_lu-yDoeo"
      },
      "source": [
        "**Return to slides here.**"
      ]
    },
    {
      "cell_type": "markdown",
      "metadata": {
        "id": "3CKfShVZDoeo"
      },
      "source": [
        "### Gradients of Cost w.r.t. Model Parameters"
      ]
    },
    {
      "cell_type": "markdown",
      "metadata": {
        "id": "XbAlp7N3Doeo"
      },
      "source": [
        "See the standalone notebooks: \n",
        "\n",
        "* [Single-Point Regression Gradient](https://github.com/jonkrohn/ML-foundations/blob/master/notebooks/single-point-regression-gradient.ipynb)\n",
        "* [Batch Regression Gradient](https://github.com/jonkrohn/ML-foundations/blob/master/notebooks/batch-regression-gradient.ipynb)"
      ]
    },
    {
      "cell_type": "markdown",
      "metadata": {
        "id": "8GkxmPtUDoeo"
      },
      "source": [
        "## Segment 3: Integrals"
      ]
    },
    {
      "cell_type": "code",
      "metadata": {
        "id": "7RNXGSU_Doep"
      },
      "source": [
        "from scipy.integrate import quad # \"quadrature\" = numerical integration"
      ],
      "execution_count": null,
      "outputs": []
    },
    {
      "cell_type": "markdown",
      "metadata": {
        "id": "0gcCUd4QDoep"
      },
      "source": [
        "From the slides: $$ \\int_1^2 \\frac{x}{2} dx = \\frac{3}{4} $$"
      ]
    },
    {
      "cell_type": "code",
      "metadata": {
        "id": "lQSGdUlIDoep"
      },
      "source": [
        "def g(x):\n",
        "    return x/2"
      ],
      "execution_count": null,
      "outputs": []
    },
    {
      "cell_type": "code",
      "metadata": {
        "colab": {
          "base_uri": "https://localhost:8080/"
        },
        "id": "Ifu7x0iRDoep",
        "outputId": "428ac139-59d2-48eb-c6a7-66469409d288"
      },
      "source": [
        "quad(g, 1, 2) "
      ],
      "execution_count": null,
      "outputs": [
        {
          "output_type": "execute_result",
          "data": {
            "text/plain": [
              "(0.75, 8.326672684688674e-15)"
            ]
          },
          "metadata": {
            "tags": []
          },
          "execution_count": 42
        }
      ]
    },
    {
      "cell_type": "markdown",
      "metadata": {
        "id": "HfwAbtc5Doep"
      },
      "source": [
        "The second output of `quad` is an estimate of the absolute error of the integral, which in this case is essentially zero."
      ]
    },
    {
      "cell_type": "markdown",
      "metadata": {
        "id": "By-nY8jBDoeq"
      },
      "source": [
        "**Return to the slides here.**"
      ]
    },
    {
      "cell_type": "code",
      "metadata": {
        "id": "BXY-74QaDoeq"
      },
      "source": [
        "def h(x):\n",
        "    return 2*x"
      ],
      "execution_count": null,
      "outputs": []
    },
    {
      "cell_type": "code",
      "metadata": {
        "colab": {
          "base_uri": "https://localhost:8080/"
        },
        "id": "A26vlFzCDoeq",
        "outputId": "f0c5bb5a-7572-436c-e8b3-29e5c7bc1011"
      },
      "source": [
        "quad(h, 3, 4)"
      ],
      "execution_count": null,
      "outputs": [
        {
          "output_type": "execute_result",
          "data": {
            "text/plain": [
              "(7.0, 7.771561172376096e-14)"
            ]
          },
          "metadata": {
            "tags": []
          },
          "execution_count": 44
        }
      ]
    },
    {
      "cell_type": "markdown",
      "metadata": {
        "id": "AAmdDoskDoeq"
      },
      "source": [
        "### Area Under the ROC Curve"
      ]
    },
    {
      "cell_type": "markdown",
      "metadata": {
        "id": "j_wFvlHEDoeq"
      },
      "source": [
        "When we don't have a function but we do have $(x, y)$ coordinates, we can use the scikit-learn library's `auc()` method, which uses a numerical approach (the [trapezoidal rule](https://en.wikipedia.org/wiki/Trapezoidal_rule)) to find the area under the curve described by the coordinates: "
      ]
    },
    {
      "cell_type": "code",
      "metadata": {
        "id": "_X0uiqKLDoeq"
      },
      "source": [
        "from sklearn.metrics import auc"
      ],
      "execution_count": null,
      "outputs": []
    },
    {
      "cell_type": "markdown",
      "metadata": {
        "id": "XilqUs--Doer"
      },
      "source": [
        "From the slides, the $(x, y)$ coordinates of our hot dog-detecting ROC curve are: \n",
        "\n",
        "* (0, 0)\n",
        "* (0, 0.5)\n",
        "* (0.5, 0.5)\n",
        "* (0.5, 1)\n",
        "* (1, 1)"
      ]
    },
    {
      "cell_type": "code",
      "metadata": {
        "id": "yu9wg0aoDoer"
      },
      "source": [
        "xs = [0, 0,   0.5, 0.5, 1]\n",
        "ys = [0, 0.5, 0.5, 1,   1]"
      ],
      "execution_count": null,
      "outputs": []
    },
    {
      "cell_type": "code",
      "metadata": {
        "colab": {
          "base_uri": "https://localhost:8080/"
        },
        "id": "BwnqDGueDoer",
        "outputId": "c184572a-a1a6-4dc6-a723-09f996c7cbc2"
      },
      "source": [
        "auc(xs, ys)"
      ],
      "execution_count": null,
      "outputs": [
        {
          "output_type": "execute_result",
          "data": {
            "text/plain": [
              "0.75"
            ]
          },
          "metadata": {
            "tags": []
          },
          "execution_count": 47
        }
      ]
    },
    {
      "cell_type": "code",
      "metadata": {
        "id": "72d2J1PeDoer"
      },
      "source": [
        ""
      ],
      "execution_count": null,
      "outputs": []
    }
  ]
}