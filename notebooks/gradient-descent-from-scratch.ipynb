{
 "cells": [
  {
   "cell_type": "markdown",
   "metadata": {
    "colab_type": "text",
    "id": "view-in-github"
   },
   "source": [
    "<a href=\"https://colab.research.google.com/github/jonkrohn/ML-foundations/blob/master/notebooks/gradient-descent-from-scratch.ipynb\" target=\"_parent\"><img src=\"https://colab.research.google.com/assets/colab-badge.svg\" alt=\"Open In Colab\"/></a>"
   ]
  },
  {
   "cell_type": "markdown",
   "metadata": {
    "colab_type": "text",
    "id": "w1eOuVn9NGmF"
   },
   "source": [
    "# Gradient Descent from Scratch"
   ]
  },
  {
   "cell_type": "markdown",
   "metadata": {
    "colab_type": "text",
    "id": "Y_KkT6RFNGmG"
   },
   "source": [
    "This notebook is similar to the [*Batch Regression Gradient* notebook](https://github.com/jonkrohn/ML-foundations/blob/master/notebooks/batch-regression-gradient.ipynb) with the critical exception that we optimize via gradient descent without relying on the built-in PyTorch `SGD()` optimizer. "
   ]
  },
  {
   "cell_type": "code",
   "execution_count": 1,
   "metadata": {
    "colab": {},
    "colab_type": "code",
    "id": "ZjicYQ5zNGmG"
   },
   "outputs": [],
   "source": [
    "import torch\n",
    "import matplotlib.pyplot as plt"
   ]
  },
  {
   "cell_type": "code",
   "execution_count": 2,
   "metadata": {
    "colab": {},
    "colab_type": "code",
    "id": "rIaLtIj9NGmK"
   },
   "outputs": [],
   "source": [
    "xs = torch.tensor([0, 1, 2, 3, 4, 5, 6, 7.])\n",
    "ys = torch.tensor([1.86, 1.31, .62, .33, .09, -.67, -1.23, -1.37])"
   ]
  },
  {
   "cell_type": "code",
   "execution_count": 3,
   "metadata": {
    "colab": {},
    "colab_type": "code",
    "id": "dpwZa7ezNGmN"
   },
   "outputs": [],
   "source": [
    "def regression(my_x, my_m, my_b):\n",
    "    return my_x*my_m + my_b"
   ]
  },
  {
   "cell_type": "code",
   "execution_count": 4,
   "metadata": {
    "colab": {},
    "colab_type": "code",
    "id": "_HYqkV5_NGmP"
   },
   "outputs": [],
   "source": [
    "m = torch.tensor([0.9]).requires_grad_()\n",
    "b = torch.tensor([0.1]).requires_grad_()"
   ]
  },
  {
   "cell_type": "markdown",
   "metadata": {
    "colab_type": "text",
    "id": "gM5qQwd_NGmS"
   },
   "source": [
    "**Step 1**: Forward pass"
   ]
  },
  {
   "cell_type": "code",
   "execution_count": 5,
   "metadata": {
    "colab": {
     "base_uri": "https://localhost:8080/",
     "height": 51
    },
    "colab_type": "code",
    "id": "8IRq0BEENGmS",
    "outputId": "8da80f85-d98c-412c-a388-57ba28cb0fd3"
   },
   "outputs": [
    {
     "data": {
      "text/plain": [
       "tensor([0.1000, 1.0000, 1.9000, 2.8000, 3.7000, 4.6000, 5.5000, 6.4000],\n",
       "       grad_fn=<AddBackward0>)"
      ]
     },
     "execution_count": 5,
     "metadata": {},
     "output_type": "execute_result"
    }
   ],
   "source": [
    "yhats = regression(xs, m, b)\n",
    "yhats"
   ]
  },
  {
   "cell_type": "markdown",
   "metadata": {
    "colab_type": "text",
    "id": "MA8FiSK5NGmV"
   },
   "source": [
    "**Step 2**: Compare $\\hat{y}$ with true $y$ to calculate cost $C$"
   ]
  },
  {
   "cell_type": "markdown",
   "metadata": {
    "colab_type": "text",
    "id": "VIUzVfyIiFZ4"
   },
   "source": [
    "Mean squared error: $$C = \\frac{1}{n} \\sum_{i=1}^n (\\hat{y_i}-y_i)^2 $$"
   ]
  },
  {
   "cell_type": "code",
   "execution_count": 6,
   "metadata": {
    "colab": {},
    "colab_type": "code",
    "id": "KXhJySbJNGmW"
   },
   "outputs": [],
   "source": [
    "def mse(my_yhat, my_y): \n",
    "    sigma = torch.sum((my_yhat - my_y)**2)\n",
    "    return sigma/len(my_y)"
   ]
  },
  {
   "cell_type": "code",
   "execution_count": 7,
   "metadata": {
    "colab": {
     "base_uri": "https://localhost:8080/",
     "height": 34
    },
    "colab_type": "code",
    "id": "JusNX1J4NGmZ",
    "outputId": "bf5b8dbe-4155-4e8e-c114-273d5a2b310c"
   },
   "outputs": [
    {
     "data": {
      "text/plain": [
       "tensor(19.6755, grad_fn=<DivBackward0>)"
      ]
     },
     "execution_count": 7,
     "metadata": {},
     "output_type": "execute_result"
    }
   ],
   "source": [
    "C = mse(yhats, ys)\n",
    "C"
   ]
  },
  {
   "cell_type": "markdown",
   "metadata": {
    "colab_type": "text",
    "id": "ZDlyFxhFNGmb"
   },
   "source": [
    "**Step 3**: Use autodiff to calculate gradient of $C$ w.r.t. parameters"
   ]
  },
  {
   "cell_type": "code",
   "execution_count": 8,
   "metadata": {
    "colab": {},
    "colab_type": "code",
    "id": "1awywt0FNGmb"
   },
   "outputs": [],
   "source": [
    "C.backward()"
   ]
  },
  {
   "cell_type": "code",
   "execution_count": 9,
   "metadata": {
    "colab": {
     "base_uri": "https://localhost:8080/",
     "height": 34
    },
    "colab_type": "code",
    "id": "q8J1h-BsNGmd",
    "outputId": "82042a7e-e0da-47d6-8b08-a74117922b6a"
   },
   "outputs": [
    {
     "data": {
      "text/plain": [
       "tensor([36.3050])"
      ]
     },
     "execution_count": 9,
     "metadata": {},
     "output_type": "execute_result"
    }
   ],
   "source": [
    "m.grad"
   ]
  },
  {
   "cell_type": "code",
   "execution_count": 10,
   "metadata": {
    "colab": {
     "base_uri": "https://localhost:8080/",
     "height": 34
    },
    "colab_type": "code",
    "id": "1QVgiEt3NGmf",
    "outputId": "6141f778-3c46-47a8-b3ca-bcf38d0f2202"
   },
   "outputs": [
    {
     "data": {
      "text/plain": [
       "tensor([6.2650])"
      ]
     },
     "execution_count": 10,
     "metadata": {},
     "output_type": "execute_result"
    }
   ],
   "source": [
    "b.grad"
   ]
  },
  {
   "cell_type": "markdown",
   "metadata": {
    "colab_type": "text",
    "id": "ymYCctQhNGmh"
   },
   "source": [
    "Using partial derivatives derived in [*Calculus II*](https://github.com/jonkrohn/ML-foundations/blob/master/notebooks/4-calculus-ii.ipynb), we could calculate these slopes without automatic numerical computation:"
   ]
  },
  {
   "cell_type": "markdown",
   "metadata": {
    "colab_type": "text",
    "id": "Jki72o15NGmi"
   },
   "source": [
    "$$ \\frac{\\partial C}{\\partial m} = \\frac{2}{n} \\sum (\\hat{y}_i - y_i) \\cdot x_i $$"
   ]
  },
  {
   "cell_type": "code",
   "execution_count": 11,
   "metadata": {
    "colab": {
     "base_uri": "https://localhost:8080/",
     "height": 34
    },
    "colab_type": "code",
    "id": "E3Nfrc2LNGmi",
    "outputId": "c2ecc248-2cdf-47b4-f895-afb600cd3adb"
   },
   "outputs": [
    {
     "data": {
      "text/plain": [
       "tensor(36.3050, grad_fn=<MulBackward0>)"
      ]
     },
     "execution_count": 11,
     "metadata": {},
     "output_type": "execute_result"
    }
   ],
   "source": [
    "2*1/len(ys)*torch.sum((yhats - ys)*xs)"
   ]
  },
  {
   "cell_type": "markdown",
   "metadata": {
    "colab_type": "text",
    "id": "wuHlavWcNGmk"
   },
   "source": [
    "$$ \\frac{\\partial C}{\\partial b} = \\frac{2}{n} \\sum (\\hat{y}_i - y_i) $$"
   ]
  },
  {
   "cell_type": "code",
   "execution_count": 12,
   "metadata": {
    "colab": {
     "base_uri": "https://localhost:8080/",
     "height": 34
    },
    "colab_type": "code",
    "id": "55hFPIYqNGmk",
    "outputId": "cf72c453-aedb-4a54-8cb9-7621216610b9"
   },
   "outputs": [
    {
     "data": {
      "text/plain": [
       "tensor(6.2650, grad_fn=<MulBackward0>)"
      ]
     },
     "execution_count": 12,
     "metadata": {},
     "output_type": "execute_result"
    }
   ],
   "source": [
    "2*1/len(ys)*torch.sum(yhats - ys)"
   ]
  },
  {
   "cell_type": "markdown",
   "metadata": {
    "colab_type": "text",
    "id": "Y_Rgoj4eNGmn"
   },
   "source": [
    "The gradient of cost, $\\nabla C$, is: "
   ]
  },
  {
   "cell_type": "code",
   "execution_count": 14,
   "metadata": {
    "colab": {
     "base_uri": "https://localhost:8080/",
     "height": 34
    },
    "colab_type": "code",
    "id": "1t69ayvtNGmn",
    "outputId": "aa98ebf6-a9a7-449e-c802-d49ca5fa7bce"
   },
   "outputs": [
    {
     "data": {
      "text/plain": [
       "tensor([[36.3050],\n",
       "        [ 6.2650]])"
      ]
     },
     "execution_count": 14,
     "metadata": {},
     "output_type": "execute_result"
    }
   ],
   "source": [
    "nabla_C = torch.tensor([[m.grad.item(), b.grad.item()]]).T\n",
    "nabla_C"
   ]
  },
  {
   "cell_type": "markdown",
   "metadata": {},
   "source": [
    "...though for simplicity in later code, we will work with `m` and `b` independently, outside of $\\nabla C$."
   ]
  },
  {
   "cell_type": "markdown",
   "metadata": {
    "colab_type": "text",
    "id": "lOeN-r0jNGmp"
   },
   "source": [
    "Let's visualize the most pertinent metrics in a single plot: "
   ]
  },
  {
   "cell_type": "code",
   "execution_count": 15,
   "metadata": {
    "colab": {},
    "colab_type": "code",
    "id": "Ha6l7NFyNGmp"
   },
   "outputs": [],
   "source": [
    "def labeled_regression_plot(my_x, my_y, my_m, my_b, my_C, include_grad=True):\n",
    "    \n",
    "    title = 'Cost = {}'.format('%.3g' % my_C.item())\n",
    "    if include_grad:\n",
    "        xlabel = 'm = {}, m grad = {}'.format('%.3g' % my_m.item(), '%.3g' % my_m.grad.item())\n",
    "        ylabel = 'b = {}, b grad = {}'.format('%.3g' % my_b.item(), '%.3g' % my_b.grad.item())\n",
    "    else:\n",
    "        xlabel = 'm = {}'.format('%.3g' % my_m.item())        \n",
    "        ylabel = 'b = {}'.format('%.3g' % my_b.item())\n",
    "    \n",
    "    fig, ax = plt.subplots()\n",
    "    \n",
    "    plt.title(title)\n",
    "    plt.ylabel(ylabel)\n",
    "    plt.xlabel(xlabel)\n",
    "\n",
    "    ax.scatter(my_x, my_y)\n",
    "    \n",
    "    x_min, x_max = ax.get_xlim()\n",
    "    y_min, y_max = my_m*x_min + my_b, my_m*x_max + my_b\n",
    "\n",
    "    ax.set_xlim([x_min, x_max])\n",
    "    _ = ax.plot([x_min, x_max], [y_min, y_max])"
   ]
  },
  {
   "cell_type": "code",
   "execution_count": 16,
   "metadata": {
    "colab": {
     "base_uri": "https://localhost:8080/",
     "height": 295
    },
    "colab_type": "code",
    "id": "CMQLV5gdNGmr",
    "outputId": "384a5f23-d173-42c8-b206-572b7ba441f2"
   },
   "outputs": [
    {
     "data": {
      "image/png": "[encoded data removed]",
      "text/plain": [
       "<Figure size 432x288 with 1 Axes>"
      ]
     },
     "metadata": {
      "needs_background": "light"
     },
     "output_type": "display_data"
    }
   ],
   "source": [
    "labeled_regression_plot(xs, ys, m, b, C)"
   ]
  },
  {
   "cell_type": "markdown",
   "metadata": {
    "colab_type": "text",
    "id": "Qv9b6XhbNGmt"
   },
   "source": [
    "**Step 4**: Gradient descent"
   ]
  },
  {
   "cell_type": "markdown",
   "metadata": {
    "colab_type": "text",
    "id": "ZafX4G7TNGmt"
   },
   "source": [
    "$\\frac{\\partial C}{\\partial m} = 36.3$ indicates that an increase in $m$ corresponds to a large increase in $C$. \n",
    "\n",
    "Meanwhile, $\\frac{\\partial C}{\\partial b} = 6.26$ indicates that an increase in $b$ also corresponds to an increase in $C$, though much less so than $m$.\n",
    "\n",
    "In the first round of training, the lowest hanging fruit with respect to reducing cost $C$ is therefore to decrease the slope of the regression line, $m$. There will also be a relatively small decrease in the $y$-intercept of the line, $b$. "
   ]
  },
  {
   "cell_type": "code",
   "execution_count": null,
   "metadata": {
    "colab": {},
    "colab_type": "code",
    "id": "f2LMBXARNGmu"
   },
   "outputs": [],
   "source": [
    "optimizer = torch.optim.SGD([m, b], lr=0.01)"
   ]
  },
  {
   "cell_type": "code",
   "execution_count": null,
   "metadata": {
    "colab": {},
    "colab_type": "code",
    "id": "je7T1wxKNGmw"
   },
   "outputs": [],
   "source": [
    "optimizer.step()"
   ]
  },
  {
   "cell_type": "code",
   "execution_count": null,
   "metadata": {
    "colab": {},
    "colab_type": "code",
    "id": "fz6J95xcNGmy"
   },
   "outputs": [],
   "source": [
    "C = mse(regression(xs, m, b), ys)"
   ]
  },
  {
   "cell_type": "code",
   "execution_count": null,
   "metadata": {
    "colab": {
     "base_uri": "https://localhost:8080/",
     "height": 295
    },
    "colab_type": "code",
    "id": "BGFSG151NGm1",
    "outputId": "d80e5bee-d477-4abb-82a4-e22ee042619d"
   },
   "outputs": [],
   "source": [
    "labeled_regression_plot(xs, ys, m, b, C, include_grad=False) # Gradient of C hasn't been recalculated"
   ]
  },
  {
   "cell_type": "markdown",
   "metadata": {
    "colab_type": "text",
    "id": "xdbwrKZRNGm3"
   },
   "source": [
    "### Rinse and Repeat"
   ]
  },
  {
   "cell_type": "markdown",
   "metadata": {
    "colab_type": "text",
    "id": "EhbOcYJXNGm3"
   },
   "source": [
    "Observe further rounds of training: "
   ]
  },
  {
   "cell_type": "code",
   "execution_count": null,
   "metadata": {
    "colab": {
     "base_uri": "https://localhost:8080/",
     "height": 1000
    },
    "colab_type": "code",
    "id": "uDs2YfGxNGm4",
    "outputId": "1b160cf9-d542-483f-edce-b86b40430967"
   },
   "outputs": [],
   "source": [
    "epochs = 8\n",
    "for epoch in range(epochs): \n",
    "    \n",
    "    optimizer.zero_grad() # Reset gradients to zero; else they accumulate\n",
    "    \n",
    "    yhats = regression(xs, m, b) # Step 1\n",
    "    C = mse(yhats, ys) # Step 2\n",
    "    \n",
    "    C.backward() # Step 3\n",
    "    \n",
    "    labeled_regression_plot(xs, ys, m, b, C)\n",
    "    \n",
    "    optimizer.step() # Step 4"
   ]
  },
  {
   "cell_type": "markdown",
   "metadata": {
    "colab_type": "text",
    "id": "epN8T_IoNGm5"
   },
   "source": [
    "In later rounds of training, after the model's slope $m$ has become closer to the slope represented by the data, $\\frac{\\partial C}{\\partial b}$ becomes negative, indicating an inverse relationship between $b$ and $C$. Meanwhile, $\\frac{\\partial C}{\\partial m}$ remains positive. \n",
    "\n",
    "This combination directs gradient descent to simultaneously adjust the $y$-intercept $b$ upwards and the slope $m$ downwards in order to reduce cost $C$ and, ultimately, fit the regression line snugly to the data. "
   ]
  },
  {
   "cell_type": "code",
   "execution_count": null,
   "metadata": {
    "colab": {},
    "colab_type": "code",
    "id": "rGXnGBKtNGm6"
   },
   "outputs": [],
   "source": []
  }
 ],
 "metadata": {
  "colab": {
   "include_colab_link": true,
   "name": "batch-regression-gradient.ipynb",
   "provenance": []
  },
  "kernelspec": {
   "display_name": "Python 3",
   "language": "python",
   "name": "python3"
  },
  "language_info": {
   "codemirror_mode": {
    "name": "ipython",
    "version": 3
   },
   "file_extension": ".py",
   "mimetype": "text/x-python",
   "name": "python",
   "nbconvert_exporter": "python",
   "pygments_lexer": "ipython3",
   "version": "3.7.6"
  }
 },
 "nbformat": 4,
 "nbformat_minor": 1
}
