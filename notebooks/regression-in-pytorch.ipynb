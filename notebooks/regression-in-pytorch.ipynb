{
  "nbformat": 4,
  "nbformat_minor": 0,
  "metadata": {
    "kernelspec": {
      "display_name": "Python 3",
      "language": "python",
      "name": "python3"
    },
    "language_info": {
      "codemirror_mode": {
        "name": "ipython",
        "version": 3
      },
      "file_extension": ".py",
      "mimetype": "text/x-python",
      "name": "python",
      "nbconvert_exporter": "python",
      "pygments_lexer": "ipython3",
      "version": "3.7.6"
    },
    "colab": {
      "name": "regression-in-pytorch.ipynb",
      "provenance": [],
      "include_colab_link": true
    }
  },
  "cells": [
    {
      "cell_type": "markdown",
      "metadata": {
        "id": "view-in-github",
        "colab_type": "text"
      },
      "source": [
        "<a href=\"https://colab.research.google.com/github/jonkrohn/ML-foundations/blob/master/notebooks/regression-in-pytorch.ipynb\" target=\"_parent\"><img src=\"https://colab.research.google.com/assets/colab-badge.svg\" alt=\"Open In Colab\"/></a>"
      ]
    },
    {
      "cell_type": "markdown",
      "metadata": {
        "id": "oIX4xnrwiFZX",
        "colab_type": "text"
      },
      "source": [
        "### Regression in PyTorch"
      ]
    },
    {
      "cell_type": "markdown",
      "metadata": {
        "id": "XZJhl8MciFZY",
        "colab_type": "text"
      },
      "source": [
        "Let's use the PyTorch **automatic differentiation** library to solve the regression problem that we used the Moore-Penrose Pseudoinverse to solve in the [*Machine Learning Foundations: Linear Algebra II: Matrix Operations* notebook](http://127.0.0.1:8888/notebooks/work/notebooks/2-linear-algebra-ii.ipynb)."
      ]
    },
    {
      "cell_type": "code",
      "metadata": {
        "id": "2qPThFdBiFZZ",
        "colab_type": "code",
        "colab": {}
      },
      "source": [
        "import numpy as np\n",
        "import matplotlib.pyplot as plt\n",
        "import torch"
      ],
      "execution_count": 0,
      "outputs": []
    },
    {
      "cell_type": "markdown",
      "metadata": {
        "id": "FuEiZfPjiFZc",
        "colab_type": "text"
      },
      "source": [
        "As in *Linear Algebra II*, in machine learning the convention is that each row represents an instance: "
      ]
    },
    {
      "cell_type": "code",
      "metadata": {
        "id": "8mgdhO3liFZc",
        "colab_type": "code",
        "colab": {}
      },
      "source": [
        "x = np.array([0, 1, 2, 3, 4, 5, 6, 7.]).reshape(-1, 1)"
      ],
      "execution_count": 0,
      "outputs": []
    },
    {
      "cell_type": "code",
      "metadata": {
        "id": "DofwzCGQiFZf",
        "colab_type": "code",
        "colab": {},
        "outputId": "52f556dd-92fd-4ced-b1b0-69d719ebef61"
      },
      "source": [
        "x"
      ],
      "execution_count": 0,
      "outputs": [
        {
          "output_type": "execute_result",
          "data": {
            "text/plain": [
              "array([[0.],\n",
              "       [1.],\n",
              "       [2.],\n",
              "       [3.],\n",
              "       [4.],\n",
              "       [5.],\n",
              "       [6.],\n",
              "       [7.]])"
            ]
          },
          "metadata": {
            "tags": []
          },
          "execution_count": 3
        }
      ]
    },
    {
      "cell_type": "markdown",
      "metadata": {
        "id": "kbPWO45yiFZi",
        "colab_type": "text"
      },
      "source": [
        "The $y$ values were created using the equation of a line $y = mx + b$. This way, we know what the model parameters to be learned are, say, $m = -0.5$ and $b = 2$. Random, normally-distributed noise has been added to simulate sampling error: "
      ]
    },
    {
      "cell_type": "code",
      "metadata": {
        "id": "bgX3z1loiFZi",
        "colab_type": "code",
        "colab": {}
      },
      "source": [
        "# y = -0.5*x + 2 + np.random.normal(scale=0.2, size=8).reshape(-1,1)\n",
        "# For reproducibility, here's a fixed example of y values from running the line above: \n",
        "y = np.array([1.86, 1.31, .62, .33, .09, -.67, -1.23, -1.37]).reshape(-1, 1)"
      ],
      "execution_count": 0,
      "outputs": []
    },
    {
      "cell_type": "code",
      "metadata": {
        "id": "cid67y8JiFZl",
        "colab_type": "code",
        "colab": {},
        "outputId": "e336b7c0-7259-4502-9e1e-8bf15416896d"
      },
      "source": [
        "y"
      ],
      "execution_count": 0,
      "outputs": [
        {
          "output_type": "execute_result",
          "data": {
            "text/plain": [
              "array([[ 1.86],\n",
              "       [ 1.31],\n",
              "       [ 0.62],\n",
              "       [ 0.33],\n",
              "       [ 0.09],\n",
              "       [-0.67],\n",
              "       [-1.23],\n",
              "       [-1.37]])"
            ]
          },
          "metadata": {
            "tags": []
          },
          "execution_count": 5
        }
      ]
    },
    {
      "cell_type": "code",
      "metadata": {
        "id": "IJrepmyAiFZn",
        "colab_type": "code",
        "colab": {},
        "outputId": "b919e4b4-0991-44d7-c7f1-9c87e982f5bd"
      },
      "source": [
        "fig, ax = plt.subplots()\n",
        "_ = ax.scatter(x, y)"
      ],
      "execution_count": 0,
      "outputs": [
        {
          "output_type": "display_data",
          "data": {
            "image/png": "[encoded data removed]",
            "text/plain": [
              "<Figure size 432x288 with 1 Axes>"
            ]
          },
          "metadata": {
            "tags": [],
            "needs_background": "light"
          }
        }
      ]
    },
    {
      "cell_type": "markdown",
      "metadata": {
        "id": "HdmFKwZ9iFZp",
        "colab_type": "text"
      },
      "source": [
        "`nn.Linear` applies the transformation $y = xW^T + b$ where $W$ is a matrix of weights and $b$ is a vector of biases. In this example, there is only a single weight and a single bias ($y$-intercept) value because of how we've constrained the number of inputs ($x$) and outputs ($y$) to `linear` both to `1`:"
      ]
    },
    {
      "cell_type": "code",
      "metadata": {
        "id": "9tbLtyLCiFZq",
        "colab_type": "code",
        "colab": {}
      },
      "source": [
        "class LinearRegression(torch.nn.Module):\n",
        "    \n",
        "    # Superclassing of new Module is standard in PyTorch\n",
        "    def __init__(self): \n",
        "        super(LinearRegression, self).__init__() \n",
        "        self.linear = torch.nn.Linear(1, 1)\n",
        "    \n",
        "    # Define the forward pass: \n",
        "    def forward(self, my_x):\n",
        "        my_y = self.linear(my_x)\n",
        "        return my_y"
      ],
      "execution_count": 0,
      "outputs": []
    },
    {
      "cell_type": "code",
      "metadata": {
        "id": "Lve31ZJkiFZs",
        "colab_type": "code",
        "colab": {}
      },
      "source": [
        "model = LinearRegression()"
      ],
      "execution_count": 0,
      "outputs": []
    },
    {
      "cell_type": "markdown",
      "metadata": {
        "id": "BtzBSOJJiFZu",
        "colab_type": "text"
      },
      "source": [
        "Our model will learn to approximate $m$, the slope between $x$ and $y$: "
      ]
    },
    {
      "cell_type": "code",
      "metadata": {
        "id": "M6_ifHLciFZv",
        "colab_type": "code",
        "colab": {},
        "outputId": "0201aa1b-0d02-4348-8db8-5fc1a2ab68d8"
      },
      "source": [
        "m = model.linear.weight # For strong example, could be fixed to 0.9\n",
        "m"
      ],
      "execution_count": 0,
      "outputs": [
        {
          "output_type": "execute_result",
          "data": {
            "text/plain": [
              "Parameter containing:\n",
              "tensor([[0.9784]], requires_grad=True)"
            ]
          },
          "metadata": {
            "tags": []
          },
          "execution_count": 9
        }
      ]
    },
    {
      "cell_type": "markdown",
      "metadata": {
        "id": "4t--PT3PiFZx",
        "colab_type": "text"
      },
      "source": [
        "...same goes for the $y$-intercept $b$: "
      ]
    },
    {
      "cell_type": "code",
      "metadata": {
        "id": "C8O-tdUFiFZx",
        "colab_type": "code",
        "colab": {},
        "outputId": "eed87f94-095e-4431-ceb7-22b1a9e49abb"
      },
      "source": [
        "b = model.linear.bias # Likewise, could be fixed to 0.1\n",
        "b"
      ],
      "execution_count": 0,
      "outputs": [
        {
          "output_type": "execute_result",
          "data": {
            "text/plain": [
              "Parameter containing:\n",
              "tensor([0.0250], requires_grad=True)"
            ]
          },
          "metadata": {
            "tags": []
          },
          "execution_count": 10
        }
      ]
    },
    {
      "cell_type": "markdown",
      "metadata": {
        "id": "dOY5qqXNiFZz",
        "colab_type": "text"
      },
      "source": [
        "Prior to training, the model has a random slope $m$ and random intercept $b$: "
      ]
    },
    {
      "cell_type": "code",
      "metadata": {
        "id": "uyCchic9iFZ0",
        "colab_type": "code",
        "colab": {}
      },
      "source": [
        "def regression_plot(my_x, my_y, my_m, my_b):\n",
        "    \n",
        "    fig, ax = plt.subplots()\n",
        "\n",
        "    ax.scatter(my_x, my_y)\n",
        "    x_min, x_max = ax.get_xlim()\n",
        "    y_min, y_max = my_b, my_b + my_m*(x_max-x_min)\n",
        "\n",
        "    ax.plot([x_min, x_max], [y_min, y_max])\n",
        "    _ = ax.set_xlim([x_min, x_max])"
      ],
      "execution_count": 0,
      "outputs": []
    },
    {
      "cell_type": "code",
      "metadata": {
        "id": "4Si2JEpTiFZ2",
        "colab_type": "code",
        "colab": {},
        "outputId": "a0efbf84-132b-4e11-c276-d10b634508ea"
      },
      "source": [
        "regression_plot(x, y, m, b)"
      ],
      "execution_count": 0,
      "outputs": [
        {
          "output_type": "display_data",
          "data": {
            "image/png": "[encoded data removed]",
            "text/plain": [
              "<Figure size 432x288 with 1 Axes>"
            ]
          },
          "metadata": {
            "tags": [],
            "needs_background": "light"
          }
        }
      ]
    },
    {
      "cell_type": "markdown",
      "metadata": {
        "id": "VIUzVfyIiFZ4",
        "colab_type": "text"
      },
      "source": [
        "There is a PyTorch `MSELoss` method, but let's define it outselves to see how it works. MSE cost $C$ is defined by: $$C = \\frac{1}{n} \\sum_{i=1}^n (\\hat{y_i}-y_i)^2 $$"
      ]
    },
    {
      "cell_type": "code",
      "metadata": {
        "id": "dD0v9Z3diFZ4",
        "colab_type": "code",
        "colab": {}
      },
      "source": [
        "def mse_cost(my_yhat, my_y): \n",
        "    sigma = torch.sum((my_yhat - my_y)**2)\n",
        "    return sigma/len(my_y)"
      ],
      "execution_count": 0,
      "outputs": []
    },
    {
      "cell_type": "code",
      "metadata": {
        "id": "TWNcQAq5iFZ6",
        "colab_type": "code",
        "colab": {}
      },
      "source": [
        "optimizer = torch.optim.SGD(model.parameters(), lr=0.05)"
      ],
      "execution_count": 0,
      "outputs": []
    },
    {
      "cell_type": "code",
      "metadata": {
        "id": "1RnUlDY1iFZ8",
        "colab_type": "code",
        "colab": {}
      },
      "source": [
        "x_pt = torch.from_numpy(x).float()"
      ],
      "execution_count": 0,
      "outputs": []
    },
    {
      "cell_type": "code",
      "metadata": {
        "id": "7sm7tb6WiFZ-",
        "colab_type": "code",
        "colab": {},
        "outputId": "0fcf09ba-cfa1-4dca-ddcf-480185d77c87"
      },
      "source": [
        "x_pt"
      ],
      "execution_count": 0,
      "outputs": [
        {
          "output_type": "execute_result",
          "data": {
            "text/plain": [
              "tensor([[0.],\n",
              "        [1.],\n",
              "        [2.],\n",
              "        [3.],\n",
              "        [4.],\n",
              "        [5.],\n",
              "        [6.],\n",
              "        [7.]])"
            ]
          },
          "metadata": {
            "tags": []
          },
          "execution_count": 16
        }
      ]
    },
    {
      "cell_type": "code",
      "metadata": {
        "id": "pfiR0hIMiFaA",
        "colab_type": "code",
        "colab": {},
        "outputId": "a2638aaf-2e9e-469d-ea3c-003e1ed0be94"
      },
      "source": [
        "x_pt.requires_grad_()"
      ],
      "execution_count": 0,
      "outputs": [
        {
          "output_type": "execute_result",
          "data": {
            "text/plain": [
              "tensor([[0.],\n",
              "        [1.],\n",
              "        [2.],\n",
              "        [3.],\n",
              "        [4.],\n",
              "        [5.],\n",
              "        [6.],\n",
              "        [7.]], requires_grad=True)"
            ]
          },
          "metadata": {
            "tags": []
          },
          "execution_count": 17
        }
      ]
    },
    {
      "cell_type": "markdown",
      "metadata": {
        "id": "XYaiOLxoiFaC",
        "colab_type": "text"
      },
      "source": [
        "Forward pass:"
      ]
    },
    {
      "cell_type": "code",
      "metadata": {
        "id": "n_VrWVpXiFaC",
        "colab_type": "code",
        "colab": {}
      },
      "source": [
        "yhat = model(x_pt) "
      ],
      "execution_count": 0,
      "outputs": []
    },
    {
      "cell_type": "code",
      "metadata": {
        "id": "tptevhiviFaE",
        "colab_type": "code",
        "colab": {},
        "outputId": "d27ce3b5-676c-422b-c341-23efd655e04a"
      },
      "source": [
        "yhat"
      ],
      "execution_count": 0,
      "outputs": [
        {
          "output_type": "execute_result",
          "data": {
            "text/plain": [
              "tensor([[0.0250],\n",
              "        [1.0034],\n",
              "        [1.9818],\n",
              "        [2.9602],\n",
              "        [3.9386],\n",
              "        [4.9170],\n",
              "        [5.8953],\n",
              "        [6.8737]], grad_fn=<AddmmBackward>)"
            ]
          },
          "metadata": {
            "tags": []
          },
          "execution_count": 19
        }
      ]
    },
    {
      "cell_type": "code",
      "metadata": {
        "id": "hQtTHRYdiFaG",
        "colab_type": "code",
        "colab": {}
      },
      "source": [
        "y_pt = torch.from_numpy(y).float()"
      ],
      "execution_count": 0,
      "outputs": []
    },
    {
      "cell_type": "code",
      "metadata": {
        "id": "aBbvgA98iFaI",
        "colab_type": "code",
        "colab": {},
        "outputId": "9643e865-97e0-4b94-9d5e-ba26749d1d5a"
      },
      "source": [
        "cost = mse_cost(yhat, y_pt)\n",
        "cost"
      ],
      "execution_count": 0,
      "outputs": [
        {
          "output_type": "execute_result",
          "data": {
            "text/plain": [
              "tensor(22.1236, grad_fn=<DivBackward0>)"
            ]
          },
          "metadata": {
            "tags": []
          },
          "execution_count": 21
        }
      ]
    },
    {
      "cell_type": "markdown",
      "metadata": {
        "id": "qZhkiBy9iFaK",
        "colab_type": "text"
      },
      "source": [
        "Chain rule to differentiate with respect to model parameters:"
      ]
    },
    {
      "cell_type": "code",
      "metadata": {
        "id": "CnRCv_t_iFaK",
        "colab_type": "code",
        "colab": {}
      },
      "source": [
        "cost.backward() "
      ],
      "execution_count": 0,
      "outputs": []
    },
    {
      "cell_type": "code",
      "metadata": {
        "id": "gEnNRi9LiFaM",
        "colab_type": "code",
        "colab": {},
        "outputId": "a5d9d2c2-6b35-42a8-d472-34352010a65a"
      },
      "source": [
        "model.linear.weight.grad"
      ],
      "execution_count": 0,
      "outputs": [
        {
          "output_type": "execute_result",
          "data": {
            "text/plain": [
              "tensor([[38.5237]])"
            ]
          },
          "metadata": {
            "tags": []
          },
          "execution_count": 23
        }
      ]
    },
    {
      "cell_type": "code",
      "metadata": {
        "id": "tc7Egw_giFaO",
        "colab_type": "code",
        "colab": {},
        "outputId": "4b9c1f78-0e21-4f75-dcd0-01e65a092c5d"
      },
      "source": [
        "model.linear.bias.grad"
      ],
      "execution_count": 0,
      "outputs": [
        {
          "output_type": "execute_result",
          "data": {
            "text/plain": [
              "tensor([6.6637])"
            ]
          },
          "metadata": {
            "tags": []
          },
          "execution_count": 24
        }
      ]
    },
    {
      "cell_type": "markdown",
      "metadata": {
        "id": "YXQyFrqjiFaQ",
        "colab_type": "text"
      },
      "source": [
        "Use differentiation results to adjust model parameters in direction of lower cost: "
      ]
    },
    {
      "cell_type": "code",
      "metadata": {
        "id": "2tQ6xuxAiFaQ",
        "colab_type": "code",
        "colab": {}
      },
      "source": [
        "optimizer.step()"
      ],
      "execution_count": 0,
      "outputs": []
    },
    {
      "cell_type": "code",
      "metadata": {
        "id": "Wu35zW2riFaS",
        "colab_type": "code",
        "colab": {},
        "outputId": "f67a8e4c-99c1-4181-a578-ccd7fbc82f2d"
      },
      "source": [
        "yhat = model(x_pt)\n",
        "cost = mse_cost(yhat, y_pt)\n",
        "cost"
      ],
      "execution_count": 0,
      "outputs": [
        {
          "output_type": "execute_result",
          "data": {
            "text/plain": [
              "tensor(15.2313, grad_fn=<DivBackward0>)"
            ]
          },
          "metadata": {
            "tags": []
          },
          "execution_count": 26
        }
      ]
    },
    {
      "cell_type": "markdown",
      "metadata": {
        "id": "zlvGIBNNiFaT",
        "colab_type": "text"
      },
      "source": [
        "After a round of training, the model fits better, although it isn't always easy to tell by eye: "
      ]
    },
    {
      "cell_type": "code",
      "metadata": {
        "id": "ODrFhyV5iFaT",
        "colab_type": "code",
        "colab": {},
        "outputId": "03a34b21-7920-4be5-eed1-d72c500c7229"
      },
      "source": [
        "regression_plot(x, y, model.linear.weight, model.linear.bias)"
      ],
      "execution_count": 0,
      "outputs": [
        {
          "output_type": "display_data",
          "data": {
            "image/png": "[encoded data removed]",
            "text/plain": [
              "<Figure size 432x288 with 1 Axes>"
            ]
          },
          "metadata": {
            "tags": [],
            "needs_background": "light"
          }
        }
      ]
    },
    {
      "cell_type": "code",
      "metadata": {
        "id": "-QjD1kgUiFaV",
        "colab_type": "code",
        "colab": {},
        "outputId": "1463b424-1f73-439d-b857-893a9598f6a7"
      },
      "source": [
        "epochs = 100\n",
        "for epoch in range(epochs):\n",
        "    \n",
        "    optimizer.zero_grad() # Reset gradients to zero; else they accumulate\n",
        "    \n",
        "    yhat = model(x_pt) \n",
        "    cost = mse_cost(yhat, y_pt) \n",
        "    \n",
        "    cost.backward() \n",
        "    optimizer.step()\n",
        "    \n",
        "    print('Epoch {}, cost {}, grad of m {}, grad of b {}'.format(epoch, '%.3g' % cost.item(), '%.3g' % model.linear.weight.grad.item(), '%.3g' % model.linear.bias.grad.item()))"
      ],
      "execution_count": 0,
      "outputs": [
        {
          "output_type": "stream",
          "text": [
            "Epoch 0, cost 15.2, grad of m -31.2, grad of b -7.49\n",
            "Epoch 1, cost 10.6, grad of m 26, grad of b 4.19\n",
            "Epoch 2, cost 7.4, grad of m -21, grad of b -5.34\n",
            "Epoch 3, cost 5.26, grad of m 17.6, grad of b 2.54\n",
            "Epoch 4, cost 3.79, grad of m -14.1, grad of b -3.88\n",
            "Epoch 5, cost 2.79, grad of m 11.9, grad of b 1.45\n",
            "Epoch 6, cost 2.11, grad of m -9.46, grad of b -2.88\n",
            "Epoch 7, cost 1.63, grad of m 8.1, grad of b 0.721\n",
            "Epoch 8, cost 1.3, grad of m -6.33, grad of b -2.19\n",
            "Epoch 9, cost 1.06, grad of m 5.51, grad of b 0.247\n",
            "Epoch 10, cost 0.893, grad of m -4.22, grad of b -1.71\n",
            "Epoch 11, cost 0.77, grad of m 3.76, grad of b -0.0588\n",
            "Epoch 12, cost 0.677, grad of m -2.8, grad of b -1.37\n",
            "Epoch 13, cost 0.606, grad of m 2.58, grad of b -0.252\n",
            "Epoch 14, cost 0.55, grad of m -1.85, grad of b -1.13\n",
            "Epoch 15, cost 0.505, grad of m 1.78, grad of b -0.371\n",
            "Epoch 16, cost 0.467, grad of m -1.21, grad of b -0.957\n",
            "Epoch 17, cost 0.435, grad of m 1.24, grad of b -0.439\n",
            "Epoch 18, cost 0.406, grad of m -0.775, grad of b -0.829\n",
            "Epoch 19, cost 0.381, grad of m 0.872, grad of b -0.475\n",
            "Epoch 20, cost 0.359, grad of m -0.488, grad of b -0.732\n",
            "Epoch 21, cost 0.338, grad of m 0.622, grad of b -0.488\n",
            "Epoch 22, cost 0.319, grad of m -0.296, grad of b -0.657\n",
            "Epoch 23, cost 0.301, grad of m 0.452, grad of b -0.488\n",
            "Epoch 24, cost 0.285, grad of m -0.168, grad of b -0.597\n",
            "Epoch 25, cost 0.269, grad of m 0.335, grad of b -0.479\n",
            "Epoch 26, cost 0.255, grad of m -0.0837, grad of b -0.548\n",
            "Epoch 27, cost 0.241, grad of m 0.255, grad of b -0.464\n",
            "Epoch 28, cost 0.229, grad of m -0.0286, grad of b -0.507\n",
            "Epoch 29, cost 0.217, grad of m 0.199, grad of b -0.446\n",
            "Epoch 30, cost 0.205, grad of m 0.00703, grad of b -0.471\n",
            "Epoch 31, cost 0.195, grad of m 0.16, grad of b -0.426\n",
            "Epoch 32, cost 0.185, grad of m 0.0295, grad of b -0.44\n",
            "Epoch 33, cost 0.175, grad of m 0.132, grad of b -0.406\n",
            "Epoch 34, cost 0.167, grad of m 0.0433, grad of b -0.412\n",
            "Epoch 35, cost 0.158, grad of m 0.112, grad of b -0.386\n",
            "Epoch 36, cost 0.15, grad of m 0.0513, grad of b -0.386\n",
            "Epoch 37, cost 0.143, grad of m 0.0966, grad of b -0.365\n",
            "Epoch 38, cost 0.136, grad of m 0.0554, grad of b -0.363\n",
            "Epoch 39, cost 0.129, grad of m 0.0854, grad of b -0.346\n",
            "Epoch 40, cost 0.123, grad of m 0.057, grad of b -0.341\n",
            "Epoch 41, cost 0.117, grad of m 0.0766, grad of b -0.327\n",
            "Epoch 42, cost 0.112, grad of m 0.0569, grad of b -0.321\n",
            "Epoch 43, cost 0.106, grad of m 0.0697, grad of b -0.309\n",
            "Epoch 44, cost 0.101, grad of m 0.0559, grad of b -0.302\n",
            "Epoch 45, cost 0.0968, grad of m 0.0639, grad of b -0.292\n",
            "Epoch 46, cost 0.0924, grad of m 0.0541, grad of b -0.285\n",
            "Epoch 47, cost 0.0882, grad of m 0.0591, grad of b -0.275\n",
            "Epoch 48, cost 0.0843, grad of m 0.052, grad of b -0.268\n",
            "Epoch 49, cost 0.0806, grad of m 0.0549, grad of b -0.26\n",
            "Epoch 50, cost 0.0772, grad of m 0.0497, grad of b -0.253\n",
            "Epoch 51, cost 0.0739, grad of m 0.0513, grad of b -0.245\n",
            "Epoch 52, cost 0.0708, grad of m 0.0474, grad of b -0.239\n",
            "Epoch 53, cost 0.0679, grad of m 0.048, grad of b -0.231\n",
            "Epoch 54, cost 0.0651, grad of m 0.045, grad of b -0.225\n",
            "Epoch 55, cost 0.0625, grad of m 0.045, grad of b -0.218\n",
            "Epoch 56, cost 0.0601, grad of m 0.0426, grad of b -0.212\n",
            "Epoch 57, cost 0.0578, grad of m 0.0423, grad of b -0.206\n",
            "Epoch 58, cost 0.0556, grad of m 0.0403, grad of b -0.2\n",
            "Epoch 59, cost 0.0535, grad of m 0.0398, grad of b -0.194\n",
            "Epoch 60, cost 0.0516, grad of m 0.0381, grad of b -0.189\n",
            "Epoch 61, cost 0.0498, grad of m 0.0374, grad of b -0.183\n",
            "Epoch 62, cost 0.0481, grad of m 0.036, grad of b -0.178\n",
            "Epoch 63, cost 0.0464, grad of m 0.0353, grad of b -0.173\n",
            "Epoch 64, cost 0.0449, grad of m 0.034, grad of b -0.168\n",
            "Epoch 65, cost 0.0435, grad of m 0.0332, grad of b -0.163\n",
            "Epoch 66, cost 0.0421, grad of m 0.0321, grad of b -0.158\n",
            "Epoch 67, cost 0.0408, grad of m 0.0313, grad of b -0.154\n",
            "Epoch 68, cost 0.0396, grad of m 0.0303, grad of b -0.149\n",
            "Epoch 69, cost 0.0385, grad of m 0.0295, grad of b -0.145\n",
            "Epoch 70, cost 0.0374, grad of m 0.0286, grad of b -0.141\n",
            "Epoch 71, cost 0.0364, grad of m 0.0278, grad of b -0.137\n",
            "Epoch 72, cost 0.0354, grad of m 0.027, grad of b -0.133\n",
            "Epoch 73, cost 0.0345, grad of m 0.0262, grad of b -0.129\n",
            "Epoch 74, cost 0.0336, grad of m 0.0255, grad of b -0.125\n",
            "Epoch 75, cost 0.0328, grad of m 0.0248, grad of b -0.122\n",
            "Epoch 76, cost 0.0321, grad of m 0.024, grad of b -0.118\n",
            "Epoch 77, cost 0.0314, grad of m 0.0233, grad of b -0.115\n",
            "Epoch 78, cost 0.0307, grad of m 0.0227, grad of b -0.111\n",
            "Epoch 79, cost 0.03, grad of m 0.022, grad of b -0.108\n",
            "Epoch 80, cost 0.0294, grad of m 0.0214, grad of b -0.105\n",
            "Epoch 81, cost 0.0289, grad of m 0.0208, grad of b -0.102\n",
            "Epoch 82, cost 0.0283, grad of m 0.0202, grad of b -0.0991\n",
            "Epoch 83, cost 0.0278, grad of m 0.0196, grad of b -0.0963\n",
            "Epoch 84, cost 0.0274, grad of m 0.019, grad of b -0.0935\n",
            "Epoch 85, cost 0.0269, grad of m 0.0185, grad of b -0.0908\n",
            "Epoch 86, cost 0.0265, grad of m 0.0179, grad of b -0.0882\n",
            "Epoch 87, cost 0.0261, grad of m 0.0174, grad of b -0.0856\n",
            "Epoch 88, cost 0.0257, grad of m 0.0169, grad of b -0.0832\n",
            "Epoch 89, cost 0.0254, grad of m 0.0164, grad of b -0.0808\n",
            "Epoch 90, cost 0.025, grad of m 0.016, grad of b -0.0784\n",
            "Epoch 91, cost 0.0247, grad of m 0.0155, grad of b -0.0762\n",
            "Epoch 92, cost 0.0244, grad of m 0.015, grad of b -0.074\n",
            "Epoch 93, cost 0.0241, grad of m 0.0146, grad of b -0.0719\n",
            "Epoch 94, cost 0.0239, grad of m 0.0142, grad of b -0.0698\n",
            "Epoch 95, cost 0.0236, grad of m 0.0138, grad of b -0.0678\n",
            "Epoch 96, cost 0.0234, grad of m 0.0134, grad of b -0.0658\n",
            "Epoch 97, cost 0.0232, grad of m 0.013, grad of b -0.0639\n",
            "Epoch 98, cost 0.0229, grad of m 0.0126, grad of b -0.0621\n",
            "Epoch 99, cost 0.0227, grad of m 0.0123, grad of b -0.0603\n"
          ],
          "name": "stdout"
        }
      ]
    },
    {
      "cell_type": "code",
      "metadata": {
        "id": "j0tQEN-ziFaX",
        "colab_type": "code",
        "colab": {},
        "outputId": "72ace0d4-74b1-41c9-d556-ed1147983df2"
      },
      "source": [
        "regression_plot(x, y, model.linear.weight, model.linear.bias)"
      ],
      "execution_count": 0,
      "outputs": [
        {
          "output_type": "display_data",
          "data": {
            "image/png": "[encoded data removed]",
            "text/plain": [
              "<Figure size 432x288 with 1 Axes>"
            ]
          },
          "metadata": {
            "tags": [],
            "needs_background": "light"
          }
        }
      ]
    },
    {
      "cell_type": "code",
      "metadata": {
        "id": "haaGTg7SiFaZ",
        "colab_type": "code",
        "colab": {}
      },
      "source": [
        ""
      ],
      "execution_count": 0,
      "outputs": []
    }
  ]
}