{
 "cells": [
  {
   "cell_type": "markdown",
   "metadata": {
    "colab_type": "text",
    "id": "view-in-github"
   },
   "source": [
    "<a href=\"https://colab.research.google.com/github/jonkrohn/ML-foundations/blob/master/notebooks/regression-in-pytorch.ipynb\" target=\"_parent\"><img src=\"https://colab.research.google.com/assets/colab-badge.svg\" alt=\"Open In Colab\"/></a>"
   ]
  },
  {
   "cell_type": "markdown",
   "metadata": {
    "colab_type": "text",
    "id": "oIX4xnrwiFZX"
   },
   "source": [
    "# Regression in PyTorch"
   ]
  },
  {
   "cell_type": "markdown",
   "metadata": {
    "colab_type": "text",
    "id": "XZJhl8MciFZY"
   },
   "source": [
    "In this notebook, we use the PyTorch **automatic differentiation** library to fit a straight line to data points. Thus, here we use calculus to solve the same regression problem that we used the Moore-Penrose Pseudoinverse to solve in the [*Linear Algebra II* notebook](https://github.com/jonkrohn/ML-foundations/blob/master/notebooks/2-linear-algebra-ii.ipynb)."
   ]
  },
  {
   "cell_type": "code",
   "execution_count": 1,
   "metadata": {},
   "outputs": [],
   "source": [
    "import torch\n",
    "import matplotlib.pyplot as plt"
   ]
  },
  {
   "cell_type": "code",
   "execution_count": 2,
   "metadata": {},
   "outputs": [],
   "source": [
    "x = torch.tensor([0, 1, 2, 3, 4, 5, 6, 7.])"
   ]
  },
  {
   "cell_type": "markdown",
   "metadata": {
    "colab_type": "text",
    "id": "kbPWO45yiFZi"
   },
   "source": [
    "The $y$ values were created using the equation of a line $y = mx + b$. This way, we know what the model parameters to be learned are, say, $m = -0.5$ and $b = 2$. Random, normally-distributed noise has been added to simulate sampling error: "
   ]
  },
  {
   "cell_type": "code",
   "execution_count": 3,
   "metadata": {},
   "outputs": [
    {
     "data": {
      "text/plain": [
       "tensor([ 1.8600,  1.3100,  0.6200,  0.3300,  0.0900, -0.6700, -1.2300, -1.3700])"
      ]
     },
     "execution_count": 3,
     "metadata": {},
     "output_type": "execute_result"
    }
   ],
   "source": [
    "# y = -0.5*x + 2 + np.random.normal(scale=0.2, size=8).reshape(-1,1)\n",
    "## For reproducibility, here's a fixed example of y values obtained by \n",
    "## running the commented-out line above (N.B. you'd need 'import numpy as np'):\n",
    "y = torch.tensor([1.86, 1.31, .62, .33, .09, -.67, -1.23, -1.37])\n",
    "y"
   ]
  },
  {
   "cell_type": "code",
   "execution_count": 4,
   "metadata": {},
   "outputs": [
    {
     "data": {
      "image/png": "[encoded data removed]",
      "text/plain": [
       "<Figure size 432x288 with 1 Axes>"
      ]
     },
     "metadata": {
      "needs_background": "light"
     },
     "output_type": "display_data"
    }
   ],
   "source": [
    "fig, ax = plt.subplots()\n",
    "_ = ax.scatter(x, y)"
   ]
  },
  {
   "cell_type": "markdown",
   "metadata": {},
   "source": [
    "Initialize the slope parameter $m$ with a \"random\" value of 0.9..."
   ]
  },
  {
   "cell_type": "code",
   "execution_count": 5,
   "metadata": {},
   "outputs": [
    {
     "data": {
      "text/plain": [
       "tensor([0.9000], requires_grad=True)"
      ]
     },
     "execution_count": 5,
     "metadata": {},
     "output_type": "execute_result"
    }
   ],
   "source": [
    "m = torch.tensor([0.9]).requires_grad_()\n",
    "m"
   ]
  },
  {
   "cell_type": "markdown",
   "metadata": {},
   "source": [
    "...and do the same for the $y$-intercept parameter $b$: "
   ]
  },
  {
   "cell_type": "code",
   "execution_count": 6,
   "metadata": {},
   "outputs": [
    {
     "data": {
      "text/plain": [
       "tensor([0.1000], requires_grad=True)"
      ]
     },
     "execution_count": 6,
     "metadata": {},
     "output_type": "execute_result"
    }
   ],
   "source": [
    "b = torch.tensor([0.1]).requires_grad_()\n",
    "b"
   ]
  },
  {
   "cell_type": "code",
   "execution_count": 7,
   "metadata": {},
   "outputs": [],
   "source": [
    "def regression_plot(my_x, my_y, my_m, my_b):\n",
    "    \n",
    "    fig, ax = plt.subplots()\n",
    "\n",
    "    ax.scatter(my_x, my_y)\n",
    "    x_min, x_max = ax.get_xlim()\n",
    "    y_min, y_max = my_b, my_b + my_m*(x_max-x_min)\n",
    "\n",
    "    ax.plot([x_min, x_max], [y_min, y_max])\n",
    "    _ = ax.set_xlim([x_min, x_max])"
   ]
  },
  {
   "cell_type": "code",
   "execution_count": 8,
   "metadata": {},
   "outputs": [
    {
     "data": {
      "image/png": "[encoded data removed]",
      "text/plain": [
       "<Figure size 432x288 with 1 Axes>"
      ]
     },
     "metadata": {
      "needs_background": "light"
     },
     "output_type": "display_data"
    }
   ],
   "source": [
    "regression_plot(x, y, m, b)"
   ]
  },
  {
   "cell_type": "code",
   "execution_count": 9,
   "metadata": {},
   "outputs": [],
   "source": [
    "def regression(my_x, my_m, my_b):\n",
    "    return my_x*my_m + my_b"
   ]
  },
  {
   "cell_type": "markdown",
   "metadata": {},
   "source": [
    "**Return to slides here if following *Calculus I* class.**"
   ]
  },
  {
   "cell_type": "markdown",
   "metadata": {},
   "source": [
    "### Machine Learning\n",
    "In four easy steps :)"
   ]
  },
  {
   "cell_type": "markdown",
   "metadata": {},
   "source": [
    "**Step 1**: Forward pass"
   ]
  },
  {
   "cell_type": "code",
   "execution_count": 10,
   "metadata": {},
   "outputs": [
    {
     "data": {
      "text/plain": [
       "tensor([0.1000, 1.0000, 1.9000, 2.8000, 3.7000, 4.6000, 5.5000, 6.4000],\n",
       "       grad_fn=<AddBackward0>)"
      ]
     },
     "execution_count": 10,
     "metadata": {},
     "output_type": "execute_result"
    }
   ],
   "source": [
    "yhat = regression(x, m, b)\n",
    "yhat"
   ]
  },
  {
   "cell_type": "markdown",
   "metadata": {},
   "source": [
    "**Step 2**: Compare $\\hat{y}$ with true $y$ to calculate cost $C$."
   ]
  },
  {
   "cell_type": "markdown",
   "metadata": {
    "colab_type": "text",
    "id": "VIUzVfyIiFZ4"
   },
   "source": [
    "There is a PyTorch `MSELoss` method, but let's define it outselves to see how it works. MSE cost is defined by: $$C = \\frac{1}{n} \\sum_{i=1}^n (\\hat{y_i}-y_i)^2 $$"
   ]
  },
  {
   "cell_type": "code",
   "execution_count": 11,
   "metadata": {},
   "outputs": [],
   "source": [
    "def mse_cost(my_yhat, my_y): \n",
    "    sigma = torch.sum((my_yhat - my_y)**2)\n",
    "    return sigma/len(my_y)"
   ]
  },
  {
   "cell_type": "code",
   "execution_count": 12,
   "metadata": {},
   "outputs": [
    {
     "data": {
      "text/plain": [
       "tensor(19.6755, grad_fn=<DivBackward0>)"
      ]
     },
     "execution_count": 12,
     "metadata": {},
     "output_type": "execute_result"
    }
   ],
   "source": [
    "C = mse_cost(yhat, y)\n",
    "C"
   ]
  },
  {
   "cell_type": "markdown",
   "metadata": {},
   "source": [
    "**Step 3**: Use autodiff to calculate gradients of $C$ w.r.t. parameters"
   ]
  },
  {
   "cell_type": "code",
   "execution_count": 13,
   "metadata": {},
   "outputs": [],
   "source": [
    "C.backward()"
   ]
  },
  {
   "cell_type": "code",
   "execution_count": 14,
   "metadata": {},
   "outputs": [
    {
     "data": {
      "text/plain": [
       "tensor([36.3050])"
      ]
     },
     "execution_count": 14,
     "metadata": {},
     "output_type": "execute_result"
    }
   ],
   "source": [
    "m.grad"
   ]
  },
  {
   "cell_type": "code",
   "execution_count": 15,
   "metadata": {},
   "outputs": [
    {
     "data": {
      "text/plain": [
       "tensor([6.2650])"
      ]
     },
     "execution_count": 15,
     "metadata": {},
     "output_type": "execute_result"
    }
   ],
   "source": [
    "b.grad"
   ]
  },
  {
   "cell_type": "markdown",
   "metadata": {},
   "source": [
    "**Step 4**: Gradient descent"
   ]
  },
  {
   "cell_type": "code",
   "execution_count": 16,
   "metadata": {},
   "outputs": [],
   "source": [
    "optimizer = torch.optim.SGD([m, b], lr=0.05)"
   ]
  },
  {
   "cell_type": "code",
   "execution_count": 17,
   "metadata": {},
   "outputs": [],
   "source": [
    "optimizer.step()"
   ]
  },
  {
   "cell_type": "markdown",
   "metadata": {},
   "source": [
    "Confirm parameters have been adjusted sensibly: "
   ]
  },
  {
   "cell_type": "code",
   "execution_count": 18,
   "metadata": {},
   "outputs": [
    {
     "data": {
      "text/plain": [
       "tensor([-0.9152], requires_grad=True)"
      ]
     },
     "execution_count": 18,
     "metadata": {},
     "output_type": "execute_result"
    }
   ],
   "source": [
    "m"
   ]
  },
  {
   "cell_type": "code",
   "execution_count": 19,
   "metadata": {},
   "outputs": [
    {
     "data": {
      "text/plain": [
       "tensor([-0.2132], requires_grad=True)"
      ]
     },
     "execution_count": 19,
     "metadata": {},
     "output_type": "execute_result"
    }
   ],
   "source": [
    "b"
   ]
  },
  {
   "cell_type": "code",
   "execution_count": 20,
   "metadata": {},
   "outputs": [
    {
     "data": {
      "image/png": "[encoded data removed]",
      "text/plain": [
       "<Figure size 432x288 with 1 Axes>"
      ]
     },
     "metadata": {
      "needs_background": "light"
     },
     "output_type": "display_data"
    }
   ],
   "source": [
    "regression_plot(x, y, m, b)"
   ]
  },
  {
   "cell_type": "markdown",
   "metadata": {},
   "source": [
    "We can repeat steps 1 and 2 to confirm cost has decreased: "
   ]
  },
  {
   "cell_type": "code",
   "execution_count": 21,
   "metadata": {},
   "outputs": [
    {
     "data": {
      "text/plain": [
       "tensor(13.5536, grad_fn=<DivBackward0>)"
      ]
     },
     "execution_count": 21,
     "metadata": {},
     "output_type": "execute_result"
    }
   ],
   "source": [
    "C = mse_cost(regression(x, m, b), y)\n",
    "C"
   ]
  },
  {
   "cell_type": "markdown",
   "metadata": {},
   "source": [
    "Put the 4 steps in a loop to iteratively minimize cost toward zero: "
   ]
  },
  {
   "cell_type": "code",
   "execution_count": 22,
   "metadata": {},
   "outputs": [
    {
     "name": "stdout",
     "output_type": "stream",
     "text": [
      "Epoch 0, cost 13.6, m grad -29.4, b grad -7.07\n",
      "Epoch 1, cost 9.41, m grad 24.5, b grad 3.94\n",
      "Epoch 2, cost 6.6, m grad -19.8, b grad -5.05\n",
      "Epoch 3, cost 4.69, m grad 16.6, b grad 2.38\n",
      "Epoch 4, cost 3.39, m grad -13.3, b grad -3.67\n",
      "Epoch 5, cost 2.5, m grad 11.2, b grad 1.35\n",
      "Epoch 6, cost 1.89, m grad -8.91, b grad -2.72\n",
      "Epoch 7, cost 1.47, m grad 7.63, b grad 0.668\n",
      "Epoch 8, cost 1.17, m grad -5.96, b grad -2.07\n",
      "Epoch 9, cost 0.961, m grad 5.19, b grad 0.222\n",
      "Epoch 10, cost 0.81, m grad -3.97, b grad -1.62\n",
      "Epoch 11, cost 0.7, m grad 3.55, b grad -0.0656\n",
      "Epoch 12, cost 0.617, m grad -2.64, b grad -1.3\n",
      "Epoch 13, cost 0.553, m grad 2.43, b grad -0.247\n",
      "Epoch 14, cost 0.502, m grad -1.74, b grad -1.07\n",
      "Epoch 15, cost 0.461, m grad 1.68, b grad -0.358\n",
      "Epoch 16, cost 0.427, m grad -1.13, b grad -0.91\n",
      "Epoch 17, cost 0.398, m grad 1.17, b grad -0.422\n",
      "Epoch 18, cost 0.372, m grad -0.729, b grad -0.789\n",
      "Epoch 19, cost 0.349, m grad 0.823, b grad -0.455\n",
      "Epoch 20, cost 0.329, m grad -0.458, b grad -0.698\n",
      "Epoch 21, cost 0.31, m grad 0.588, b grad -0.468\n",
      "Epoch 22, cost 0.292, m grad -0.277, b grad -0.627\n",
      "Epoch 23, cost 0.276, m grad 0.427, b grad -0.467\n",
      "Epoch 24, cost 0.261, m grad -0.157, b grad -0.57\n",
      "Epoch 25, cost 0.247, m grad 0.317, b grad -0.458\n",
      "Epoch 26, cost 0.234, m grad -0.0776, b grad -0.523\n",
      "Epoch 27, cost 0.222, m grad 0.241, b grad -0.444\n",
      "Epoch 28, cost 0.21, m grad -0.0257, b grad -0.484\n",
      "Epoch 29, cost 0.199, m grad 0.189, b grad -0.426\n",
      "Epoch 30, cost 0.189, m grad 0.00781, b grad -0.45\n",
      "Epoch 31, cost 0.18, m grad 0.152, b grad -0.407\n",
      "Epoch 32, cost 0.17, m grad 0.029, b grad -0.42\n",
      "Epoch 33, cost 0.162, m grad 0.125, b grad -0.388\n",
      "Epoch 34, cost 0.154, m grad 0.0419, b grad -0.393\n",
      "Epoch 35, cost 0.146, m grad 0.106, b grad -0.368\n",
      "Epoch 36, cost 0.139, m grad 0.0493, b grad -0.369\n",
      "Epoch 37, cost 0.132, m grad 0.092, b grad -0.349\n",
      "Epoch 38, cost 0.126, m grad 0.0531, b grad -0.346\n",
      "Epoch 39, cost 0.12, m grad 0.0814, b grad -0.33\n",
      "Epoch 40, cost 0.114, m grad 0.0546, b grad -0.326\n",
      "Epoch 41, cost 0.109, m grad 0.0731, b grad -0.312\n",
      "Epoch 42, cost 0.104, m grad 0.0545, b grad -0.307\n",
      "Epoch 43, cost 0.0988, m grad 0.0665, b grad -0.295\n",
      "Epoch 44, cost 0.0942, m grad 0.0534, b grad -0.289\n",
      "Epoch 45, cost 0.09, m grad 0.061, b grad -0.279\n",
      "Epoch 46, cost 0.086, m grad 0.0518, b grad -0.272\n",
      "Epoch 47, cost 0.0822, m grad 0.0564, b grad -0.263\n",
      "Epoch 48, cost 0.0786, m grad 0.0497, b grad -0.256\n",
      "Epoch 49, cost 0.0753, m grad 0.0525, b grad -0.248\n",
      "Epoch 50, cost 0.0721, m grad 0.0475, b grad -0.242\n",
      "Epoch 51, cost 0.0691, m grad 0.049, b grad -0.234\n",
      "Epoch 52, cost 0.0663, m grad 0.0453, b grad -0.228\n",
      "Epoch 53, cost 0.0636, m grad 0.0458, b grad -0.221\n",
      "Epoch 54, cost 0.0611, m grad 0.043, b grad -0.215\n",
      "Epoch 55, cost 0.0588, m grad 0.043, b grad -0.208\n",
      "Epoch 56, cost 0.0565, m grad 0.0407, b grad -0.203\n",
      "Epoch 57, cost 0.0544, m grad 0.0404, b grad -0.197\n",
      "Epoch 58, cost 0.0524, m grad 0.0385, b grad -0.191\n",
      "Epoch 59, cost 0.0506, m grad 0.038, b grad -0.186\n",
      "Epoch 60, cost 0.0488, m grad 0.0364, b grad -0.18\n",
      "Epoch 61, cost 0.0471, m grad 0.0358, b grad -0.175\n",
      "Epoch 62, cost 0.0456, m grad 0.0344, b grad -0.17\n",
      "Epoch 63, cost 0.0441, m grad 0.0337, b grad -0.165\n",
      "Epoch 64, cost 0.0427, m grad 0.0325, b grad -0.16\n",
      "Epoch 65, cost 0.0414, m grad 0.0317, b grad -0.156\n",
      "Epoch 66, cost 0.0401, m grad 0.0307, b grad -0.151\n",
      "Epoch 67, cost 0.0389, m grad 0.0299, b grad -0.147\n",
      "Epoch 68, cost 0.0378, m grad 0.029, b grad -0.143\n",
      "Epoch 69, cost 0.0368, m grad 0.0282, b grad -0.138\n",
      "Epoch 70, cost 0.0358, m grad 0.0273, b grad -0.135\n",
      "Epoch 71, cost 0.0349, m grad 0.0266, b grad -0.131\n",
      "Epoch 72, cost 0.034, m grad 0.0258, b grad -0.127\n",
      "Epoch 73, cost 0.0332, m grad 0.0251, b grad -0.123\n",
      "Epoch 74, cost 0.0324, m grad 0.0243, b grad -0.12\n",
      "Epoch 75, cost 0.0317, m grad 0.0236, b grad -0.116\n",
      "Epoch 76, cost 0.031, m grad 0.0229, b grad -0.113\n",
      "Epoch 77, cost 0.0303, m grad 0.0223, b grad -0.11\n",
      "Epoch 78, cost 0.0297, m grad 0.0216, b grad -0.106\n",
      "Epoch 79, cost 0.0291, m grad 0.021, b grad -0.103\n",
      "Epoch 80, cost 0.0286, m grad 0.0204, b grad -0.1\n",
      "Epoch 81, cost 0.0281, m grad 0.0198, b grad -0.0975\n",
      "Epoch 82, cost 0.0276, m grad 0.0193, b grad -0.0947\n",
      "Epoch 83, cost 0.0271, m grad 0.0187, b grad -0.092\n",
      "Epoch 84, cost 0.0267, m grad 0.0182, b grad -0.0893\n",
      "Epoch 85, cost 0.0263, m grad 0.0176, b grad -0.0867\n",
      "Epoch 86, cost 0.0259, m grad 0.0171, b grad -0.0842\n",
      "Epoch 87, cost 0.0255, m grad 0.0166, b grad -0.0818\n",
      "Epoch 88, cost 0.0252, m grad 0.0162, b grad -0.0794\n",
      "Epoch 89, cost 0.0248, m grad 0.0157, b grad -0.0772\n",
      "Epoch 90, cost 0.0245, m grad 0.0152, b grad -0.0749\n",
      "Epoch 91, cost 0.0242, m grad 0.0148, b grad -0.0728\n",
      "Epoch 92, cost 0.024, m grad 0.0144, b grad -0.0707\n",
      "Epoch 93, cost 0.0237, m grad 0.014, b grad -0.0686\n",
      "Epoch 94, cost 0.0235, m grad 0.0136, b grad -0.0667\n",
      "Epoch 95, cost 0.0233, m grad 0.0132, b grad -0.0647\n",
      "Epoch 96, cost 0.023, m grad 0.0128, b grad -0.0629\n",
      "Epoch 97, cost 0.0228, m grad 0.0124, b grad -0.0611\n",
      "Epoch 98, cost 0.0226, m grad 0.0121, b grad -0.0593\n",
      "Epoch 99, cost 0.0225, m grad 0.0117, b grad -0.0576\n"
     ]
    }
   ],
   "source": [
    "epochs = 100\n",
    "for epoch in range(epochs):\n",
    "    \n",
    "    optimizer.zero_grad() # Reset gradients to zero; else they accumulate\n",
    "    \n",
    "    yhat = regression(x, m, b) # Step 1\n",
    "    C = mse_cost(yhat, y) # Step 2\n",
    "    \n",
    "    C.backward() # Step 3\n",
    "    optimizer.step() # Step 4\n",
    "    \n",
    "    print('Epoch {}, cost {}, m grad {}, b grad {}'.format(epoch, '%.3g' % C.item(), '%.3g' % m.grad.item(), '%.3g' % b.grad.item()))"
   ]
  },
  {
   "cell_type": "code",
   "execution_count": 23,
   "metadata": {},
   "outputs": [
    {
     "data": {
      "image/png": "[encoded data removed]",
      "text/plain": [
       "<Figure size 432x288 with 1 Axes>"
      ]
     },
     "metadata": {
      "needs_background": "light"
     },
     "output_type": "display_data"
    }
   ],
   "source": [
    "regression_plot(x, y, m, b)"
   ]
  },
  {
   "cell_type": "code",
   "execution_count": null,
   "metadata": {},
   "outputs": [],
   "source": []
  }
 ],
 "metadata": {
  "kernelspec": {
   "display_name": "Python 3",
   "language": "python",
   "name": "python3"
  },
  "language_info": {
   "codemirror_mode": {
    "name": "ipython",
    "version": 3
   },
   "file_extension": ".py",
   "mimetype": "text/x-python",
   "name": "python",
   "nbconvert_exporter": "python",
   "pygments_lexer": "ipython3",
   "version": "3.7.6"
  }
 },
 "nbformat": 4,
 "nbformat_minor": 4
}
