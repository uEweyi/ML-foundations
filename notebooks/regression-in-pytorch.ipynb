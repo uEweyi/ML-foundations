{
  "nbformat": 4,
  "nbformat_minor": 0,
  "metadata": {
    "kernelspec": {
      "display_name": "Python 3",
      "language": "python",
      "name": "python3"
    },
    "language_info": {
      "codemirror_mode": {
        "name": "ipython",
        "version": 3
      },
      "file_extension": ".py",
      "mimetype": "text/x-python",
      "name": "python",
      "nbconvert_exporter": "python",
      "pygments_lexer": "ipython3",
      "version": "3.7.6"
    },
    "colab": {
      "name": "regression-in-pytorch.ipynb",
      "provenance": [],
      "include_colab_link": true
    }
  },
  "cells": [
    {
      "cell_type": "markdown",
      "metadata": {
        "id": "view-in-github",
        "colab_type": "text"
      },
      "source": [
        "<a href=\"https://colab.research.google.com/github/jonkrohn/ML-foundations/blob/master/notebooks/regression-in-pytorch.ipynb\" target=\"_parent\"><img src=\"https://colab.research.google.com/assets/colab-badge.svg\" alt=\"Open In Colab\"/></a>"
      ]
    },
    {
      "cell_type": "markdown",
      "metadata": {
        "id": "oIX4xnrwiFZX",
        "colab_type": "text"
      },
      "source": [
        "### Regression in PyTorch"
      ]
    },
    {
      "cell_type": "markdown",
      "metadata": {
        "id": "XZJhl8MciFZY",
        "colab_type": "text"
      },
      "source": [
        "Let's use the PyTorch **automatic differentiation** library to solve the regression problem that we used the Moore-Penrose Pseudoinverse to solve in the [*Machine Learning Foundations: Linear Algebra II: Matrix Operations* notebook](http://127.0.0.1:8888/notebooks/work/notebooks/2-linear-algebra-ii.ipynb)."
      ]
    },
    {
      "cell_type": "code",
      "metadata": {
        "id": "2qPThFdBiFZZ",
        "colab_type": "code",
        "colab": {}
      },
      "source": [
        "import numpy as np\n",
        "import matplotlib.pyplot as plt\n",
        "import torch"
      ],
      "execution_count": 0,
      "outputs": []
    },
    {
      "cell_type": "markdown",
      "metadata": {
        "id": "FuEiZfPjiFZc",
        "colab_type": "text"
      },
      "source": [
        "As in *Linear Algebra II*, in machine learning the convention is that each row represents an instance: "
      ]
    },
    {
      "cell_type": "code",
      "metadata": {
        "id": "8mgdhO3liFZc",
        "colab_type": "code",
        "colab": {}
      },
      "source": [
        "x = np.array([0, 1, 2, 3, 4, 5, 6, 7.]).reshape(-1, 1)"
      ],
      "execution_count": 0,
      "outputs": []
    },
    {
      "cell_type": "code",
      "metadata": {
        "id": "DofwzCGQiFZf",
        "colab_type": "code",
        "outputId": "967ba752-bd96-4ffe-b169-a03ead2cc3eb",
        "colab": {
          "base_uri": "https://localhost:8080/",
          "height": 155
        }
      },
      "source": [
        "x"
      ],
      "execution_count": 3,
      "outputs": [
        {
          "output_type": "execute_result",
          "data": {
            "text/plain": [
              "array([[0.],\n",
              "       [1.],\n",
              "       [2.],\n",
              "       [3.],\n",
              "       [4.],\n",
              "       [5.],\n",
              "       [6.],\n",
              "       [7.]])"
            ]
          },
          "metadata": {
            "tags": []
          },
          "execution_count": 3
        }
      ]
    },
    {
      "cell_type": "markdown",
      "metadata": {
        "id": "kbPWO45yiFZi",
        "colab_type": "text"
      },
      "source": [
        "The $y$ values were created using the equation of a line $y = mx + b$. This way, we know what the model parameters to be learned are, say, $m = -0.5$ and $b = 2$. Random, normally-distributed noise has been added to simulate sampling error: "
      ]
    },
    {
      "cell_type": "code",
      "metadata": {
        "id": "bgX3z1loiFZi",
        "colab_type": "code",
        "colab": {}
      },
      "source": [
        "# y = -0.5*x + 2 + np.random.normal(scale=0.2, size=8).reshape(-1,1)\n",
        "# For reproducibility, here's a fixed example of y values from running the line above: \n",
        "y = np.array([1.86, 1.31, .62, .33, .09, -.67, -1.23, -1.37]).reshape(-1, 1)"
      ],
      "execution_count": 0,
      "outputs": []
    },
    {
      "cell_type": "code",
      "metadata": {
        "id": "cid67y8JiFZl",
        "colab_type": "code",
        "outputId": "b2e7f606-17dd-4ea5-e6cc-212278286fed",
        "colab": {
          "base_uri": "https://localhost:8080/",
          "height": 155
        }
      },
      "source": [
        "y"
      ],
      "execution_count": 5,
      "outputs": [
        {
          "output_type": "execute_result",
          "data": {
            "text/plain": [
              "array([[ 1.86],\n",
              "       [ 1.31],\n",
              "       [ 0.62],\n",
              "       [ 0.33],\n",
              "       [ 0.09],\n",
              "       [-0.67],\n",
              "       [-1.23],\n",
              "       [-1.37]])"
            ]
          },
          "metadata": {
            "tags": []
          },
          "execution_count": 5
        }
      ]
    },
    {
      "cell_type": "code",
      "metadata": {
        "id": "IJrepmyAiFZn",
        "colab_type": "code",
        "outputId": "6cb84fcc-9d64-4ed8-dfd7-05576c125d5b",
        "colab": {
          "base_uri": "https://localhost:8080/",
          "height": 268
        }
      },
      "source": [
        "fig, ax = plt.subplots()\n",
        "_ = ax.scatter(x, y)"
      ],
      "execution_count": 6,
      "outputs": [
        {
          "output_type": "display_data",
          "data": {
            "image/png": "[encoded data removed]",
            "text/plain": [
              "<Figure size 432x288 with 1 Axes>"
            ]
          },
          "metadata": {
            "tags": [],
            "needs_background": "light"
          }
        }
      ]
    },
    {
      "cell_type": "markdown",
      "metadata": {
        "id": "HdmFKwZ9iFZp",
        "colab_type": "text"
      },
      "source": [
        "`nn.Linear` applies the transformation $y = xW^T + b$ where $W$ is a matrix of weights and $b$ is a vector of biases. In this example, there is only a single weight and a single bias ($y$-intercept) value because of how we've constrained the number of inputs ($x$) and outputs ($y$) to `linear` both to `1`:"
      ]
    },
    {
      "cell_type": "code",
      "metadata": {
        "id": "9tbLtyLCiFZq",
        "colab_type": "code",
        "colab": {}
      },
      "source": [
        "class LinearRegression(torch.nn.Module):\n",
        "    \n",
        "    # Superclassing of new Module is standard in PyTorch\n",
        "    def __init__(self): \n",
        "        super(LinearRegression, self).__init__() \n",
        "        self.linear = torch.nn.Linear(1, 1)\n",
        "    \n",
        "    # Define the forward pass: \n",
        "    def forward(self, my_x):\n",
        "        my_y = self.linear(my_x)\n",
        "        return my_y"
      ],
      "execution_count": 0,
      "outputs": []
    },
    {
      "cell_type": "code",
      "metadata": {
        "id": "Lve31ZJkiFZs",
        "colab_type": "code",
        "colab": {}
      },
      "source": [
        "model = LinearRegression()"
      ],
      "execution_count": 0,
      "outputs": []
    },
    {
      "cell_type": "markdown",
      "metadata": {
        "id": "BtzBSOJJiFZu",
        "colab_type": "text"
      },
      "source": [
        "Our model will learn to approximate $m$, the slope between $x$ and $y$: "
      ]
    },
    {
      "cell_type": "code",
      "metadata": {
        "id": "M6_ifHLciFZv",
        "colab_type": "code",
        "outputId": "63deba72-4662-462b-e52a-05babe5ee997",
        "colab": {
          "base_uri": "https://localhost:8080/",
          "height": 52
        }
      },
      "source": [
        "m = model.linear.weight \n",
        "m"
      ],
      "execution_count": 9,
      "outputs": [
        {
          "output_type": "execute_result",
          "data": {
            "text/plain": [
              "Parameter containing:\n",
              "tensor([[0.3684]], requires_grad=True)"
            ]
          },
          "metadata": {
            "tags": []
          },
          "execution_count": 9
        }
      ]
    },
    {
      "cell_type": "code",
      "metadata": {
        "id": "Klvpx3KAekLt",
        "colab_type": "code",
        "colab": {
          "base_uri": "https://localhost:8080/",
          "height": 52
        },
        "outputId": "ba872751-de00-4e6b-e93c-bba28210ddc1"
      },
      "source": [
        "## For strong example, can optionally fix m to 0.9: \n",
        "# model.linear.weight = torch.nn.Parameter(torch.tensor([[0.9]]))\n",
        "# m = model.linear.weight \n",
        "# m"
      ],
      "execution_count": 10,
      "outputs": [
        {
          "output_type": "execute_result",
          "data": {
            "text/plain": [
              "Parameter containing:\n",
              "tensor([[0.9000]], requires_grad=True)"
            ]
          },
          "metadata": {
            "tags": []
          },
          "execution_count": 10
        }
      ]
    },
    {
      "cell_type": "markdown",
      "metadata": {
        "id": "4t--PT3PiFZx",
        "colab_type": "text"
      },
      "source": [
        "...same goes for the $y$-intercept $b$: "
      ]
    },
    {
      "cell_type": "code",
      "metadata": {
        "id": "C8O-tdUFiFZx",
        "colab_type": "code",
        "outputId": "44ac67ba-2c04-4872-f241-05a4365ed751",
        "colab": {
          "base_uri": "https://localhost:8080/",
          "height": 52
        }
      },
      "source": [
        "b = model.linear.bias \n",
        "b"
      ],
      "execution_count": 11,
      "outputs": [
        {
          "output_type": "execute_result",
          "data": {
            "text/plain": [
              "Parameter containing:\n",
              "tensor([0.6325], requires_grad=True)"
            ]
          },
          "metadata": {
            "tags": []
          },
          "execution_count": 11
        }
      ]
    },
    {
      "cell_type": "code",
      "metadata": {
        "id": "fzJbmwNwiPOk",
        "colab_type": "code",
        "colab": {
          "base_uri": "https://localhost:8080/",
          "height": 52
        },
        "outputId": "03f14eb4-d4e1-42a3-9928-ff1474449f68"
      },
      "source": [
        "## Likewise, bias could be fixed to 0.1: \n",
        "# model.linear.bias = torch.nn.Parameter(torch.tensor([0.1]))\n",
        "# b = model.linear.bias\n",
        "# b"
      ],
      "execution_count": 12,
      "outputs": [
        {
          "output_type": "execute_result",
          "data": {
            "text/plain": [
              "Parameter containing:\n",
              "tensor([0.1000], requires_grad=True)"
            ]
          },
          "metadata": {
            "tags": []
          },
          "execution_count": 12
        }
      ]
    },
    {
      "cell_type": "markdown",
      "metadata": {
        "id": "dOY5qqXNiFZz",
        "colab_type": "text"
      },
      "source": [
        "Prior to training, the model has a random slope $m$ and random intercept $b$: "
      ]
    },
    {
      "cell_type": "code",
      "metadata": {
        "id": "uyCchic9iFZ0",
        "colab_type": "code",
        "colab": {}
      },
      "source": [
        "def regression_plot(my_x, my_y, my_m, my_b):\n",
        "    \n",
        "    fig, ax = plt.subplots()\n",
        "\n",
        "    ax.scatter(my_x, my_y)\n",
        "    x_min, x_max = ax.get_xlim()\n",
        "    y_min, y_max = my_b, my_b + my_m*(x_max-x_min)\n",
        "\n",
        "    ax.plot([x_min, x_max], [y_min, y_max])\n",
        "    _ = ax.set_xlim([x_min, x_max])"
      ],
      "execution_count": 0,
      "outputs": []
    },
    {
      "cell_type": "code",
      "metadata": {
        "id": "4Si2JEpTiFZ2",
        "colab_type": "code",
        "outputId": "3c76332a-c982-4098-8b4f-4241edfee354",
        "colab": {
          "base_uri": "https://localhost:8080/",
          "height": 265
        }
      },
      "source": [
        "regression_plot(x, y, m, b)"
      ],
      "execution_count": 14,
      "outputs": [
        {
          "output_type": "display_data",
          "data": {
            "image/png": "[encoded data removed]",
            "text/plain": [
              "<Figure size 432x288 with 1 Axes>"
            ]
          },
          "metadata": {
            "tags": [],
            "needs_background": "light"
          }
        }
      ]
    },
    {
      "cell_type": "markdown",
      "metadata": {
        "id": "VIUzVfyIiFZ4",
        "colab_type": "text"
      },
      "source": [
        "There is a PyTorch `MSELoss` method, but let's define it outselves to see how it works. MSE cost $C$ is defined by: $$C = \\frac{1}{n} \\sum_{i=1}^n (\\hat{y_i}-y_i)^2 $$"
      ]
    },
    {
      "cell_type": "code",
      "metadata": {
        "id": "dD0v9Z3diFZ4",
        "colab_type": "code",
        "colab": {}
      },
      "source": [
        "def mse_cost(my_yhat, my_y): \n",
        "    sigma = torch.sum((my_yhat - my_y)**2)\n",
        "    return sigma/len(my_y)"
      ],
      "execution_count": 0,
      "outputs": []
    },
    {
      "cell_type": "code",
      "metadata": {
        "id": "TWNcQAq5iFZ6",
        "colab_type": "code",
        "colab": {}
      },
      "source": [
        "optimizer = torch.optim.SGD(model.parameters(), lr=0.05)"
      ],
      "execution_count": 0,
      "outputs": []
    },
    {
      "cell_type": "code",
      "metadata": {
        "id": "1RnUlDY1iFZ8",
        "colab_type": "code",
        "colab": {}
      },
      "source": [
        "x_pt = torch.from_numpy(x).float()"
      ],
      "execution_count": 0,
      "outputs": []
    },
    {
      "cell_type": "code",
      "metadata": {
        "id": "7sm7tb6WiFZ-",
        "colab_type": "code",
        "outputId": "1e2acfb2-31b9-40cd-9b78-62f88004593b",
        "colab": {
          "base_uri": "https://localhost:8080/",
          "height": 155
        }
      },
      "source": [
        "x_pt"
      ],
      "execution_count": 18,
      "outputs": [
        {
          "output_type": "execute_result",
          "data": {
            "text/plain": [
              "tensor([[0.],\n",
              "        [1.],\n",
              "        [2.],\n",
              "        [3.],\n",
              "        [4.],\n",
              "        [5.],\n",
              "        [6.],\n",
              "        [7.]])"
            ]
          },
          "metadata": {
            "tags": []
          },
          "execution_count": 18
        }
      ]
    },
    {
      "cell_type": "code",
      "metadata": {
        "id": "pfiR0hIMiFaA",
        "colab_type": "code",
        "outputId": "727ebab7-ec51-4faa-bfe5-fd438d10323b",
        "colab": {
          "base_uri": "https://localhost:8080/",
          "height": 155
        }
      },
      "source": [
        "x_pt.requires_grad_()"
      ],
      "execution_count": 19,
      "outputs": [
        {
          "output_type": "execute_result",
          "data": {
            "text/plain": [
              "tensor([[0.],\n",
              "        [1.],\n",
              "        [2.],\n",
              "        [3.],\n",
              "        [4.],\n",
              "        [5.],\n",
              "        [6.],\n",
              "        [7.]], requires_grad=True)"
            ]
          },
          "metadata": {
            "tags": []
          },
          "execution_count": 19
        }
      ]
    },
    {
      "cell_type": "markdown",
      "metadata": {
        "id": "XYaiOLxoiFaC",
        "colab_type": "text"
      },
      "source": [
        "Forward pass:"
      ]
    },
    {
      "cell_type": "code",
      "metadata": {
        "id": "n_VrWVpXiFaC",
        "colab_type": "code",
        "colab": {}
      },
      "source": [
        "yhat = model(x_pt) "
      ],
      "execution_count": 0,
      "outputs": []
    },
    {
      "cell_type": "code",
      "metadata": {
        "id": "tptevhiviFaE",
        "colab_type": "code",
        "outputId": "543b674e-0100-483b-a9b3-b4d390c2b7ca",
        "colab": {
          "base_uri": "https://localhost:8080/",
          "height": 155
        }
      },
      "source": [
        "yhat"
      ],
      "execution_count": 21,
      "outputs": [
        {
          "output_type": "execute_result",
          "data": {
            "text/plain": [
              "tensor([[0.1000],\n",
              "        [1.0000],\n",
              "        [1.9000],\n",
              "        [2.8000],\n",
              "        [3.7000],\n",
              "        [4.6000],\n",
              "        [5.5000],\n",
              "        [6.4000]], grad_fn=<AddmmBackward>)"
            ]
          },
          "metadata": {
            "tags": []
          },
          "execution_count": 21
        }
      ]
    },
    {
      "cell_type": "code",
      "metadata": {
        "id": "hQtTHRYdiFaG",
        "colab_type": "code",
        "colab": {}
      },
      "source": [
        "y_pt = torch.from_numpy(y).float()"
      ],
      "execution_count": 0,
      "outputs": []
    },
    {
      "cell_type": "code",
      "metadata": {
        "id": "aBbvgA98iFaI",
        "colab_type": "code",
        "outputId": "689dd284-4e44-48dd-e3a6-7ccedc0ed25a",
        "colab": {
          "base_uri": "https://localhost:8080/",
          "height": 35
        }
      },
      "source": [
        "cost = mse_cost(yhat, y_pt)\n",
        "cost"
      ],
      "execution_count": 23,
      "outputs": [
        {
          "output_type": "execute_result",
          "data": {
            "text/plain": [
              "tensor(19.6755, grad_fn=<DivBackward0>)"
            ]
          },
          "metadata": {
            "tags": []
          },
          "execution_count": 23
        }
      ]
    },
    {
      "cell_type": "markdown",
      "metadata": {
        "id": "qZhkiBy9iFaK",
        "colab_type": "text"
      },
      "source": [
        "Chain rule to differentiate with respect to model parameters:"
      ]
    },
    {
      "cell_type": "code",
      "metadata": {
        "id": "CnRCv_t_iFaK",
        "colab_type": "code",
        "colab": {}
      },
      "source": [
        "cost.backward() "
      ],
      "execution_count": 0,
      "outputs": []
    },
    {
      "cell_type": "code",
      "metadata": {
        "id": "gEnNRi9LiFaM",
        "colab_type": "code",
        "outputId": "47c84c30-a278-4988-c6e0-492ae6bf6292",
        "colab": {
          "base_uri": "https://localhost:8080/",
          "height": 35
        }
      },
      "source": [
        "model.linear.weight.grad"
      ],
      "execution_count": 25,
      "outputs": [
        {
          "output_type": "execute_result",
          "data": {
            "text/plain": [
              "tensor([[36.3050]])"
            ]
          },
          "metadata": {
            "tags": []
          },
          "execution_count": 25
        }
      ]
    },
    {
      "cell_type": "code",
      "metadata": {
        "id": "tc7Egw_giFaO",
        "colab_type": "code",
        "outputId": "c1110f03-9c8a-439f-e159-e9d43b219783",
        "colab": {
          "base_uri": "https://localhost:8080/",
          "height": 35
        }
      },
      "source": [
        "model.linear.bias.grad"
      ],
      "execution_count": 26,
      "outputs": [
        {
          "output_type": "execute_result",
          "data": {
            "text/plain": [
              "tensor([6.2650])"
            ]
          },
          "metadata": {
            "tags": []
          },
          "execution_count": 26
        }
      ]
    },
    {
      "cell_type": "markdown",
      "metadata": {
        "id": "YXQyFrqjiFaQ",
        "colab_type": "text"
      },
      "source": [
        "Use differentiation results to adjust model parameters in direction of lower cost: "
      ]
    },
    {
      "cell_type": "code",
      "metadata": {
        "id": "2tQ6xuxAiFaQ",
        "colab_type": "code",
        "colab": {}
      },
      "source": [
        "optimizer.step()"
      ],
      "execution_count": 0,
      "outputs": []
    },
    {
      "cell_type": "code",
      "metadata": {
        "id": "Wu35zW2riFaS",
        "colab_type": "code",
        "outputId": "ab75758c-4528-4621-c163-308cff395ffb",
        "colab": {
          "base_uri": "https://localhost:8080/",
          "height": 35
        }
      },
      "source": [
        "yhat = model(x_pt)\n",
        "cost = mse_cost(yhat, y_pt)\n",
        "cost"
      ],
      "execution_count": 28,
      "outputs": [
        {
          "output_type": "execute_result",
          "data": {
            "text/plain": [
              "tensor(13.5536, grad_fn=<DivBackward0>)"
            ]
          },
          "metadata": {
            "tags": []
          },
          "execution_count": 28
        }
      ]
    },
    {
      "cell_type": "markdown",
      "metadata": {
        "id": "zlvGIBNNiFaT",
        "colab_type": "text"
      },
      "source": [
        "After a round of training, the model fits better, although it isn't always easy to tell by eye: "
      ]
    },
    {
      "cell_type": "code",
      "metadata": {
        "id": "ODrFhyV5iFaT",
        "colab_type": "code",
        "outputId": "3e17c75d-f51a-46b6-dd29-4bb324c19c86",
        "colab": {
          "base_uri": "https://localhost:8080/",
          "height": 265
        }
      },
      "source": [
        "regression_plot(x, y, model.linear.weight, model.linear.bias)"
      ],
      "execution_count": 29,
      "outputs": [
        {
          "output_type": "display_data",
          "data": {
            "image/png": "[encoded data removed]",
            "text/plain": [
              "<Figure size 432x288 with 1 Axes>"
            ]
          },
          "metadata": {
            "tags": [],
            "needs_background": "light"
          }
        }
      ]
    },
    {
      "cell_type": "code",
      "metadata": {
        "id": "-QjD1kgUiFaV",
        "colab_type": "code",
        "outputId": "eac0f66c-5b67-4598-dee2-8376ff1de010",
        "colab": {
          "base_uri": "https://localhost:8080/",
          "height": 1000
        }
      },
      "source": [
        "epochs = 100\n",
        "for epoch in range(epochs):\n",
        "    \n",
        "    optimizer.zero_grad() # Reset gradients to zero; else they accumulate\n",
        "    \n",
        "    yhat = model(x_pt) \n",
        "    cost = mse_cost(yhat, y_pt) \n",
        "    \n",
        "    cost.backward() \n",
        "    optimizer.step()\n",
        "    \n",
        "    print('Epoch {}, cost {}, grad of m {}, grad of b {}'.format(epoch, '%.3g' % cost.item(), '%.3g' % model.linear.weight.grad.item(), '%.3g' % model.linear.bias.grad.item()))"
      ],
      "execution_count": 30,
      "outputs": [
        {
          "output_type": "stream",
          "text": [
            "Epoch 0, cost 13.6, grad of m -29.4, grad of b -7.07\n",
            "Epoch 1, cost 9.41, grad of m 24.5, grad of b 3.94\n",
            "Epoch 2, cost 6.6, grad of m -19.8, grad of b -5.05\n",
            "Epoch 3, cost 4.69, grad of m 16.6, grad of b 2.38\n",
            "Epoch 4, cost 3.39, grad of m -13.3, grad of b -3.67\n",
            "Epoch 5, cost 2.5, grad of m 11.2, grad of b 1.35\n",
            "Epoch 6, cost 1.89, grad of m -8.91, grad of b -2.72\n",
            "Epoch 7, cost 1.47, grad of m 7.63, grad of b 0.668\n",
            "Epoch 8, cost 1.17, grad of m -5.96, grad of b -2.07\n",
            "Epoch 9, cost 0.961, grad of m 5.19, grad of b 0.222\n",
            "Epoch 10, cost 0.81, grad of m -3.97, grad of b -1.62\n",
            "Epoch 11, cost 0.7, grad of m 3.55, grad of b -0.0656\n",
            "Epoch 12, cost 0.617, grad of m -2.64, grad of b -1.3\n",
            "Epoch 13, cost 0.553, grad of m 2.43, grad of b -0.247\n",
            "Epoch 14, cost 0.502, grad of m -1.74, grad of b -1.07\n",
            "Epoch 15, cost 0.461, grad of m 1.68, grad of b -0.358\n",
            "Epoch 16, cost 0.427, grad of m -1.13, grad of b -0.91\n",
            "Epoch 17, cost 0.398, grad of m 1.17, grad of b -0.422\n",
            "Epoch 18, cost 0.372, grad of m -0.729, grad of b -0.789\n",
            "Epoch 19, cost 0.349, grad of m 0.823, grad of b -0.455\n",
            "Epoch 20, cost 0.329, grad of m -0.458, grad of b -0.698\n",
            "Epoch 21, cost 0.31, grad of m 0.588, grad of b -0.468\n",
            "Epoch 22, cost 0.292, grad of m -0.277, grad of b -0.627\n",
            "Epoch 23, cost 0.276, grad of m 0.427, grad of b -0.467\n",
            "Epoch 24, cost 0.261, grad of m -0.157, grad of b -0.57\n",
            "Epoch 25, cost 0.247, grad of m 0.317, grad of b -0.458\n",
            "Epoch 26, cost 0.234, grad of m -0.0776, grad of b -0.523\n",
            "Epoch 27, cost 0.222, grad of m 0.241, grad of b -0.444\n",
            "Epoch 28, cost 0.21, grad of m -0.0257, grad of b -0.484\n",
            "Epoch 29, cost 0.199, grad of m 0.189, grad of b -0.426\n",
            "Epoch 30, cost 0.189, grad of m 0.00781, grad of b -0.45\n",
            "Epoch 31, cost 0.18, grad of m 0.152, grad of b -0.407\n",
            "Epoch 32, cost 0.17, grad of m 0.029, grad of b -0.42\n",
            "Epoch 33, cost 0.162, grad of m 0.125, grad of b -0.388\n",
            "Epoch 34, cost 0.154, grad of m 0.0419, grad of b -0.393\n",
            "Epoch 35, cost 0.146, grad of m 0.106, grad of b -0.368\n",
            "Epoch 36, cost 0.139, grad of m 0.0493, grad of b -0.369\n",
            "Epoch 37, cost 0.132, grad of m 0.092, grad of b -0.349\n",
            "Epoch 38, cost 0.126, grad of m 0.0531, grad of b -0.346\n",
            "Epoch 39, cost 0.12, grad of m 0.0814, grad of b -0.33\n",
            "Epoch 40, cost 0.114, grad of m 0.0546, grad of b -0.326\n",
            "Epoch 41, cost 0.109, grad of m 0.0731, grad of b -0.312\n",
            "Epoch 42, cost 0.104, grad of m 0.0545, grad of b -0.307\n",
            "Epoch 43, cost 0.0988, grad of m 0.0665, grad of b -0.295\n",
            "Epoch 44, cost 0.0942, grad of m 0.0534, grad of b -0.289\n",
            "Epoch 45, cost 0.09, grad of m 0.061, grad of b -0.279\n",
            "Epoch 46, cost 0.086, grad of m 0.0518, grad of b -0.272\n",
            "Epoch 47, cost 0.0822, grad of m 0.0564, grad of b -0.263\n",
            "Epoch 48, cost 0.0786, grad of m 0.0497, grad of b -0.256\n",
            "Epoch 49, cost 0.0753, grad of m 0.0525, grad of b -0.248\n",
            "Epoch 50, cost 0.0721, grad of m 0.0475, grad of b -0.242\n",
            "Epoch 51, cost 0.0691, grad of m 0.049, grad of b -0.234\n",
            "Epoch 52, cost 0.0663, grad of m 0.0453, grad of b -0.228\n",
            "Epoch 53, cost 0.0636, grad of m 0.0458, grad of b -0.221\n",
            "Epoch 54, cost 0.0611, grad of m 0.043, grad of b -0.215\n",
            "Epoch 55, cost 0.0588, grad of m 0.043, grad of b -0.208\n",
            "Epoch 56, cost 0.0565, grad of m 0.0407, grad of b -0.203\n",
            "Epoch 57, cost 0.0544, grad of m 0.0404, grad of b -0.197\n",
            "Epoch 58, cost 0.0524, grad of m 0.0385, grad of b -0.191\n",
            "Epoch 59, cost 0.0506, grad of m 0.038, grad of b -0.186\n",
            "Epoch 60, cost 0.0488, grad of m 0.0364, grad of b -0.18\n",
            "Epoch 61, cost 0.0471, grad of m 0.0358, grad of b -0.175\n",
            "Epoch 62, cost 0.0456, grad of m 0.0344, grad of b -0.17\n",
            "Epoch 63, cost 0.0441, grad of m 0.0337, grad of b -0.165\n",
            "Epoch 64, cost 0.0427, grad of m 0.0325, grad of b -0.16\n",
            "Epoch 65, cost 0.0414, grad of m 0.0317, grad of b -0.156\n",
            "Epoch 66, cost 0.0401, grad of m 0.0307, grad of b -0.151\n",
            "Epoch 67, cost 0.0389, grad of m 0.0299, grad of b -0.147\n",
            "Epoch 68, cost 0.0378, grad of m 0.029, grad of b -0.143\n",
            "Epoch 69, cost 0.0368, grad of m 0.0282, grad of b -0.138\n",
            "Epoch 70, cost 0.0358, grad of m 0.0273, grad of b -0.135\n",
            "Epoch 71, cost 0.0349, grad of m 0.0266, grad of b -0.131\n",
            "Epoch 72, cost 0.034, grad of m 0.0258, grad of b -0.127\n",
            "Epoch 73, cost 0.0332, grad of m 0.0251, grad of b -0.123\n",
            "Epoch 74, cost 0.0324, grad of m 0.0243, grad of b -0.12\n",
            "Epoch 75, cost 0.0317, grad of m 0.0236, grad of b -0.116\n",
            "Epoch 76, cost 0.031, grad of m 0.0229, grad of b -0.113\n",
            "Epoch 77, cost 0.0303, grad of m 0.0223, grad of b -0.11\n",
            "Epoch 78, cost 0.0297, grad of m 0.0216, grad of b -0.106\n",
            "Epoch 79, cost 0.0291, grad of m 0.021, grad of b -0.103\n",
            "Epoch 80, cost 0.0286, grad of m 0.0204, grad of b -0.1\n",
            "Epoch 81, cost 0.0281, grad of m 0.0198, grad of b -0.0975\n",
            "Epoch 82, cost 0.0276, grad of m 0.0193, grad of b -0.0947\n",
            "Epoch 83, cost 0.0271, grad of m 0.0187, grad of b -0.092\n",
            "Epoch 84, cost 0.0267, grad of m 0.0182, grad of b -0.0893\n",
            "Epoch 85, cost 0.0263, grad of m 0.0176, grad of b -0.0867\n",
            "Epoch 86, cost 0.0259, grad of m 0.0171, grad of b -0.0842\n",
            "Epoch 87, cost 0.0255, grad of m 0.0166, grad of b -0.0818\n",
            "Epoch 88, cost 0.0252, grad of m 0.0162, grad of b -0.0794\n",
            "Epoch 89, cost 0.0248, grad of m 0.0157, grad of b -0.0772\n",
            "Epoch 90, cost 0.0245, grad of m 0.0152, grad of b -0.0749\n",
            "Epoch 91, cost 0.0242, grad of m 0.0148, grad of b -0.0728\n",
            "Epoch 92, cost 0.024, grad of m 0.0144, grad of b -0.0707\n",
            "Epoch 93, cost 0.0237, grad of m 0.014, grad of b -0.0686\n",
            "Epoch 94, cost 0.0235, grad of m 0.0136, grad of b -0.0667\n",
            "Epoch 95, cost 0.0233, grad of m 0.0132, grad of b -0.0647\n",
            "Epoch 96, cost 0.023, grad of m 0.0128, grad of b -0.0629\n",
            "Epoch 97, cost 0.0228, grad of m 0.0124, grad of b -0.0611\n",
            "Epoch 98, cost 0.0226, grad of m 0.0121, grad of b -0.0593\n",
            "Epoch 99, cost 0.0225, grad of m 0.0117, grad of b -0.0576\n"
          ],
          "name": "stdout"
        }
      ]
    },
    {
      "cell_type": "code",
      "metadata": {
        "id": "j0tQEN-ziFaX",
        "colab_type": "code",
        "outputId": "01acfbbf-43f1-41a6-9280-b956ccf2a75b",
        "colab": {
          "base_uri": "https://localhost:8080/",
          "height": 267
        }
      },
      "source": [
        "regression_plot(x, y, model.linear.weight, model.linear.bias)"
      ],
      "execution_count": 31,
      "outputs": [
        {
          "output_type": "display_data",
          "data": {
            "image/png": "[encoded data removed]",
            "text/plain": [
              "<Figure size 432x288 with 1 Axes>"
            ]
          },
          "metadata": {
            "tags": [],
            "needs_background": "light"
          }
        }
      ]
    },
    {
      "cell_type": "code",
      "metadata": {
        "id": "haaGTg7SiFaZ",
        "colab_type": "code",
        "colab": {}
      },
      "source": [
        ""
      ],
      "execution_count": 0,
      "outputs": []
    }
  ]
}